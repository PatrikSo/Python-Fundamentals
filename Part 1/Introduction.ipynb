{
 "cells": [
  {
   "cell_type": "markdown",
   "id": "ccf53d38",
   "metadata": {},
   "source": [
    "# Introduction Items!"
   ]
  },
  {
   "cell_type": "markdown",
   "id": "d2844c76",
   "metadata": {},
   "source": [
    "### Books for course:\n",
    " - Intro to Python for Computer Science and Data Science: Learning to Program with AI, Big Data and The Cloud\n",
    "        https://learning.oreilly.com/library/view/intro-to-python/9780135404799/\n",
    " - Python for Programmers\n",
    "        https://learning.oreilly.com/library/view/python-for-programmers/9780135231364/"
   ]
  },
  {
   "cell_type": "markdown",
   "id": "1ecc4d93",
   "metadata": {},
   "source": [
    "#### My Python-Power Playlist that includes Main video course and books + more\n",
    "\n",
    "https://learning.oreilly.com/playlists/02d97be6-e8e3-425c-b2f6-7dbc7c8374f0/"
   ]
  },
  {
   "cell_type": "markdown",
   "id": "86f4f79f",
   "metadata": {},
   "source": [
    "## Video series to follow along:\n",
    "https://learning.oreilly.com/videos/python-fundamentals/9780135917411/9780135917411-PFLL_Part1_Intro/"
   ]
  },
  {
   "cell_type": "markdown",
   "id": "88d0e18f",
   "metadata": {},
   "source": [
    "- lessons 1 - 10 are on python basics with some data science\n",
    "- lessons 11 - 16 are on case studies on advanced topics!"
   ]
  },
  {
   "cell_type": "markdown",
   "id": "ec2ea075",
   "metadata": {},
   "source": [
    "- Parts 1 to 5 will cover OO-programming, Procedural programming, and Functional-style programming\n",
    "- majority of python code is OO\n",
    "- big data driven applications are a big focus today\n",
    "- static, dynamic, interactive visualization covered as well! \n",
    "- covering steps for a data science study\n",
    "    - ceaning data, getting it, analyzing it, communicating results\n",
    "- NLP, Data Mining twitter, IBM Watson & Cognitive Computing, models in ML and DL, Big Data (Hadoop, Spark, NoSQL, IOT)\n",
    "\n",
    "- Python is a C based programming language"
   ]
  },
  {
   "cell_type": "markdown",
   "id": "698c957d",
   "metadata": {},
   "source": [
    "#### Personal note on how to open JupyterNotebooks on an External Drive\n",
    "jupyter notebook --notebook-dir=D:/"
   ]
  },
  {
   "cell_type": "markdown",
   "id": "350d62ae",
   "metadata": {},
   "source": [
    "### Source Code:\n",
    "https://github.com/pdeitel/PythonFundamentalsLiveLessons"
   ]
  },
  {
   "cell_type": "code",
   "execution_count": null,
   "id": "cd9a6c4d",
   "metadata": {},
   "outputs": [],
   "source": []
  }
 ],
 "metadata": {
  "kernelspec": {
   "display_name": "Python 3",
   "language": "python",
   "name": "python3"
  },
  "language_info": {
   "codemirror_mode": {
    "name": "ipython",
    "version": 3
   },
   "file_extension": ".py",
   "mimetype": "text/x-python",
   "name": "python",
   "nbconvert_exporter": "python",
   "pygments_lexer": "ipython3",
   "version": "3.9.3"
  }
 },
 "nbformat": 4,
 "nbformat_minor": 5
}
