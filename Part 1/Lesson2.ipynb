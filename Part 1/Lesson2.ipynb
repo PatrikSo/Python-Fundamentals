{
 "cells": [
  {
   "cell_type": "markdown",
   "id": "fda281c4-3376-4d60-a2c5-208e806b3ed4",
   "metadata": {},
   "source": [
    "- Python is a C based language, unlike C,Java,C++, Python is dynamically typed.\n",
    "- The other languages are statically types, you need to state a variable type in initialization (unlike dynamic)"
   ]
  },
  {
   "cell_type": "markdown",
   "id": "c3af6ca3-0d31-4712-8eb6-368d6a67840f",
   "metadata": {},
   "source": [
    "# Lesson 2"
   ]
  },
  {
   "cell_type": "code",
   "execution_count": 7,
   "id": "d62655a0-87f4-425f-93d8-31faf55ae96c",
   "metadata": {},
   "outputs": [],
   "source": [
    "x = 7  # dynamic assignment in python, dont need to list it as an int"
   ]
  },
  {
   "cell_type": "code",
   "execution_count": 3,
   "id": "d8e69350-7c6c-4509-b99e-a7a82aaea86c",
   "metadata": {},
   "outputs": [],
   "source": [
    "y = 3"
   ]
  },
  {
   "cell_type": "code",
   "execution_count": 6,
   "id": "a438ebc8-c056-426c-a6ea-30b8d281614e",
   "metadata": {},
   "outputs": [
    {
     "data": {
      "text/plain": [
       "10"
      ]
     },
     "execution_count": 6,
     "metadata": {},
     "output_type": "execute_result"
    }
   ],
   "source": [
    "x + y  # binary operator (2 inputs) */"
   ]
  },
  {
   "cell_type": "code",
   "execution_count": 8,
   "id": "3c36199e-d1aa-42e3-9062-e3f1a5b342ef",
   "metadata": {},
   "outputs": [
    {
     "data": {
      "text/plain": [
       "10"
      ]
     },
     "execution_count": 8,
     "metadata": {},
     "output_type": "execute_result"
    }
   ],
   "source": [
    "total = x + y\n",
    "total"
   ]
  },
  {
   "cell_type": "code",
   "execution_count": 9,
   "id": "abf8b6c2-85fb-4a95-b98e-6d1e7c3ffa0d",
   "metadata": {},
   "outputs": [],
   "source": [
    "# python is a case sensitive language, indentifiers (name of variables or functions, or classes, consist of as long as a digit doesnt start the name."
   ]
  },
  {
   "cell_type": "code",
   "execution_count": 11,
   "id": "47874599-80d4-412e-b113-f86ad9c0b7dd",
   "metadata": {},
   "outputs": [
    {
     "data": {
      "text/plain": [
       "int"
      ]
     },
     "execution_count": 11,
     "metadata": {},
     "output_type": "execute_result"
    }
   ],
   "source": [
    "type(x)  # gives type of object"
   ]
  },
  {
   "cell_type": "code",
   "execution_count": 12,
   "id": "53b4f677-3a66-455f-90d7-a42748bf4659",
   "metadata": {},
   "outputs": [
    {
     "data": {
      "text/plain": [
       "float"
      ]
     },
     "execution_count": 12,
     "metadata": {},
     "output_type": "execute_result"
    }
   ],
   "source": [
    "type(12.7)"
   ]
  },
  {
   "cell_type": "code",
   "execution_count": 16,
   "id": "cd993ec3-406d-402a-9338-c7bbc900abef",
   "metadata": {},
   "outputs": [
    {
     "data": {
      "text/plain": [
       "23.099999999999998"
      ]
     },
     "execution_count": 16,
     "metadata": {},
     "output_type": "execute_result"
    }
   ],
   "source": [
    "total = 10.7 + 12.2 + 0.2   #self-check 2.2\n",
    "total                       # not exactly 23.1, floating points aren't summed properly (depending on system)"
   ]
  },
  {
   "cell_type": "code",
   "execution_count": 17,
   "id": "fce4bec6-9167-42b1-8428-d47075bde234",
   "metadata": {},
   "outputs": [
    {
     "data": {
      "text/plain": [
       "28"
      ]
     },
     "execution_count": 17,
     "metadata": {},
     "output_type": "execute_result"
    }
   ],
   "source": [
    "7 * 4 # multiplication"
   ]
  },
  {
   "cell_type": "code",
   "execution_count": 19,
   "id": "38b692c7-c90d-4b48-b3bb-5e97da8d85fb",
   "metadata": {},
   "outputs": [
    {
     "data": {
      "text/plain": [
       "1024"
      ]
     },
     "execution_count": 19,
     "metadata": {},
     "output_type": "execute_result"
    }
   ],
   "source": [
    "2 ** 10 # exponentiation operator, not in other C languages!"
   ]
  },
  {
   "cell_type": "code",
   "execution_count": 21,
   "id": "0fb5f746-fc35-4e02-801d-67690198d512",
   "metadata": {},
   "outputs": [
    {
     "data": {
      "text/plain": [
       "3.0"
      ]
     },
     "execution_count": 21,
     "metadata": {},
     "output_type": "execute_result"
    }
   ],
   "source": [
    "9 ** (1 / 2) # square root"
   ]
  },
  {
   "cell_type": "code",
   "execution_count": 22,
   "id": "2f2b4652-a568-41c6-aa9a-0dd47bdc130a",
   "metadata": {},
   "outputs": [
    {
     "data": {
      "text/plain": [
       "1.75"
      ]
     },
     "execution_count": 22,
     "metadata": {},
     "output_type": "execute_result"
    }
   ],
   "source": [
    "7 / 4 # true division operator"
   ]
  },
  {
   "cell_type": "code",
   "execution_count": 27,
   "id": "30b65284-d931-4a4d-9464-1b801111cb7e",
   "metadata": {},
   "outputs": [
    {
     "data": {
      "text/plain": [
       "1"
      ]
     },
     "execution_count": 27,
     "metadata": {},
     "output_type": "execute_result"
    }
   ],
   "source": [
    "7 // 4 # floor division operator"
   ]
  },
  {
   "cell_type": "code",
   "execution_count": 24,
   "id": "1dda030b-531d-419c-84d1-75e88f263016",
   "metadata": {},
   "outputs": [
    {
     "data": {
      "text/plain": [
       "0"
      ]
     },
     "execution_count": 24,
     "metadata": {},
     "output_type": "execute_result"
    }
   ],
   "source": [
    "3 // 5"
   ]
  },
  {
   "cell_type": "code",
   "execution_count": 25,
   "id": "0f462abd-76ea-44ed-815c-3a3688c7035c",
   "metadata": {},
   "outputs": [
    {
     "data": {
      "text/plain": [
       "2"
      ]
     },
     "execution_count": 25,
     "metadata": {},
     "output_type": "execute_result"
    }
   ],
   "source": [
    "14 // 7"
   ]
  },
  {
   "cell_type": "code",
   "execution_count": 26,
   "id": "179e6cb6-c6de-4c2c-87e4-7c479fec3806",
   "metadata": {},
   "outputs": [
    {
     "data": {
      "text/plain": [
       "2.0"
      ]
     },
     "execution_count": 26,
     "metadata": {},
     "output_type": "execute_result"
    }
   ],
   "source": [
    "14 / 7"
   ]
  },
  {
   "cell_type": "code",
   "execution_count": 30,
   "id": "ffc578ea-2877-42c8-95e8-9e2ef8ed55b1",
   "metadata": {},
   "outputs": [
    {
     "data": {
      "text/plain": [
       "-4"
      ]
     },
     "execution_count": 30,
     "metadata": {},
     "output_type": "execute_result"
    }
   ],
   "source": [
    "-13 // 4 "
   ]
  },
  {
   "cell_type": "code",
   "execution_count": 29,
   "id": "b009ae47-2ef2-4f16-9cc4-2243d18a5e25",
   "metadata": {},
   "outputs": [
    {
     "data": {
      "text/plain": [
       "-3.25"
      ]
     },
     "execution_count": 29,
     "metadata": {},
     "output_type": "execute_result"
    }
   ],
   "source": [
    "-13 / 4"
   ]
  },
  {
   "cell_type": "code",
   "execution_count": 33,
   "id": "09e37f7f-ad06-4fe4-aaa0-b2ed30396676",
   "metadata": {},
   "outputs": [
    {
     "ename": "ZeroDivisionError",
     "evalue": "division by zero",
     "output_type": "error",
     "traceback": [
      "\u001b[1;31m---------------------------------------------------------------------------\u001b[0m",
      "\u001b[1;31mZeroDivisionError\u001b[0m                         Traceback (most recent call last)",
      "\u001b[1;32m~\\AppData\\Local\\Temp/ipykernel_13072/212267178.py\u001b[0m in \u001b[0;36m<module>\u001b[1;34m\u001b[0m\n\u001b[1;32m----> 1\u001b[1;33m \u001b[1;36m123\u001b[0m \u001b[1;33m/\u001b[0m \u001b[1;36m0\u001b[0m  \u001b[1;31m# many languages return infinity or negative infinity when dividing by 0, python returns an error\u001b[0m\u001b[1;33m\u001b[0m\u001b[1;33m\u001b[0m\u001b[0m\n\u001b[0m",
      "\u001b[1;31mZeroDivisionError\u001b[0m: division by zero"
     ]
    }
   ],
   "source": [
    "123 / 0  # many languages return infinity or negative infinity when dividing by 0, python returns an error"
   ]
  },
  {
   "cell_type": "code",
   "execution_count": 34,
   "id": "1e7821cc-0568-4f05-aca1-5864dd0f3fef",
   "metadata": {},
   "outputs": [
    {
     "ename": "NameError",
     "evalue": "name 'z' is not defined",
     "output_type": "error",
     "traceback": [
      "\u001b[1;31m---------------------------------------------------------------------------\u001b[0m",
      "\u001b[1;31mNameError\u001b[0m                                 Traceback (most recent call last)",
      "\u001b[1;32m~\\AppData\\Local\\Temp/ipykernel_13072/15293606.py\u001b[0m in \u001b[0;36m<module>\u001b[1;34m\u001b[0m\n\u001b[1;32m----> 1\u001b[1;33m \u001b[0mz\u001b[0m \u001b[1;33m+\u001b[0m \u001b[1;36m7\u001b[0m   \u001b[1;31m# z doesnt exist! NameError\u001b[0m\u001b[1;33m\u001b[0m\u001b[1;33m\u001b[0m\u001b[0m\n\u001b[0m",
      "\u001b[1;31mNameError\u001b[0m: name 'z' is not defined"
     ]
    }
   ],
   "source": [
    "z + 7   # z doesnt exist! NameError"
   ]
  },
  {
   "cell_type": "code",
   "execution_count": 35,
   "id": "ed31c76f-e0dc-4257-9ca0-dd4c992facb4",
   "metadata": {},
   "outputs": [
    {
     "data": {
      "text/plain": [
       "2"
      ]
     },
     "execution_count": 35,
     "metadata": {},
     "output_type": "execute_result"
    }
   ],
   "source": [
    "17 % 5  # remainder operator (modulo)"
   ]
  },
  {
   "cell_type": "code",
   "execution_count": 36,
   "id": "2c2354da-87e7-4fff-af34-b8b50cc539c2",
   "metadata": {},
   "outputs": [],
   "source": [
    "#all of these are in a straight line format, cant have \"regular\" fractions"
   ]
  },
  {
   "cell_type": "code",
   "execution_count": 37,
   "id": "44335099-8e33-4f55-b71d-348be8fb7a0c",
   "metadata": {},
   "outputs": [
    {
     "data": {
      "text/plain": [
       "80"
      ]
     },
     "execution_count": 37,
     "metadata": {},
     "output_type": "execute_result"
    }
   ],
   "source": [
    "10 * (5 + 3)"
   ]
  },
  {
   "cell_type": "code",
   "execution_count": 39,
   "id": "8f1feb09-9676-4581-a9f8-18906f822157",
   "metadata": {},
   "outputs": [
    {
     "data": {
      "text/plain": [
       "53"
      ]
     },
     "execution_count": 39,
     "metadata": {},
     "output_type": "execute_result"
    }
   ],
   "source": [
    "10 * 5 + 3   # precedence in operators! * is higher than +"
   ]
  },
  {
   "cell_type": "code",
   "execution_count": 42,
   "id": "63288e1b-5ee0-472e-a1f7-a66a4aba3e52",
   "metadata": {},
   "outputs": [
    {
     "data": {
      "text/plain": [
       "-3"
      ]
     },
     "execution_count": 42,
     "metadata": {},
     "output_type": "execute_result"
    }
   ],
   "source": [
    "# 2.3 self check, parenthesis aren't redeundant as we need them for wanted value\n",
    "3 * (4 - 5)"
   ]
  },
  {
   "cell_type": "code",
   "execution_count": 41,
   "id": "41d2e992-94e7-4e2d-af73-c7a63c60e07d",
   "metadata": {},
   "outputs": [
    {
     "data": {
      "text/plain": [
       "7"
      ]
     },
     "execution_count": 41,
     "metadata": {},
     "output_type": "execute_result"
    }
   ],
   "source": [
    "3 * 4 - 5"
   ]
  },
  {
   "cell_type": "code",
   "execution_count": 50,
   "id": "79994852-1808-465a-af20-6c6e9576dcec",
   "metadata": {},
   "outputs": [
    {
     "data": {
      "text/plain": [
       "262144"
      ]
     },
     "execution_count": 50,
     "metadata": {},
     "output_type": "execute_result"
    }
   ],
   "source": [
    "4 ** 3 ** 2 # evaluated left to right, one operator in all of python that has right to left associativity"
   ]
  },
  {
   "cell_type": "code",
   "execution_count": 46,
   "id": "c0b587e2-0628-44ba-963a-6250026f06db",
   "metadata": {},
   "outputs": [
    {
     "data": {
      "text/plain": [
       "4096"
      ]
     },
     "execution_count": 46,
     "metadata": {},
     "output_type": "execute_result"
    }
   ],
   "source": [
    "(4 ** 3) ** 2"
   ]
  },
  {
   "cell_type": "code",
   "execution_count": 48,
   "id": "47449125-3c10-4bca-8f92-3da53128fddd",
   "metadata": {},
   "outputs": [
    {
     "data": {
      "text/plain": [
       "262144"
      ]
     },
     "execution_count": 48,
     "metadata": {},
     "output_type": "execute_result"
    }
   ],
   "source": [
    "4 ** (3 ** 2) # this is redundant as these parenthesis aren't needed"
   ]
  },
  {
   "cell_type": "code",
   "execution_count": 54,
   "id": "f50d6ac7-81f3-4949-8fdc-2d1ec7f3e569",
   "metadata": {},
   "outputs": [
    {
     "name": "stdout",
     "output_type": "stream",
     "text": [
      "Welcome to Python!\n"
     ]
    }
   ],
   "source": [
    "print('Welcome to Python!') # can use '' or \"\" for strings!"
   ]
  },
  {
   "cell_type": "code",
   "execution_count": 53,
   "id": "2fa7d371-6956-4fca-8b80-0b9832ca85ee",
   "metadata": {},
   "outputs": [
    {
     "name": "stdout",
     "output_type": "stream",
     "text": [
      "Welcome to Python!\n"
     ]
    }
   ],
   "source": [
    "print(\"Welcome to Python!\")"
   ]
  },
  {
   "cell_type": "code",
   "execution_count": 59,
   "id": "935f3cdd-41da-4c7a-bdb5-fae5c2e8ff3e",
   "metadata": {},
   "outputs": [
    {
     "name": "stdout",
     "output_type": "stream",
     "text": [
      "Welcome to Python!\n"
     ]
    }
   ],
   "source": [
    "print(\"Welcome\", \"to\", \"Python!\") # print automatically adds \\n to end of print"
   ]
  },
  {
   "cell_type": "code",
   "execution_count": 58,
   "id": "f21fca32-fb80-4998-a9b6-510076153da6",
   "metadata": {},
   "outputs": [
    {
     "name": "stdout",
     "output_type": "stream",
     "text": [
      "Welcome\n",
      "to\n",
      "Python!\n"
     ]
    }
   ],
   "source": [
    "print('Welcome\\nto\\nPython!') # escape sequences!"
   ]
  },
  {
   "cell_type": "markdown",
   "id": "87de110c-8fc3-4223-aee0-6613aacdfa8f",
   "metadata": {},
   "source": [
    "#### Escape sequences:\n",
    "- \\n    newline\n",
    "- \\t    horizontal tab\n",
    "- \\\\\\    insert backslash\n",
    "- \\\\\"    insert double quotes\n",
    "- \\\\'    insert single quotes"
   ]
  },
  {
   "cell_type": "code",
   "execution_count": 61,
   "id": "c4dcef79-4669-41d4-b3b8-a0e80748ab62",
   "metadata": {},
   "outputs": [
    {
     "name": "stdout",
     "output_type": "stream",
     "text": [
      "this is a longer string, so we split it over two lines\n"
     ]
    }
   ],
   "source": [
    "print('this is a longer string, so we \\\n",
    "split it over two lines')                 # Python is strick about format, if you have multi-line code you need a \\"
   ]
  },
  {
   "cell_type": "code",
   "execution_count": 62,
   "id": "349578c5-1326-4dce-8375-a713c82420fa",
   "metadata": {},
   "outputs": [
    {
     "name": "stdout",
     "output_type": "stream",
     "text": [
      "Sum is 10\n"
     ]
    }
   ],
   "source": [
    "print('Sum is', 7 + 3)"
   ]
  },
  {
   "cell_type": "code",
   "execution_count": 64,
   "id": "6b2763e7-a8ed-47cb-ab67-bc3942ece2a7",
   "metadata": {},
   "outputs": [
    {
     "data": {
      "text/plain": [
       "str"
      ]
     },
     "execution_count": 64,
     "metadata": {},
     "output_type": "execute_result"
    }
   ],
   "source": [
    "# 2.4 self-check\n",
    "type('word')"
   ]
  },
  {
   "cell_type": "code",
   "execution_count": 65,
   "id": "a7bab3f4-7a95-47c8-8392-4acf24a707da",
   "metadata": {},
   "outputs": [
    {
     "name": "stdout",
     "output_type": "stream",
     "text": [
      "int(5.2) truncates 5.2 to 5\n"
     ]
    }
   ],
   "source": [
    "print('int(5.2)', 'truncates 5.2 to', int(5.2))"
   ]
  },
  {
   "cell_type": "code",
   "execution_count": 66,
   "id": "54c369c8-a910-41ae-a0d1-fe3cadadee9f",
   "metadata": {},
   "outputs": [
    {
     "name": "stdout",
     "output_type": "stream",
     "text": [
      "Display \"hi\" in quotes\n"
     ]
    }
   ],
   "source": [
    "# triple quoted strings are either ''' or \"\"\". try only using \"\"\"\n",
    "# uses for triple-quoted strings: Multiline strings, sring containing quotes, and Docstrings\n",
    "print('Display \"hi\" in quotes')"
   ]
  },
  {
   "cell_type": "code",
   "execution_count": 68,
   "id": "751de782-aaee-4a6a-ae4e-1e877026c777",
   "metadata": {},
   "outputs": [
    {
     "ename": "SyntaxError",
     "evalue": "invalid syntax (Temp/ipykernel_13072/102489360.py, line 1)",
     "output_type": "error",
     "traceback": [
      "\u001b[1;36m  File \u001b[1;32m\"C:\\Users\\patri\\AppData\\Local\\Temp/ipykernel_13072/102489360.py\"\u001b[1;36m, line \u001b[1;32m1\u001b[0m\n\u001b[1;33m    print('Display 'hi' in quotes')\u001b[0m\n\u001b[1;37m                    ^\u001b[0m\n\u001b[1;31mSyntaxError\u001b[0m\u001b[1;31m:\u001b[0m invalid syntax\n"
     ]
    }
   ],
   "source": [
    "print('Display 'hi' in quotes')"
   ]
  },
  {
   "cell_type": "code",
   "execution_count": 70,
   "id": "4e3c92ad-083d-4472-8387-cc7c120f8ffb",
   "metadata": {},
   "outputs": [
    {
     "name": "stdout",
     "output_type": "stream",
     "text": [
      "Display 'hi' in quotes\n"
     ]
    }
   ],
   "source": [
    "print(\"Display 'hi' in quotes\")"
   ]
  },
  {
   "cell_type": "code",
   "execution_count": 71,
   "id": "7310e73e-f8a9-49e5-9651-352fa55a6158",
   "metadata": {},
   "outputs": [
    {
     "name": "stdout",
     "output_type": "stream",
     "text": [
      "Display 'hi' in quotes\n"
     ]
    }
   ],
   "source": [
    "print('Display \\'hi\\' in quotes')"
   ]
  },
  {
   "cell_type": "code",
   "execution_count": 72,
   "id": "c316534d-0512-41cb-a901-6513d1d7fe36",
   "metadata": {},
   "outputs": [
    {
     "name": "stdout",
     "output_type": "stream",
     "text": [
      "Display \"hi\" in quotes\n"
     ]
    }
   ],
   "source": [
    "print(\"Display \\\"hi\\\" in quotes\")"
   ]
  },
  {
   "cell_type": "code",
   "execution_count": 73,
   "id": "11af6ac9-cb15-4a41-9072-993cc466600b",
   "metadata": {},
   "outputs": [
    {
     "name": "stdout",
     "output_type": "stream",
     "text": [
      "Display \"hi\" and 'hi' in quotes\n"
     ]
    }
   ],
   "source": [
    "print(\"\"\"Display \"hi\" and 'hi' in quotes\"\"\")"
   ]
  },
  {
   "cell_type": "code",
   "execution_count": 74,
   "id": "7d21fc9b-e9fe-4f5a-867d-d7a58ac6ea04",
   "metadata": {},
   "outputs": [],
   "source": [
    "triple_quoted_string = \"\"\"Display \"hi\" and 'hi' in quotes\"\"\""
   ]
  },
  {
   "cell_type": "code",
   "execution_count": 75,
   "id": "d0c06f43-9f07-4c84-b149-4d461b161b50",
   "metadata": {},
   "outputs": [
    {
     "data": {
      "text/plain": [
       "'Display \"hi\" and \\'hi\\' in quotes'"
      ]
     },
     "execution_count": 75,
     "metadata": {},
     "output_type": "execute_result"
    }
   ],
   "source": [
    "triple_quoted_string   # can press tab key to finish variable name"
   ]
  },
  {
   "cell_type": "code",
   "execution_count": 76,
   "id": "97e7b4d1-d29f-499d-af4b-af680e752e04",
   "metadata": {},
   "outputs": [
    {
     "name": "stdout",
     "output_type": "stream",
     "text": [
      "This is a lengthy\n",
      "    multiline string containing\n",
      "a few lines of text\n"
     ]
    }
   ],
   "source": [
    "# Self-check 2.5\n",
    "print(\"\"\"This is a lengthy\n",
    "    multiline string containing\n",
    "a few lines \\\n",
    "of text\"\"\")"
   ]
  },
  {
   "cell_type": "code",
   "execution_count": 1,
   "id": "4ea497e4-a968-4fe6-87ef-7e667085a66d",
   "metadata": {},
   "outputs": [
    {
     "data": {
      "text/plain": [
       "'This is a lengthy\\n    multiline string containing\\na few lines of text'"
      ]
     },
     "execution_count": 1,
     "metadata": {},
     "output_type": "execute_result"
    }
   ],
   "source": [
    "triple_q_exmple = \"\"\"This is a lengthy\n",
    "    multiline string containing\n",
    "a few lines \\\n",
    "of text\"\"\"\n",
    "\n",
    "triple_q_exmple"
   ]
  },
  {
   "cell_type": "code",
   "execution_count": 2,
   "id": "26bb8764-d44c-41a5-a277-1df0c0631943",
   "metadata": {},
   "outputs": [
    {
     "name": "stdin",
     "output_type": "stream",
     "text": [
      "What's your name?  patrik\n"
     ]
    },
    {
     "data": {
      "text/plain": [
       "'patrik'"
      ]
     },
     "execution_count": 2,
     "metadata": {},
     "output_type": "execute_result"
    }
   ],
   "source": [
    "name = input(\"What's your name? \")\n",
    "name"
   ]
  },
  {
   "cell_type": "code",
   "execution_count": 3,
   "id": "280c4b9c-a34e-4c87-8d78-116bf3afd5f6",
   "metadata": {},
   "outputs": [
    {
     "name": "stdout",
     "output_type": "stream",
     "text": [
      "patrik\n"
     ]
    }
   ],
   "source": [
    "print(name)"
   ]
  },
  {
   "cell_type": "code",
   "execution_count": 4,
   "id": "8c774248-e05e-465b-beab-3b617b3d925f",
   "metadata": {},
   "outputs": [
    {
     "name": "stdin",
     "output_type": "stream",
     "text": [
      "Enter first number:  7\n"
     ]
    }
   ],
   "source": [
    "value1 = input('Enter first number: ')"
   ]
  },
  {
   "cell_type": "code",
   "execution_count": 5,
   "id": "057cc0a3-178b-4a7f-90fa-192813c73b80",
   "metadata": {},
   "outputs": [
    {
     "name": "stdin",
     "output_type": "stream",
     "text": [
      "Enter second number:  3\n"
     ]
    }
   ],
   "source": [
    "value2 = input('Enter second number: ')"
   ]
  },
  {
   "cell_type": "code",
   "execution_count": 7,
   "id": "02a99872-0e6b-4fbd-808f-4deff646ccd0",
   "metadata": {},
   "outputs": [
    {
     "data": {
      "text/plain": [
       "'73'"
      ]
     },
     "execution_count": 7,
     "metadata": {},
     "output_type": "execute_result"
    }
   ],
   "source": [
    "value1 + value2           #input returns strings, not ints!"
   ]
  },
  {
   "cell_type": "code",
   "execution_count": 9,
   "id": "e468fe67-bbcd-4edd-92ce-5d2244e1e050",
   "metadata": {},
   "outputs": [
    {
     "data": {
      "text/plain": [
       "10"
      ]
     },
     "execution_count": 9,
     "metadata": {},
     "output_type": "execute_result"
    }
   ],
   "source": [
    "int(value1) + int(value2) #need to cast to get actual ints"
   ]
  },
  {
   "cell_type": "code",
   "execution_count": 10,
   "id": "f58c082a-cb0a-45a0-aa03-fac24b60477a",
   "metadata": {},
   "outputs": [
    {
     "name": "stdin",
     "output_type": "stream",
     "text": [
      "Enter another integer:  8\n"
     ]
    }
   ],
   "source": [
    "another_value = int(input('Enter another integer: '))"
   ]
  },
  {
   "cell_type": "code",
   "execution_count": 11,
   "id": "a3aafa19-eab4-43f5-81e2-061a8e75be8b",
   "metadata": {},
   "outputs": [
    {
     "data": {
      "text/plain": [
       "8"
      ]
     },
     "execution_count": 11,
     "metadata": {},
     "output_type": "execute_result"
    }
   ],
   "source": [
    "another_value"
   ]
  },
  {
   "cell_type": "code",
   "execution_count": 12,
   "id": "775475b5-c629-4117-a677-3eeb8504e803",
   "metadata": {},
   "outputs": [
    {
     "data": {
      "text/plain": [
       "15"
      ]
     },
     "execution_count": 12,
     "metadata": {},
     "output_type": "execute_result"
    }
   ],
   "source": [
    "int(value1) + another_value"
   ]
  },
  {
   "cell_type": "code",
   "execution_count": 13,
   "id": "2092fafb-f69e-4f6f-af5e-4bc8e0f356f7",
   "metadata": {},
   "outputs": [],
   "source": [
    "#ValueError appears when you have incorrect types being used"
   ]
  },
  {
   "cell_type": "code",
   "execution_count": 14,
   "id": "b51d301d-9c06-4937-a344-89cb4808cd80",
   "metadata": {},
   "outputs": [
    {
     "data": {
      "text/plain": [
       "True"
      ]
     },
     "execution_count": 14,
     "metadata": {},
     "output_type": "execute_result"
    }
   ],
   "source": [
    "7 > 4"
   ]
  },
  {
   "cell_type": "code",
   "execution_count": 15,
   "id": "d4a9bbb2-0571-4a90-aad7-ff4bbaf726ed",
   "metadata": {},
   "outputs": [
    {
     "data": {
      "text/plain": [
       "bool"
      ]
     },
     "execution_count": 15,
     "metadata": {},
     "output_type": "execute_result"
    }
   ],
   "source": [
    "type(True)"
   ]
  },
  {
   "cell_type": "markdown",
   "id": "b084c574-a88c-49a6-b792-c1643666ca3e",
   "metadata": {},
   "source": [
    "#### Comparison Operators\n",
    "-  .>    x greater than y\n",
    "- <    x less than y\n",
    "-  .>=   x greater than or equal to y\n",
    "- <=   x lower than or equal to\n",
    "- ==   x is equal to y\n",
    "- !=   x is not equal to y"
   ]
  },
  {
   "cell_type": "code",
   "execution_count": 16,
   "id": "e661df76-6057-4402-928a-bb08618c6d3a",
   "metadata": {},
   "outputs": [],
   "source": [
    "# fig02_01.py example used for if statements examples"
   ]
  },
  {
   "cell_type": "code",
   "execution_count": 17,
   "id": "d6b1d0f1-95bb-4edb-8e07-31a00ff6501c",
   "metadata": {},
   "outputs": [
    {
     "data": {
      "text/plain": [
       "True"
      ]
     },
     "execution_count": 17,
     "metadata": {},
     "output_type": "execute_result"
    }
   ],
   "source": [
    "x = 3\n",
    "1 <= x <= 5"
   ]
  },
  {
   "cell_type": "code",
   "execution_count": 18,
   "id": "5f7d2fd2-e03f-486d-9c80-d749a5e3f431",
   "metadata": {},
   "outputs": [
    {
     "ename": "SyntaxError",
     "evalue": "invalid syntax (Temp/ipykernel_32112/2504856475.py, line 2)",
     "output_type": "error",
     "traceback": [
      "\u001b[1;36m  File \u001b[1;32m\"C:\\Users\\patri\\AppData\\Local\\Temp/ipykernel_32112/2504856475.py\"\u001b[1;36m, line \u001b[1;32m2\u001b[0m\n\u001b[1;33m    7 =< 10\u001b[0m\n\u001b[1;37m       ^\u001b[0m\n\u001b[1;31mSyntaxError\u001b[0m\u001b[1;31m:\u001b[0m invalid syntax\n"
     ]
    }
   ],
   "source": [
    "# 2.7 self-check\n",
    "7 =< 10"
   ]
  },
  {
   "cell_type": "code",
   "execution_count": 19,
   "id": "0c0acc51-d9ca-4030-abab-fe49c40aee5f",
   "metadata": {},
   "outputs": [
    {
     "name": "stdout",
     "output_type": "stream",
     "text": [
      "True True False False False True\n"
     ]
    }
   ],
   "source": [
    "print(5<9, 5<=9, 5>9, 5>=9, 5==9, 5!=9)"
   ]
  },
  {
   "cell_type": "code",
   "execution_count": 21,
   "id": "bec91e07-381b-4cbf-ab06-d41bdacc5706",
   "metadata": {},
   "outputs": [
    {
     "data": {
      "text/plain": [
       "int"
      ]
     },
     "execution_count": 21,
     "metadata": {},
     "output_type": "execute_result"
    }
   ],
   "source": [
    "# every value in Python is an object, Python uses dynamic typing\n",
    "type(7)   #7 is an object of type int"
   ]
  },
  {
   "cell_type": "code",
   "execution_count": 23,
   "id": "5b558df2-ec08-4389-846f-c89015118fad",
   "metadata": {},
   "outputs": [
    {
     "data": {
      "text/plain": [
       "int"
      ]
     },
     "execution_count": 23,
     "metadata": {},
     "output_type": "execute_result"
    }
   ],
   "source": [
    "x = 7    #x is pointing at the value 7, the object 7\n",
    "type(x)"
   ]
  },
  {
   "cell_type": "code",
   "execution_count": 25,
   "id": "f9e33212-0b4d-48a4-9a8d-c6f489954432",
   "metadata": {},
   "outputs": [],
   "source": [
    "#objects that dont have variables refer to them are essentialy garbage, their memory is realeased after use and recycled \n",
    "#Python creates and rids of objects for you, don't need to worry about memory management "
   ]
  },
  {
   "cell_type": "code",
   "execution_count": 28,
   "id": "4286d502-2b9d-4cda-a734-1320f9635c38",
   "metadata": {},
   "outputs": [
    {
     "data": {
      "text/plain": [
       "float"
      ]
     },
     "execution_count": 28,
     "metadata": {},
     "output_type": "execute_result"
    }
   ],
   "source": [
    "x = 4.1  #x held an int, but it can be changed anytime\n",
    "type(x)"
   ]
  },
  {
   "cell_type": "code",
   "execution_count": 29,
   "id": "4d8ef369-4ee5-46de-90d4-1576afbce3ce",
   "metadata": {},
   "outputs": [
    {
     "data": {
      "text/plain": [
       "str"
      ]
     },
     "execution_count": 29,
     "metadata": {},
     "output_type": "execute_result"
    }
   ],
   "source": [
    "x = 'dog'\n",
    "type(x)"
   ]
  },
  {
   "cell_type": "code",
   "execution_count": 32,
   "id": "fa3e8f66-cfe5-40eb-b36b-6a8daa04e4a4",
   "metadata": {},
   "outputs": [],
   "source": [
    "# every time we change x, it's previous assigned object goes through garbage collection at runtime"
   ]
  },
  {
   "cell_type": "code",
   "execution_count": 31,
   "id": "4a3e93de-c4d3-4e22-8fa1-7c828872c406",
   "metadata": {},
   "outputs": [
    {
     "data": {
      "text/plain": [
       "float"
      ]
     },
     "execution_count": 31,
     "metadata": {},
     "output_type": "execute_result"
    }
   ],
   "source": [
    "# 2.8 self-check\n",
    "x = 7.5 * 3\n",
    "type(x)"
   ]
  },
  {
   "cell_type": "markdown",
   "id": "eeec2e0b-cc7b-4af3-a545-898864951fe7",
   "metadata": {},
   "source": [
    "#### Intro to Data Science, Basic Descriptive Statistics\n",
    "\n",
    "Descriptive statistics\n",
    "- min: smallest value in collection\n",
    "- max: largest value in collection\n",
    "- range: range of values from min. to max.\n",
    "- count: number of values in collection\n",
    "- sum: total of values in collection\n",
    "\n",
    "Measures of dispersion (measures of variability)\n",
    "- how spread out values are (variance and standard deviation)\n",
    "\n",
    "- covers fig02_02.py example\n",
    "- returns min value out of 3 provided values from user input\n",
    "\n",
    "- built-in functions min() and max() in standard library\n",
    "\n",
    "- range is the min through max\n",
    "- not the greatest way to determine distribution in data\n",
    "\n",
    "#### Functional-Style Programming\n",
    "- reduction: taking in many values and returns one\n",
    "- min & max are reductions!\n",
    "- sum, average, standard dev., variance are very popular reductions"
   ]
  },
  {
   "cell_type": "code",
   "execution_count": 34,
   "id": "9e790782-1e76-4edb-a22b-16ba26f7176a",
   "metadata": {},
   "outputs": [
    {
     "name": "stdout",
     "output_type": "stream",
     "text": [
      "min:  47 max:  95\n",
      "Range:  47 - 95\n"
     ]
    }
   ],
   "source": [
    "# 2.9 self-check\n",
    "\n",
    "mIn = min(47, 95, 88, 73, 88, 84)\n",
    "mAx = max(47, 95, 88, 73, 88, 84)\n",
    "\n",
    "\n",
    "print('min: ' , mIn, 'max: ', mAx)\n",
    "print('Range: ', mIn, '-', mAx)"
   ]
  },
  {
   "cell_type": "code",
   "execution_count": null,
   "id": "a7030c5c-d033-46d2-be6c-720a9669ab5f",
   "metadata": {},
   "outputs": [],
   "source": []
  }
 ],
 "metadata": {
  "kernelspec": {
   "display_name": "Python 3 (ipykernel)",
   "language": "python",
   "name": "python3"
  },
  "language_info": {
   "codemirror_mode": {
    "name": "ipython",
    "version": 3
   },
   "file_extension": ".py",
   "mimetype": "text/x-python",
   "name": "python",
   "nbconvert_exporter": "python",
   "pygments_lexer": "ipython3",
   "version": "3.8.11"
  }
 },
 "nbformat": 4,
 "nbformat_minor": 5
}
