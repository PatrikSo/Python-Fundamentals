{
 "cells": [
  {
   "cell_type": "markdown",
   "id": "278431fe",
   "metadata": {},
   "source": [
    "# Important Notes\n",
    "\n",
    "- Run Anaconda Prompt (cmd), run two commands for updates:\n",
    "    - conda update conda\n",
    "    - conda update --all\n",
    "- Run Anaconda Prompt as Administrator!\n",
    "\n",
    "- Two main package managers to use:\n",
    "    - conda\n",
    "    - pip\n",
    "- Personally have pip\n",
    "- we will be using both\n",
    "\n",
    "- installing jupyter-matplotlib\n",
    "    conda install -c conda-forge ipympl\n",
    "    conda install nodejs\n",
    "    jupyter labextension install @jupyter-widgets/jupyterlab-manager\n",
    "    jupyter labextension install jupyter-matplotlib\n",
    "    \n",
    "- Need a Twitter Developer Account for Data Mining done later.\n",
    "\n",
    "- Using Jupyter Notebook\n",
    "\n",
    "- in cmd type: jupyter lab (or jupyter notebook for older view)\n",
    "- ctrl-enter to run a cell\n",
    "- "
   ]
  }
 ],
 "metadata": {
  "kernelspec": {
   "display_name": "Python 3",
   "language": "python",
   "name": "python3"
  },
  "language_info": {
   "codemirror_mode": {
    "name": "ipython",
    "version": 3
   },
   "file_extension": ".py",
   "mimetype": "text/x-python",
   "name": "python",
   "nbconvert_exporter": "python",
   "pygments_lexer": "ipython3",
   "version": "3.9.3"
  }
 },
 "nbformat": 4,
 "nbformat_minor": 5
}
