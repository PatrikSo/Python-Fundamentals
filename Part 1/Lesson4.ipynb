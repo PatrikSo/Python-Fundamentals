{
 "cells": [
  {
   "cell_type": "markdown",
   "id": "3d9e2d89-31e0-4d92-abbd-ed8b9c63e809",
   "metadata": {},
   "source": [
    "# Lesson 4 - Functions\n",
    "\n",
    "- custom functions\n",
    "- OO programming pre-cursor\n",
    "- Import capabilities\n",
    "- Passing Data between functions (Call by Reference)\n",
    "- Random number generation\n",
    "- Tuples\n",
    "- Return multiple values from functions (using Tuples)\n",
    "- Packing tuples, Unpacking tuples\n",
    "- Scope\n",
    "- Default parameter values\n",
    "- Keyword arguments\n",
    "- Variable length argument list\n",
    "- Methods   (for objects!)"
   ]
  },
  {
   "cell_type": "code",
   "execution_count": 17,
   "id": "a00e8952-5e13-4bfe-8750-9ae63d5adc44",
   "metadata": {},
   "outputs": [
    {
     "data": {
      "text/plain": [
       "4"
      ]
     },
     "execution_count": 17,
     "metadata": {},
     "output_type": "execute_result"
    }
   ],
   "source": [
    "#defining a function\n",
    "\n",
    "def square(number):                               #indented section is called a suite, a suite under a function is called a block\n",
    "    \"\"\"Calculate the square of a number.\"\"\"       # doc-string, recommended in every function to tell what a function does, use \"\"\" strings!\n",
    "    return number ** 2                            # if no return, function returns None by default (functions ALWAYS return something)\n",
    "                                                  # number is a local variable, cannot use outside of function\n",
    "square(2)"
   ]
  },
  {
   "cell_type": "code",
   "execution_count": 14,
   "id": "c63b133e-965d-429c-b9f4-570580131005",
   "metadata": {},
   "outputs": [
    {
     "data": {
      "text/plain": [
       "4"
      ]
     },
     "execution_count": 14,
     "metadata": {},
     "output_type": "execute_result"
    }
   ],
   "source": [
    "def square2(number: int) -> int:           #same as above but requires an int input and require int output\n",
    "    \"\"\"Calculate the square of a number.\"\"\"\n",
    "    return number ** 2\n",
    "\n",
    "square2(2)"
   ]
  },
  {
   "cell_type": "code",
   "execution_count": 11,
   "id": "d1b25af6-1db2-4c45-81dc-6b2ab759c183",
   "metadata": {},
   "outputs": [
    {
     "data": {
      "text/plain": [
       "49"
      ]
     },
     "execution_count": 11,
     "metadata": {},
     "output_type": "execute_result"
    }
   ],
   "source": [
    "x = square(7)\n",
    "x"
   ]
  },
  {
   "cell_type": "code",
   "execution_count": 18,
   "id": "92a7722c-c35b-4330-bf27-fabd00ba6aa7",
   "metadata": {},
   "outputs": [
    {
     "data": {
      "text/plain": [
       "6.25"
      ]
     },
     "execution_count": 18,
     "metadata": {},
     "output_type": "execute_result"
    }
   ],
   "source": [
    "square(2.5)     "
   ]
  },
  {
   "cell_type": "code",
   "execution_count": 19,
   "id": "c642e415-d0de-4f2a-8435-9fc755cf5fcb",
   "metadata": {},
   "outputs": [
    {
     "data": {
      "text/plain": [
       "6.25"
      ]
     },
     "execution_count": 19,
     "metadata": {},
     "output_type": "execute_result"
    }
   ],
   "source": [
    "square2(2.5)"
   ]
  },
  {
   "cell_type": "code",
   "execution_count": 28,
   "id": "f267c75e-ee73-4de3-800f-8c6df1d62a79",
   "metadata": {},
   "outputs": [
    {
     "data": {
      "text/plain": [
       "\u001b[1;31mSignature:\u001b[0m \u001b[0msquare\u001b[0m\u001b[1;33m(\u001b[0m\u001b[0mnumber\u001b[0m\u001b[1;33m)\u001b[0m\u001b[1;33m\u001b[0m\u001b[1;33m\u001b[0m\u001b[0m\n",
       "\u001b[1;31mDocstring:\u001b[0m Calculate the square of a number.\n",
       "\u001b[1;31mFile:\u001b[0m      c:\\users\\patri\\appdata\\local\\temp\\ipykernel_14536\\494681122.py\n",
       "\u001b[1;31mType:\u001b[0m      function\n"
      ]
     },
     "metadata": {},
     "output_type": "display_data"
    }
   ],
   "source": [
    "square?"
   ]
  },
  {
   "cell_type": "code",
   "execution_count": 29,
   "id": "c7216d80-0ae7-433a-be1b-43e0f1e964ff",
   "metadata": {},
   "outputs": [
    {
     "data": {
      "text/plain": [
       "\u001b[1;31mSignature:\u001b[0m \u001b[0msquare\u001b[0m\u001b[1;33m(\u001b[0m\u001b[0mnumber\u001b[0m\u001b[1;33m)\u001b[0m\u001b[1;33m\u001b[0m\u001b[1;33m\u001b[0m\u001b[0m\n",
       "\u001b[1;31mSource:\u001b[0m   \n",
       "\u001b[1;32mdef\u001b[0m \u001b[0msquare\u001b[0m\u001b[1;33m(\u001b[0m\u001b[0mnumber\u001b[0m\u001b[1;33m)\u001b[0m\u001b[1;33m:\u001b[0m                               \u001b[1;31m#indented section is called a suite, a suite under a function is called a block\u001b[0m\u001b[1;33m\n",
       "\u001b[0m    \u001b[1;34m\"\"\"Calculate the square of a number.\"\"\"\u001b[0m       \u001b[1;31m# doc-string, recommended in every function to tell what a function does, use \"\"\" strings!\u001b[0m\u001b[1;33m\n",
       "\u001b[0m    \u001b[1;32mreturn\u001b[0m \u001b[0mnumber\u001b[0m \u001b[1;33m**\u001b[0m \u001b[1;36m2\u001b[0m                            \u001b[1;31m# if no return, function returns None by default (functions ALWAYS return something)\u001b[0m\u001b[1;33m\n",
       "\u001b[0m                                                  \u001b[1;31m# number is a local variable, cannot use outside of function\u001b[0m\u001b[1;33m\u001b[0m\u001b[1;33m\u001b[0m\u001b[1;33m\u001b[0m\u001b[0m\n",
       "\u001b[1;31mFile:\u001b[0m      c:\\users\\patri\\appdata\\local\\temp\\ipykernel_14536\\494681122.py\n",
       "\u001b[1;31mType:\u001b[0m      function\n"
      ]
     },
     "metadata": {},
     "output_type": "display_data"
    }
   ],
   "source": [
    "square??"
   ]
  },
  {
   "cell_type": "code",
   "execution_count": 30,
   "id": "da066fbc-2261-4016-9967-3ba3ebe86b54",
   "metadata": {},
   "outputs": [],
   "source": [
    "# using one ? gives us basic function info\n",
    "# using two ?? gives us more info on function"
   ]
  },
  {
   "cell_type": "code",
   "execution_count": 31,
   "id": "a9a8231c-d17b-4460-934a-46615c83b9a4",
   "metadata": {},
   "outputs": [
    {
     "data": {
      "text/plain": [
       "\u001b[1;31mSignature:\u001b[0m \u001b[0msum\u001b[0m\u001b[1;33m(\u001b[0m\u001b[0miterable\u001b[0m\u001b[1;33m,\u001b[0m \u001b[1;33m/\u001b[0m\u001b[1;33m,\u001b[0m \u001b[0mstart\u001b[0m\u001b[1;33m=\u001b[0m\u001b[1;36m0\u001b[0m\u001b[1;33m)\u001b[0m\u001b[1;33m\u001b[0m\u001b[1;33m\u001b[0m\u001b[0m\n",
       "\u001b[1;31mDocstring:\u001b[0m\n",
       "Return the sum of a 'start' value (default: 0) plus an iterable of numbers\n",
       "\n",
       "When the iterable is empty, return the start value.\n",
       "This function is intended specifically for use with numeric values and may\n",
       "reject non-numeric types.\n",
       "\u001b[1;31mType:\u001b[0m      builtin_function_or_method\n"
      ]
     },
     "metadata": {},
     "output_type": "display_data"
    }
   ],
   "source": [
    "sum??"
   ]
  },
  {
   "cell_type": "code",
   "execution_count": 35,
   "id": "8616ffb8-ec3e-4e0e-b789-bb14e7c0433e",
   "metadata": {},
   "outputs": [],
   "source": [
    "# if info is not available a ?? will be treated as a single ? We didn't define sum so it's using the default Python sum()"
   ]
  },
  {
   "cell_type": "code",
   "execution_count": 33,
   "id": "4581602d-7ec2-4469-9198-35de276c11a4",
   "metadata": {},
   "outputs": [],
   "source": [
    "import statistics"
   ]
  },
  {
   "cell_type": "code",
   "execution_count": 34,
   "id": "96c873ed-f302-498e-8319-c0254bee89d0",
   "metadata": {},
   "outputs": [
    {
     "data": {
      "text/plain": [
       "\u001b[1;31mType:\u001b[0m        module\n",
       "\u001b[1;31mString form:\u001b[0m <module 'statistics' from 'D:\\\\Anaconda\\\\lib\\\\statistics.py'>\n",
       "\u001b[1;31mFile:\u001b[0m        d:\\anaconda\\lib\\statistics.py\n",
       "\u001b[1;31mDocstring:\u001b[0m  \n",
       "Basic statistics module.\n",
       "\n",
       "This module provides functions for calculating statistics of data, including\n",
       "averages, variance, and standard deviation.\n",
       "\n",
       "Calculating averages\n",
       "--------------------\n",
       "\n",
       "==================  ==================================================\n",
       "Function            Description\n",
       "==================  ==================================================\n",
       "mean                Arithmetic mean (average) of data.\n",
       "fmean               Fast, floating point arithmetic mean.\n",
       "geometric_mean      Geometric mean of data.\n",
       "harmonic_mean       Harmonic mean of data.\n",
       "median              Median (middle value) of data.\n",
       "median_low          Low median of data.\n",
       "median_high         High median of data.\n",
       "median_grouped      Median, or 50th percentile, of grouped data.\n",
       "mode                Mode (most common value) of data.\n",
       "multimode           List of modes (most common values of data).\n",
       "quantiles           Divide data into intervals with equal probability.\n",
       "==================  ==================================================\n",
       "\n",
       "Calculate the arithmetic mean (\"the average\") of data:\n",
       "\n",
       ">>> mean([-1.0, 2.5, 3.25, 5.75])\n",
       "2.625\n",
       "\n",
       "\n",
       "Calculate the standard median of discrete data:\n",
       "\n",
       ">>> median([2, 3, 4, 5])\n",
       "3.5\n",
       "\n",
       "\n",
       "Calculate the median, or 50th percentile, of data grouped into class intervals\n",
       "centred on the data values provided. E.g. if your data points are rounded to\n",
       "the nearest whole number:\n",
       "\n",
       ">>> median_grouped([2, 2, 3, 3, 3, 4])  #doctest: +ELLIPSIS\n",
       "2.8333333333...\n",
       "\n",
       "This should be interpreted in this way: you have two data points in the class\n",
       "interval 1.5-2.5, three data points in the class interval 2.5-3.5, and one in\n",
       "the class interval 3.5-4.5. The median of these data points is 2.8333...\n",
       "\n",
       "\n",
       "Calculating variability or spread\n",
       "---------------------------------\n",
       "\n",
       "==================  =============================================\n",
       "Function            Description\n",
       "==================  =============================================\n",
       "pvariance           Population variance of data.\n",
       "variance            Sample variance of data.\n",
       "pstdev              Population standard deviation of data.\n",
       "stdev               Sample standard deviation of data.\n",
       "==================  =============================================\n",
       "\n",
       "Calculate the standard deviation of sample data:\n",
       "\n",
       ">>> stdev([2.5, 3.25, 5.5, 11.25, 11.75])  #doctest: +ELLIPSIS\n",
       "4.38961843444...\n",
       "\n",
       "If you have previously calculated the mean, you can pass it as the optional\n",
       "second argument to the four \"spread\" functions to avoid recalculating it:\n",
       "\n",
       ">>> data = [1, 2, 2, 4, 4, 4, 5, 6]\n",
       ">>> mu = mean(data)\n",
       ">>> pvariance(data, mu)\n",
       "2.5\n",
       "\n",
       "\n",
       "Exceptions\n",
       "----------\n",
       "\n",
       "A single exception is defined: StatisticsError is a subclass of ValueError.\n"
      ]
     },
     "metadata": {},
     "output_type": "display_data"
    }
   ],
   "source": [
    "statistics?"
   ]
  },
  {
   "cell_type": "code",
   "execution_count": 37,
   "id": "c0d3bd5c-7a17-4fad-950e-bf2d129b9535",
   "metadata": {},
   "outputs": [],
   "source": [
    "# ? also works on librarys/modules! Type q if it takes over a CLI interface"
   ]
  },
  {
   "cell_type": "code",
   "execution_count": 42,
   "id": "ea2ab41c-8e37-446a-b2a1-d6b0f7a68ad7",
   "metadata": {},
   "outputs": [
    {
     "data": {
      "text/plain": [
       "2.5"
      ]
     },
     "execution_count": 42,
     "metadata": {},
     "output_type": "execute_result"
    }
   ],
   "source": [
    "# self-check 4.2, biuld a square root function!\n",
    "\n",
    "def square_root(number):\n",
    "    \"\"\" Takes number and returns square root. \"\"\"\n",
    "    return number ** 0.5\n",
    "\n",
    "square_root(6.25)"
   ]
  },
  {
   "cell_type": "code",
   "execution_count": 43,
   "id": "23b68f47-9f07-4016-a3ff-01de0b32c528",
   "metadata": {},
   "outputs": [
    {
     "data": {
      "text/plain": [
       "\u001b[1;31mSignature:\u001b[0m \u001b[0msquare_root\u001b[0m\u001b[1;33m(\u001b[0m\u001b[0mnumber\u001b[0m\u001b[1;33m)\u001b[0m\u001b[1;33m\u001b[0m\u001b[1;33m\u001b[0m\u001b[0m\n",
       "\u001b[1;31mDocstring:\u001b[0m Takes number and returns square root. \n",
       "\u001b[1;31mFile:\u001b[0m      c:\\users\\patri\\appdata\\local\\temp\\ipykernel_14536\\1876512524.py\n",
       "\u001b[1;31mType:\u001b[0m      function\n"
      ]
     },
     "metadata": {},
     "output_type": "display_data"
    }
   ],
   "source": [
    "square_root?"
   ]
  },
  {
   "cell_type": "code",
   "execution_count": 44,
   "id": "c08fd1de-5980-4a7f-89ec-1392210eab3e",
   "metadata": {},
   "outputs": [
    {
     "data": {
      "text/plain": [
       "\u001b[1;31mSignature:\u001b[0m \u001b[0msquare_root\u001b[0m\u001b[1;33m(\u001b[0m\u001b[0mnumber\u001b[0m\u001b[1;33m)\u001b[0m\u001b[1;33m\u001b[0m\u001b[1;33m\u001b[0m\u001b[0m\n",
       "\u001b[1;31mSource:\u001b[0m   \n",
       "\u001b[1;32mdef\u001b[0m \u001b[0msquare_root\u001b[0m\u001b[1;33m(\u001b[0m\u001b[0mnumber\u001b[0m\u001b[1;33m)\u001b[0m\u001b[1;33m:\u001b[0m\u001b[1;33m\n",
       "\u001b[0m    \u001b[1;34m\"\"\" Takes number and returns square root. \"\"\"\u001b[0m\u001b[1;33m\n",
       "\u001b[0m    \u001b[1;32mreturn\u001b[0m \u001b[0mnumber\u001b[0m \u001b[1;33m**\u001b[0m \u001b[1;36m0.5\u001b[0m\u001b[1;33m\u001b[0m\u001b[1;33m\u001b[0m\u001b[0m\n",
       "\u001b[1;31mFile:\u001b[0m      c:\\users\\patri\\appdata\\local\\temp\\ipykernel_14536\\1876512524.py\n",
       "\u001b[1;31mType:\u001b[0m      function\n"
      ]
     },
     "metadata": {},
     "output_type": "display_data"
    }
   ],
   "source": [
    "square_root??"
   ]
  },
  {
   "cell_type": "code",
   "execution_count": 47,
   "id": "0da7f918-422b-45f2-9929-1281e27619d1",
   "metadata": {},
   "outputs": [
    {
     "data": {
      "text/plain": [
       "4"
      ]
     },
     "execution_count": 47,
     "metadata": {},
     "output_type": "execute_result"
    }
   ],
   "source": [
    "#function with multiple parameters\n",
    "\n",
    "def maximum(value1, value2, value3):\n",
    "    \"\"\" Return the max of three values. \"\"\"\n",
    "    max_value = value1\n",
    "    \n",
    "    if value2 > max_value:\n",
    "        max_value = value2                    # adding spaces between if's is 'proper' python setup\n",
    "        \n",
    "    if value3 > max_value:\n",
    "        max_value = value3\n",
    "        \n",
    "    return max_value\n",
    "        \n",
    "maximum(2,3,4)"
   ]
  },
  {
   "cell_type": "code",
   "execution_count": 48,
   "id": "318e662f-1576-47c1-b26a-04f4938071ed",
   "metadata": {},
   "outputs": [
    {
     "data": {
      "text/plain": [
       "45.6"
      ]
     },
     "execution_count": 48,
     "metadata": {},
     "output_type": "execute_result"
    }
   ],
   "source": [
    "maximum(12.3, 45.6, 9.7)"
   ]
  },
  {
   "cell_type": "code",
   "execution_count": 51,
   "id": "4d04a71c-f854-4efe-b335-09592204ed63",
   "metadata": {},
   "outputs": [
    {
     "data": {
      "text/plain": [
       "'yellow'"
      ]
     },
     "execution_count": 51,
     "metadata": {},
     "output_type": "execute_result"
    }
   ],
   "source": [
    "maximum('yellow', 'red', 'orange')        # is case sensitive, alphebetically ordered\n",
    "                                          # strings can be compared just as int's"
   ]
  },
  {
   "cell_type": "code",
   "execution_count": 52,
   "id": "28431ee7-261a-4621-9356-60f838d3713e",
   "metadata": {},
   "outputs": [
    {
     "data": {
      "text/plain": [
       "13.5"
      ]
     },
     "execution_count": 52,
     "metadata": {},
     "output_type": "execute_result"
    }
   ],
   "source": [
    "maximum(13.5, -3, 7)                      # floats and ints are compatible"
   ]
  },
  {
   "cell_type": "code",
   "execution_count": 53,
   "id": "4c6db0db-7fa0-4ee7-9983-51eebffb009e",
   "metadata": {},
   "outputs": [
    {
     "data": {
      "text/plain": [
       "'yellow'"
      ]
     },
     "execution_count": 53,
     "metadata": {},
     "output_type": "execute_result"
    }
   ],
   "source": [
    "max('yellow', 'red', 'orange', 'blue', 'green')"
   ]
  },
  {
   "cell_type": "code",
   "execution_count": 54,
   "id": "ce5d1115-7f72-4138-905a-7e2c6d046ceb",
   "metadata": {},
   "outputs": [
    {
     "data": {
      "text/plain": [
       "9"
      ]
     },
     "execution_count": 54,
     "metadata": {},
     "output_type": "execute_result"
    }
   ],
   "source": [
    "min(15, 9, 27, 14)"
   ]
  },
  {
   "cell_type": "code",
   "execution_count": 55,
   "id": "d8987953-0a70-4dcf-9862-325c732a042e",
   "metadata": {},
   "outputs": [
    {
     "data": {
      "text/plain": [
       "27"
      ]
     },
     "execution_count": 55,
     "metadata": {},
     "output_type": "execute_result"
    }
   ],
   "source": [
    "#self-check 4.3, use max() min() with list [14,27,5,3] and 'orange' seperatly\n",
    "max([14,27,5,3])"
   ]
  },
  {
   "cell_type": "code",
   "execution_count": 59,
   "id": "ffbee4ed-33ea-4cd0-b8ba-4cb008e5db9d",
   "metadata": {},
   "outputs": [
    {
     "data": {
      "text/plain": [
       "'a'"
      ]
     },
     "execution_count": 59,
     "metadata": {},
     "output_type": "execute_result"
    }
   ],
   "source": [
    "min('orange')        # no seperate character type, a character in Python is a single letter string"
   ]
  },
  {
   "cell_type": "code",
   "execution_count": 57,
   "id": "363fde8f-9c03-41c0-b791-27dd1e86be3a",
   "metadata": {},
   "outputs": [
    {
     "data": {
      "text/plain": [
       "'r'"
      ]
     },
     "execution_count": 57,
     "metadata": {},
     "output_type": "execute_result"
    }
   ],
   "source": [
    "max('orange')"
   ]
  },
  {
   "cell_type": "code",
   "execution_count": 58,
   "id": "4aab24ba-fb11-489b-9638-2e795f802401",
   "metadata": {},
   "outputs": [
    {
     "data": {
      "text/plain": [
       "[14, 36, 5, 3]"
      ]
     },
     "execution_count": 58,
     "metadata": {},
     "output_type": "execute_result"
    }
   ],
   "source": [
    "max([14,27,5,3],[14,36,5,3])"
   ]
  },
  {
   "cell_type": "code",
   "execution_count": 61,
   "id": "10bba926-1f69-48ef-9535-1e47335f5ae5",
   "metadata": {},
   "outputs": [],
   "source": [
    "#basic simulation in Python using random\n",
    "#producing reproducability "
   ]
  },
  {
   "cell_type": "code",
   "execution_count": 62,
   "id": "1a0a8c70-bef7-40c7-85a9-b08e5b514b8d",
   "metadata": {},
   "outputs": [],
   "source": [
    "import random       # random library/module"
   ]
  },
  {
   "cell_type": "code",
   "execution_count": 65,
   "id": "df32a472-5ada-46c8-bdca-168d43186b5e",
   "metadata": {},
   "outputs": [
    {
     "name": "stdout",
     "output_type": "stream",
     "text": [
      "4 1 2 4 1 3 5 4 5 5 "
     ]
    }
   ],
   "source": [
    "for roll in range(10):\n",
    "    print(random.randrange(1, 7) , end = ' ')"
   ]
  },
  {
   "cell_type": "code",
   "execution_count": 66,
   "id": "875393f3-51c8-459f-9436-365c5b1fd847",
   "metadata": {},
   "outputs": [],
   "source": [
    "# need to seed a random number generator to ensure you get the same results for reporducability in programs (coverred later)"
   ]
  },
  {
   "cell_type": "code",
   "execution_count": 67,
   "id": "e3970749-0627-44cb-abd9-900d1b4e5a93",
   "metadata": {},
   "outputs": [],
   "source": [
    "# covers fig04_01.py, rolls a dice 6 billion times"
   ]
  },
  {
   "cell_type": "code",
   "execution_count": 84,
   "id": "46aa2fcd-64d9-40a9-8b53-bd9b0d307946",
   "metadata": {},
   "outputs": [
    {
     "name": "stdout",
     "output_type": "stream",
     "text": [
      "Face    Frequency\n",
      "   1      1002165\n",
      "   2       999631\n",
      "   3       998928\n",
      "   4       999823\n",
      "   5      1000943\n",
      "   6       998510\n"
     ]
    }
   ],
   "source": [
    "# fig04_01.py        (copied from sources)\n",
    "\"\"\"Roll a six-sided die 6,000,000 times.\"\"\"\n",
    "import random\n",
    "\n",
    "# face frequency counters\n",
    "frequency1 = 0\n",
    "frequency2 = 0\n",
    "frequency3 = 0\n",
    "frequency4 = 0\n",
    "frequency5 = 0\n",
    "frequency6 = 0\n",
    "\n",
    "# 6,000,000 die rolls\n",
    "for roll in range(6_000_000):  # note underscore separators, improves readability! represents 6,000,000\n",
    "    face = random.randrange(1, 7)\n",
    "\n",
    "    # increment appropriate face counter\n",
    "    if face == 1:\n",
    "        frequency1 += 1\n",
    "    elif face == 2:\n",
    "        frequency2 += 1\n",
    "    elif face == 3:\n",
    "        frequency3 += 1\n",
    "    elif face == 4:\n",
    "        frequency4 += 1\n",
    "    elif face == 5:\n",
    "        frequency5 += 1\n",
    "    elif face == 6:\n",
    "        frequency6 += 1\n",
    "\n",
    "print(f'Face{\"Frequency\":>13}')   #Frequency right-aligned in a field of 13 characters\n",
    "print(f'{1:>4}{frequency1:>13}')  # each frequency is right-aligned in fields of 13 characters\n",
    "print(f'{2:>4}{frequency2:>13}')\n",
    "print(f'{3:>4}{frequency3:>13}')\n",
    "print(f'{4:>4}{frequency4:>13}')\n",
    "print(f'{5:>4}{frequency5:>13}')\n",
    "print(f'{6:>4}{frequency6:>13}')\n",
    "\n",
    "\n",
    "##########################################################################\n",
    "# (C) Copyright 2019 by Deitel & Associates, Inc. and                    #\n",
    "# Pearson Education, Inc. All Rights Reserved.                           #\n",
    "#                                                                        #\n",
    "# DISCLAIMER: The authors and publisher of this book have used their     #\n",
    "# best efforts in preparing the book. These efforts include the          #\n",
    "# development, research, and testing of the theories and programs        #\n",
    "# to determine their effectiveness. The authors and publisher make       #\n",
    "# no warranty of any kind, expressed or implied, with regard to these    #\n",
    "# programs or to the documentation contained in these books. The authors #\n",
    "# and publisher shall not be liable in any event for incidental or       #\n",
    "# consequential damages in connection with, or arising out of, the       #\n",
    "# furnishing, performance, or use of these programs.                     #\n",
    "##########################################################################\n"
   ]
  },
  {
   "cell_type": "code",
   "execution_count": 86,
   "id": "71829f89-9496-4ccc-a98d-14f8ce57f4a7",
   "metadata": {},
   "outputs": [
    {
     "name": "stdout",
     "output_type": "stream",
     "text": [
      "1 2 2 3 6 2 4 1 6 1 "
     ]
    }
   ],
   "source": [
    "# random library has seed capabilities, can input seed to reproduce results!\n",
    "\n",
    "random.seed(32)               # sets a seed!\n",
    "\n",
    "for roll in range(10):\n",
    "    print(random.randrange(1, 7) , end = ' ')"
   ]
  },
  {
   "cell_type": "code",
   "execution_count": 90,
   "id": "3d850ef9-9080-4796-aadf-d89ed0c021ac",
   "metadata": {},
   "outputs": [
    {
     "name": "stdout",
     "output_type": "stream",
     "text": [
      "1 3 5 3 1 5 6 4 3 5 "
     ]
    }
   ],
   "source": [
    "for roll in range(10):        # isn't the same as it isn't on seed 32\n",
    "    print(random.randrange(1, 7) , end = ' ')"
   ]
  },
  {
   "cell_type": "code",
   "execution_count": 89,
   "id": "24472594-350b-4be4-a303-607e1e95a9e4",
   "metadata": {},
   "outputs": [
    {
     "name": "stdout",
     "output_type": "stream",
     "text": [
      "1 2 2 3 6 2 4 1 6 1 "
     ]
    }
   ],
   "source": [
    "random.seed(32)                # now when we call seed 32 we get some reproducability!\n",
    "\n",
    "for roll in range(10):\n",
    "    print(random.randrange(1, 7) , end = ' ')"
   ]
  },
  {
   "cell_type": "code",
   "execution_count": 95,
   "id": "2e8ee38c-7671-4135-9124-6d496e9282f9",
   "metadata": {},
   "outputs": [
    {
     "name": "stdout",
     "output_type": "stream",
     "text": [
      "H T T H T T T H H H T T H H T H T H H H "
     ]
    }
   ],
   "source": [
    "#self-check 4.4, use for and randrange to simulate 20 coinflips, displaying H for heads and T for tails all on the same line, seperated by a space\n",
    "import random\n",
    "\n",
    "random.seed(100)\n",
    "\n",
    "for roll in range(20):\n",
    "    if random.randrange(0,2) == 0: \n",
    "        print('H',end=' ') \n",
    "    else: \n",
    "        print('T',end=' ')"
   ]
  },
  {
   "cell_type": "code",
   "execution_count": 97,
   "id": "022dc648-f7c4-4692-8f4b-32bd31ad1776",
   "metadata": {},
   "outputs": [
    {
     "name": "stdout",
     "output_type": "stream",
     "text": [
      "T T H H H T T T T T T H H T T T H T T T "
     ]
    }
   ],
   "source": [
    "for i in range(20):             # better solution\n",
    "    print('H' if random.randrange(2) == 0 else 'T', end=' ')"
   ]
  },
  {
   "cell_type": "code",
   "execution_count": 101,
   "id": "2cc4b623-b071-4d4b-9876-4146e06edb4e",
   "metadata": {},
   "outputs": [
    {
     "name": "stdout",
     "output_type": "stream",
     "text": [
      "Player rolled 1 + 5 = 6\n",
      "Point is 6\n",
      "Player rolled 2 + 3 = 5\n",
      "Player rolled 5 + 5 = 10\n",
      "Player rolled 2 + 6 = 8\n",
      "Player rolled 6 + 6 = 12\n",
      "Player rolled 5 + 3 = 8\n",
      "Player rolled 3 + 4 = 7\n",
      "Player loses!\n"
     ]
    }
   ],
   "source": [
    "# simulation, dice game called craps\n",
    "# roll 2 6-sided dice (1to6 spots)\n",
    "\n",
    "# if the sum is 7 or 11 on the first roll you win\n",
    "# if the sum is 2,3, or 12 on the first roll (called \"craps\"), you lose\n",
    "# if the sum is 4,5,6,8,9, or 10 on the first roll, that sum is your 'point'\n",
    "# to win, you must continue rolling the dice until you 'make your point' (until you roll that same point value)\n",
    "# you lose by rolling a 7 before making your point\n",
    "\n",
    "#script fig04_02.py\n",
    "\n",
    "import random\n",
    "\n",
    "def roll_dice():                     # function takes no input! Only returns our tuple\n",
    "    \"\"\"Roll two dice and return their face values as a tuple.\"\"\"\n",
    "    die1 = random.randrange(1,7)\n",
    "    die2 = random.randrange(1,7)\n",
    "    return (die1,die2)               # pack die face values into a tuple, returns more than 1 value!\n",
    "                                     # doesn't require parenthesis but should use! better readability and some cases require them\n",
    "\n",
    "def display_dice(dice):\n",
    "    \"\"\"Display one roll of the two dice.\"\"\"\n",
    "    die1, die2 = dice                # unpack the tuple into variables die1 and die2, dice is our tuple and die1 &die2 are taking it's values\n",
    "    print(f'Player rolled {die1} + {die2} = {sum(dice)}')\n",
    "    \n",
    "die_values = roll_dice()             # first-roll            where the logic of the program starts!\n",
    "display_dice(die_values)\n",
    "\n",
    "#determine game status and point, based on first roll\n",
    "sum_of_dice = sum(die_values)\n",
    "\n",
    "if sum_of_dice in (7, 11):           #win,    in operator check if the left side item is in the right-side collection\n",
    "    game_status = 'WON'\n",
    "elif sum_of_dice in (2,3,12):        #lose\n",
    "    game_status = 'LOST'\n",
    "else:                                #remember point, continue the game!\n",
    "    game_status = 'CONTINUE'\n",
    "    my_point = sum_of_dice\n",
    "    print('Point is', my_point)      # Python lets you define local variables that can be used outside of the block (game_status isn't only in if)\n",
    "                                     # Othe C based langiages woul make game_status only a local variable but Python lets you define vars like this\n",
    "# continue rolling until player wins or loses\n",
    "while game_status == 'CONTINUE':\n",
    "    die_values = roll_dice()\n",
    "    display_dice(die_values)\n",
    "    sum_of_dice = sum(die_values)\n",
    "    \n",
    "    if sum_of_dice == my_point:       #win by making a point\n",
    "        game_status = 'WON'\n",
    "    elif sum_of_dice == 7:            #lose by rolling 7\n",
    "        game_status = 'LOST'\n",
    "        \n",
    "#display \"wins\" or \"loses\" message\n",
    "if game_status == 'WON':\n",
    "    print('Player wins!')\n",
    "else:\n",
    "    print('Player loses!')\n",
    "        "
   ]
  },
  {
   "cell_type": "code",
   "execution_count": 102,
   "id": "793ca6ed-8ffd-4605-a04a-8a1ae7a4925b",
   "metadata": {},
   "outputs": [],
   "source": [
    "# Python lists can be changed anytime\n",
    "# Python tuples are immutable, cannot be changed! "
   ]
  },
  {
   "cell_type": "code",
   "execution_count": 105,
   "id": "d8165dfc-3db9-426a-9100-6dfeee8301a9",
   "metadata": {},
   "outputs": [
    {
     "name": "stdout",
     "output_type": "stream",
     "text": [
      "Student tuple:  ('Sue', [89, 94, 85])\n",
      "name: Sue, and grades: [89, 94, 85]\n"
     ]
    }
   ],
   "source": [
    "#self-check 4.5, pack a student tuple with name 'Sue' and list [89, 94, 85], display tuple, unpack it into variables name, grades, and display their values\n",
    "\n",
    "student = ('Sue',[89,94,85])                  # pack the tuple\n",
    "print('Student tuple: ', student)\n",
    "name, grades = student                        # unpack the tuple\n",
    "print(f'name: {name}, and grades: {grades}')"
   ]
  },
  {
   "cell_type": "code",
   "execution_count": 106,
   "id": "18e6adf9-2ce6-4544-8e19-c72fd7f72afd",
   "metadata": {},
   "outputs": [
    {
     "data": {
      "text/plain": [
       "30.0"
      ]
     },
     "execution_count": 106,
     "metadata": {},
     "output_type": "execute_result"
    }
   ],
   "source": [
    "# math module in python standard library!\n",
    "\n",
    "import math\n",
    "\n",
    "math.sqrt(900)                    #variables in math library can be overwritten! They can be set to other values, dont do this!"
   ]
  },
  {
   "cell_type": "code",
   "execution_count": 107,
   "id": "a244960e-0722-4878-8054-402e321db886",
   "metadata": {},
   "outputs": [
    {
     "data": {
      "text/plain": [
       "\u001b[1;31mSignature:\u001b[0m \u001b[0mmath\u001b[0m\u001b[1;33m.\u001b[0m\u001b[0mpow\u001b[0m\u001b[1;33m(\u001b[0m\u001b[0mx\u001b[0m\u001b[1;33m,\u001b[0m \u001b[0my\u001b[0m\u001b[1;33m,\u001b[0m \u001b[1;33m/\u001b[0m\u001b[1;33m)\u001b[0m\u001b[1;33m\u001b[0m\u001b[1;33m\u001b[0m\u001b[0m\n",
       "\u001b[1;31mDocstring:\u001b[0m Return x**y (x to the power of y).\n",
       "\u001b[1;31mType:\u001b[0m      builtin_function_or_method\n"
      ]
     },
     "metadata": {},
     "output_type": "display_data"
    }
   ],
   "source": [
    "math.pow?"
   ]
  },
  {
   "cell_type": "code",
   "execution_count": 108,
   "id": "20874cdd-a4d7-4e99-8fd1-43133671226f",
   "metadata": {},
   "outputs": [
    {
     "data": {
      "text/plain": [
       "10.0"
      ]
     },
     "execution_count": 108,
     "metadata": {},
     "output_type": "execute_result"
    }
   ],
   "source": [
    "math.fabs(-10)"
   ]
  },
  {
   "cell_type": "code",
   "execution_count": 111,
   "id": "c0cfe646-6e5b-4142-b635-7d05c0fe50b1",
   "metadata": {},
   "outputs": [],
   "source": [
    "# default parameter values, gives flexibility to call your function in different ways\n",
    "\n",
    "def rectangle_area(length=2, width=3):\n",
    "    \"\"\"Return a rectangle's area\"\"\"\n",
    "    return length * width\n",
    "\n",
    "# we can now call this function in several ways"
   ]
  },
  {
   "cell_type": "code",
   "execution_count": 112,
   "id": "123a1a15-853a-4f5d-aa3b-85551a737df7",
   "metadata": {},
   "outputs": [
    {
     "data": {
      "text/plain": [
       "6"
      ]
     },
     "execution_count": 112,
     "metadata": {},
     "output_type": "execute_result"
    }
   ],
   "source": [
    "rectangle_area()"
   ]
  },
  {
   "cell_type": "code",
   "execution_count": 114,
   "id": "df4278b1-1105-4b75-a2b7-afb578fe2f96",
   "metadata": {},
   "outputs": [
    {
     "data": {
      "text/plain": [
       "30"
      ]
     },
     "execution_count": 114,
     "metadata": {},
     "output_type": "execute_result"
    }
   ],
   "source": [
    "rectangle_area(10)       # makes length 10, width stays the same"
   ]
  },
  {
   "cell_type": "code",
   "execution_count": 117,
   "id": "a232432d-bbe8-418a-b1dd-e0ced9141057",
   "metadata": {},
   "outputs": [
    {
     "data": {
      "text/plain": [
       "50"
      ]
     },
     "execution_count": 117,
     "metadata": {},
     "output_type": "execute_result"
    }
   ],
   "source": [
    "rectangle_area(10, 5)    # now does regular function!"
   ]
  },
  {
   "cell_type": "code",
   "execution_count": 119,
   "id": "cdeec2f3-9d4e-444e-8133-c444ed8b7f84",
   "metadata": {},
   "outputs": [],
   "source": [
    "def rectangle_area2(length,width):       # no default parameters, we will use keyword arguments! (can be combined with default parameters, very common)\n",
    "    \"\"\"Return a rectangle's area\"\"\"\n",
    "    return length * width"
   ]
  },
  {
   "cell_type": "code",
   "execution_count": 123,
   "id": "b2f5759b-7897-4944-a62c-5b9c8c046925",
   "metadata": {},
   "outputs": [
    {
     "data": {
      "text/plain": [
       "30"
      ]
     },
     "execution_count": 123,
     "metadata": {},
     "output_type": "execute_result"
    }
   ],
   "source": [
    "rectangle_area2(length=10, width=3)  #same order passing"
   ]
  },
  {
   "cell_type": "code",
   "execution_count": 124,
   "id": "5a89668a-8361-4816-9a93-3568c9a8726b",
   "metadata": {},
   "outputs": [
    {
     "data": {
      "text/plain": [
       "20"
      ]
     },
     "execution_count": 124,
     "metadata": {},
     "output_type": "execute_result"
    }
   ],
   "source": [
    "rectangle_area2(width=2, length=10)  #automatically passes parameters to correct areas"
   ]
  },
  {
   "cell_type": "code",
   "execution_count": 125,
   "id": "14497bad-6e5c-4249-93e1-9255d90ac437",
   "metadata": {},
   "outputs": [],
   "source": [
    "def rectangle_area3(length=1,width=1):       # using default parameters & keyword arguments\n",
    "    \"\"\"Return a rectangle's area\"\"\"\n",
    "    return length * width"
   ]
  },
  {
   "cell_type": "code",
   "execution_count": 126,
   "id": "6b2a178b-fa25-4893-9305-a51341eaa558",
   "metadata": {},
   "outputs": [
    {
     "data": {
      "text/plain": [
       "20"
      ]
     },
     "execution_count": 126,
     "metadata": {},
     "output_type": "execute_result"
    }
   ],
   "source": [
    "rectangle_area3(width=20)"
   ]
  },
  {
   "cell_type": "code",
   "execution_count": 127,
   "id": "06ad1e2a-e174-4546-b8fb-bc5793f95ef8",
   "metadata": {},
   "outputs": [
    {
     "data": {
      "text/plain": [
       "10"
      ]
     },
     "execution_count": 127,
     "metadata": {},
     "output_type": "execute_result"
    }
   ],
   "source": [
    "rectangle_area3(length=10)"
   ]
  },
  {
   "cell_type": "code",
   "execution_count": 129,
   "id": "d6aeeed0-649a-43ff-b9e0-dcd4df946196",
   "metadata": {},
   "outputs": [],
   "source": [
    "# other languages normally require defining same function with several parameters but Python lets you define function once with different inputs\n",
    "# if we dont define defaults, we need to put the parameters in order when called"
   ]
  },
  {
   "cell_type": "code",
   "execution_count": 131,
   "id": "803a0654-9529-4bfc-9e35-a41214e31441",
   "metadata": {},
   "outputs": [],
   "source": [
    "#functions accepting an arbitrary number of arguments\n",
    "\n",
    "def average(*args):                    #args is a onvention, not a requirement\n",
    "    return sum(args) / len(args)       #args is a tuple packed with any input given"
   ]
  },
  {
   "cell_type": "code",
   "execution_count": 132,
   "id": "a7dbe661-f970-4781-ad2c-e0db138f1d6e",
   "metadata": {},
   "outputs": [
    {
     "data": {
      "text/plain": [
       "1.5"
      ]
     },
     "execution_count": 132,
     "metadata": {},
     "output_type": "execute_result"
    }
   ],
   "source": [
    "average(1,2)"
   ]
  },
  {
   "cell_type": "code",
   "execution_count": 133,
   "id": "e220b387-ebad-4e1f-a658-d7b4d56ec52f",
   "metadata": {},
   "outputs": [
    {
     "data": {
      "text/plain": [
       "5.5"
      ]
     },
     "execution_count": 133,
     "metadata": {},
     "output_type": "execute_result"
    }
   ],
   "source": [
    "average(1,2,3,4,5,6,7,8,9,10)"
   ]
  },
  {
   "cell_type": "code",
   "execution_count": 135,
   "id": "2e9c7bb3-f992-4b94-88c7-5d5f22b4c472",
   "metadata": {},
   "outputs": [
    {
     "ename": "ZeroDivisionError",
     "evalue": "division by zero",
     "output_type": "error",
     "traceback": [
      "\u001b[1;31m---------------------------------------------------------------------------\u001b[0m",
      "\u001b[1;31mZeroDivisionError\u001b[0m                         Traceback (most recent call last)",
      "\u001b[1;32m~\\AppData\\Local\\Temp/ipykernel_14536/187898080.py\u001b[0m in \u001b[0;36m<module>\u001b[1;34m\u001b[0m\n\u001b[1;32m----> 1\u001b[1;33m \u001b[0maverage\u001b[0m\u001b[1;33m(\u001b[0m\u001b[1;33m)\u001b[0m          \u001b[1;31m#zero division error as we have no error handling in our function\u001b[0m\u001b[1;33m\u001b[0m\u001b[1;33m\u001b[0m\u001b[0m\n\u001b[0m",
      "\u001b[1;32m~\\AppData\\Local\\Temp/ipykernel_14536/1801258460.py\u001b[0m in \u001b[0;36maverage\u001b[1;34m(*args)\u001b[0m\n\u001b[0;32m      2\u001b[0m \u001b[1;33m\u001b[0m\u001b[0m\n\u001b[0;32m      3\u001b[0m \u001b[1;32mdef\u001b[0m \u001b[0maverage\u001b[0m\u001b[1;33m(\u001b[0m\u001b[1;33m*\u001b[0m\u001b[0margs\u001b[0m\u001b[1;33m)\u001b[0m\u001b[1;33m:\u001b[0m                    \u001b[1;31m#args is a onvention, not a requirement\u001b[0m\u001b[1;33m\u001b[0m\u001b[1;33m\u001b[0m\u001b[0m\n\u001b[1;32m----> 4\u001b[1;33m     \u001b[1;32mreturn\u001b[0m \u001b[0msum\u001b[0m\u001b[1;33m(\u001b[0m\u001b[0margs\u001b[0m\u001b[1;33m)\u001b[0m \u001b[1;33m/\u001b[0m \u001b[0mlen\u001b[0m\u001b[1;33m(\u001b[0m\u001b[0margs\u001b[0m\u001b[1;33m)\u001b[0m       \u001b[1;31m#args is a tuple packed with any input given\u001b[0m\u001b[1;33m\u001b[0m\u001b[1;33m\u001b[0m\u001b[0m\n\u001b[0m",
      "\u001b[1;31mZeroDivisionError\u001b[0m: division by zero"
     ]
    }
   ],
   "source": [
    "average()          #zero division error as we have no error handling in our function"
   ]
  },
  {
   "cell_type": "code",
   "execution_count": 136,
   "id": "12f0324a-90b7-427b-b64a-ee9e1c156cee",
   "metadata": {},
   "outputs": [
    {
     "data": {
      "text/plain": [
       "85.5"
      ]
     },
     "execution_count": 136,
     "metadata": {},
     "output_type": "execute_result"
    }
   ],
   "source": [
    "grades = [88, 75, 96, 83]\n",
    "\n",
    "average(*grades)     #unpacks the list!"
   ]
  },
  {
   "cell_type": "code",
   "execution_count": 148,
   "id": "e1c4f0c7-c1fd-48cf-9208-d12e390fabb7",
   "metadata": {},
   "outputs": [],
   "source": [
    "#self-check 4.11, write calculate_product that recieves an arbitrary argument list and returns product of all the arguments\n",
    "\n",
    "def calculate_product(*args):         # reduction! Can make this a signle-line of code, covered later\n",
    "    total = 1\n",
    "    for num in args:\n",
    "        total *= num\n",
    "    return total"
   ]
  },
  {
   "cell_type": "code",
   "execution_count": 146,
   "id": "5bec8ef6-f00f-46a8-b6dc-2cb5584d9411",
   "metadata": {},
   "outputs": [
    {
     "data": {
      "text/plain": [
       "6000"
      ]
     },
     "execution_count": 146,
     "metadata": {},
     "output_type": "execute_result"
    }
   ],
   "source": [
    "calculate_product(10,20,30)"
   ]
  },
  {
   "cell_type": "code",
   "execution_count": 150,
   "id": "7268a32a-721c-4571-af87-9106c9a81875",
   "metadata": {},
   "outputs": [
    {
     "data": {
      "text/plain": [
       "15"
      ]
     },
     "execution_count": 150,
     "metadata": {},
     "output_type": "execute_result"
    }
   ],
   "source": [
    "calculate_product(*range(1,6,2))       #needs the *! * unpacks the values for input"
   ]
  },
  {
   "cell_type": "code",
   "execution_count": 157,
   "id": "069d5a47-6ee7-4583-a87f-30d8054d7877",
   "metadata": {},
   "outputs": [
    {
     "data": {
      "text/plain": [
       "'hello'"
      ]
     },
     "execution_count": 157,
     "metadata": {},
     "output_type": "execute_result"
    }
   ],
   "source": [
    "#functions stand alone\n",
    "#methods are part of a class\n",
    "\n",
    "s = 'Hello'       #string object 'Hello' with s pointer\n",
    "s.lower()         # using string methods in str library!"
   ]
  },
  {
   "cell_type": "code",
   "execution_count": 152,
   "id": "6e682ff5-0724-4799-a40f-7f08c86d2f1d",
   "metadata": {},
   "outputs": [
    {
     "data": {
      "text/plain": [
       "'HELLO'"
      ]
     },
     "execution_count": 152,
     "metadata": {},
     "output_type": "execute_result"
    }
   ],
   "source": [
    "s.upper()"
   ]
  },
  {
   "cell_type": "code",
   "execution_count": 155,
   "id": "5ca9cb72-2e84-4513-8851-b59a8df9c745",
   "metadata": {},
   "outputs": [
    {
     "data": {
      "text/plain": [
       "'Hello'"
      ]
     },
     "execution_count": 155,
     "metadata": {},
     "output_type": "execute_result"
    }
   ],
   "source": [
    "s                 # strings are immutable, original wont change"
   ]
  },
  {
   "cell_type": "markdown",
   "id": "281d4154-59b2-4c06-8678-26d6d21ebc1f",
   "metadata": {},
   "source": [
    "#### scope rules!\n",
    "- indentifiers have scopes\n",
    "- local scope: identifiers in blocks of a function\n",
    "- global scope: indentifiers outside any block\n",
    "- importing modules lets you use their global functions!"
   ]
  },
  {
   "cell_type": "code",
   "execution_count": 161,
   "id": "0cb0e59f-b77c-4d04-8ad6-ee2402bff063",
   "metadata": {},
   "outputs": [
    {
     "name": "stdout",
     "output_type": "stream",
     "text": [
      "x printed from global scope:  7\n"
     ]
    }
   ],
   "source": [
    "x = 7         #global variable x\n",
    "\n",
    "def access_global():\n",
    "    print('x printed from global scope: ', x)   #will use global scope as we didnt define local x\n",
    "    \n",
    "access_global()"
   ]
  },
  {
   "cell_type": "code",
   "execution_count": 165,
   "id": "0f7616ad-3443-49c4-b820-a6fa0b1aa1fd",
   "metadata": {},
   "outputs": [
    {
     "name": "stdout",
     "output_type": "stream",
     "text": [
      "x printed from try_to_modify_global: 3.5\n"
     ]
    }
   ],
   "source": [
    "# Python functions cannot alter global variables\n",
    "\n",
    "def try_to_modify_global():\n",
    "    x = 3.5                                     #makes new local x! Doesnt change global x\n",
    "    print('x printed from try_to_modify_global:', x)\n",
    "\n",
    "try_to_modify_global()"
   ]
  },
  {
   "cell_type": "code",
   "execution_count": 167,
   "id": "80bfd6e6-1977-45ee-9933-06ad990735af",
   "metadata": {},
   "outputs": [
    {
     "data": {
      "text/plain": [
       "7"
      ]
     },
     "execution_count": 167,
     "metadata": {},
     "output_type": "execute_result"
    }
   ],
   "source": [
    "x         # x is still 7!"
   ]
  },
  {
   "cell_type": "code",
   "execution_count": 170,
   "id": "4507d162-947d-4902-b40f-f13df24a969a",
   "metadata": {},
   "outputs": [
    {
     "name": "stdout",
     "output_type": "stream",
     "text": [
      "x printed from modify_global: hello\n"
     ]
    }
   ],
   "source": [
    "def modify_global():\n",
    "    global x                                    #need global keyword to call x in global scale\n",
    "    x = 'hello'\n",
    "    print('x printed from modify_global:', x)\n",
    "    \n",
    "modify_global()"
   ]
  },
  {
   "cell_type": "code",
   "execution_count": 169,
   "id": "df95a6b3-cd16-4ef1-a251-832be337b64a",
   "metadata": {},
   "outputs": [
    {
     "data": {
      "text/plain": [
       "'hello'"
      ]
     },
     "execution_count": 169,
     "metadata": {},
     "output_type": "execute_result"
    }
   ],
   "source": [
    "x"
   ]
  },
  {
   "cell_type": "code",
   "execution_count": 172,
   "id": "dd10a5d0-14c0-4e8b-80e5-14efe4a0b81f",
   "metadata": {},
   "outputs": [
    {
     "ename": "TypeError",
     "evalue": "'int' object is not callable",
     "output_type": "error",
     "traceback": [
      "\u001b[1;31m---------------------------------------------------------------------------\u001b[0m",
      "\u001b[1;31mTypeError\u001b[0m                                 Traceback (most recent call last)",
      "\u001b[1;32m~\\AppData\\Local\\Temp/ipykernel_14536/4049720449.py\u001b[0m in \u001b[0;36m<module>\u001b[1;34m\u001b[0m\n\u001b[0;32m      1\u001b[0m \u001b[0msum\u001b[0m \u001b[1;33m=\u001b[0m \u001b[1;36m10\u001b[0m \u001b[1;33m+\u001b[0m \u001b[1;36m5\u001b[0m\u001b[1;33m\u001b[0m\u001b[1;33m\u001b[0m\u001b[0m\n\u001b[1;32m----> 2\u001b[1;33m \u001b[0msum\u001b[0m\u001b[1;33m(\u001b[0m\u001b[1;33m[\u001b[0m\u001b[1;36m10\u001b[0m\u001b[1;33m,\u001b[0m \u001b[1;36m5\u001b[0m\u001b[1;33m]\u001b[0m\u001b[1;33m)\u001b[0m            \u001b[1;31m# we redefined sum as a variable, we cannot use the function anymore!\u001b[0m\u001b[1;33m\u001b[0m\u001b[1;33m\u001b[0m\u001b[0m\n\u001b[0m",
      "\u001b[1;31mTypeError\u001b[0m: 'int' object is not callable"
     ]
    }
   ],
   "source": [
    "sum = 10 + 5\n",
    "sum([10, 5])            # we redefined sum as a variable, we cannot use the function anymore!"
   ]
  },
  {
   "cell_type": "code",
   "execution_count": 173,
   "id": "09034046-01a8-435b-9219-f20b2b8206de",
   "metadata": {},
   "outputs": [
    {
     "data": {
      "text/plain": [
       "int"
      ]
     },
     "execution_count": 173,
     "metadata": {},
     "output_type": "execute_result"
    }
   ],
   "source": [
    "type(sum)"
   ]
  },
  {
   "cell_type": "code",
   "execution_count": 174,
   "id": "d8e967cc-31ae-4fbe-be62-44a9c8fe6e30",
   "metadata": {},
   "outputs": [
    {
     "data": {
      "text/plain": [
       "function"
      ]
     },
     "execution_count": 174,
     "metadata": {},
     "output_type": "execute_result"
    }
   ],
   "source": [
    "type(modify_global)"
   ]
  },
  {
   "cell_type": "code",
   "execution_count": 177,
   "id": "21e23796-cb4d-4e71-97b0-160ec063e3c4",
   "metadata": {},
   "outputs": [
    {
     "data": {
      "text/plain": [
       "builtin_function_or_method"
      ]
     },
     "execution_count": 177,
     "metadata": {},
     "output_type": "execute_result"
    }
   ],
   "source": [
    "type(max)"
   ]
  },
  {
   "cell_type": "code",
   "execution_count": 180,
   "id": "5f75600f-f56d-49d7-ade9-7eafd77b3366",
   "metadata": {},
   "outputs": [
    {
     "name": "stdout",
     "output_type": "stream",
     "text": [
      "11\n",
      "10\n"
     ]
    }
   ],
   "source": [
    "# import in python!\n",
    "\n",
    "import math                   # bring in module and can access it via .\n",
    "from decimal import Decimal   # lets us import a part of the library/module!\n",
    "\n",
    "from math import ceil, floor  # we can import sepcific functions/items!\n",
    "\n",
    "print(ceil(10.3))\n",
    "print(floor(10.7))"
   ]
  },
  {
   "cell_type": "code",
   "execution_count": 183,
   "id": "8d8e8720-a98a-4a54-ac56-8fadd1a9cb50",
   "metadata": {},
   "outputs": [
    {
     "data": {
      "text/plain": [
       "2.718281828459045"
      ]
     },
     "execution_count": 183,
     "metadata": {},
     "output_type": "execute_result"
    }
   ],
   "source": [
    "# wildcard import \n",
    "\n",
    "e = 'hello'                    # e is in the math library as a constant, we are re-writting it here\n",
    "from math import *             # we import every identifier and bring them into our scope!\n",
    "e                              # e is not 'hello' anymore"
   ]
  },
  {
   "cell_type": "code",
   "execution_count": 184,
   "id": "4e641c36-e111-4275-a80f-80d844807d45",
   "metadata": {},
   "outputs": [
    {
     "data": {
      "text/plain": [
       "74.33333333333333"
      ]
     },
     "execution_count": 184,
     "metadata": {},
     "output_type": "execute_result"
    }
   ],
   "source": [
    "import statistics as stats     # give it a shorthand name for convenience\n",
    "grades = [85, 93, 45]\n",
    "stats.mean(grades)"
   ]
  },
  {
   "cell_type": "code",
   "execution_count": 185,
   "id": "11d35b57-0102-436b-943f-ee3a630419d0",
   "metadata": {},
   "outputs": [],
   "source": [
    "# avoid wildcard imports!!!!!! Avoid *"
   ]
  },
  {
   "cell_type": "code",
   "execution_count": 187,
   "id": "cf9784f4-2265-4905-914c-635820b9d710",
   "metadata": {},
   "outputs": [
    {
     "data": {
      "text/plain": [
       "Decimal('6.25')"
      ]
     },
     "execution_count": 187,
     "metadata": {},
     "output_type": "execute_result"
    }
   ],
   "source": [
    "#self-check 4.14, import decimal module and shorthand name it to dec, then create a Decimal object with the value 2.5 and square it\n",
    "\n",
    "from decimal import Decimal as dec\n",
    "\n",
    "x = dec('2.5')\n",
    "x*x"
   ]
  },
  {
   "cell_type": "code",
   "execution_count": 189,
   "id": "088ec503-d58e-4727-b99d-8905825e9dba",
   "metadata": {},
   "outputs": [],
   "source": [
    "# Pass-by-value function recieves a copy of the argument values and work with that copy alone\n",
    "# Pass-by-reference function obtains where actual arguments are and can modify passed arguments original if mutable\n",
    "# Python, everything is Pass-by-reference! Very important in performance!\n",
    "# variables are only pointers"
   ]
  },
  {
   "cell_type": "code",
   "execution_count": 190,
   "id": "61c9187a-18e6-4946-8cad-116c41a721a9",
   "metadata": {},
   "outputs": [],
   "source": [
    "x = 7"
   ]
  },
  {
   "cell_type": "code",
   "execution_count": 196,
   "id": "cb85e092-303c-4d4e-b2fb-428c9f41bd17",
   "metadata": {},
   "outputs": [
    {
     "data": {
      "text/plain": [
       "140716228026304"
      ]
     },
     "execution_count": 196,
     "metadata": {},
     "output_type": "execute_result"
    }
   ],
   "source": [
    "id(x)                           # specific id to this variable! Objects identity! Memory address for item, id operator"
   ]
  },
  {
   "cell_type": "code",
   "execution_count": 195,
   "id": "75536ebb-9883-498c-908e-2e11b1956f32",
   "metadata": {},
   "outputs": [
    {
     "name": "stdout",
     "output_type": "stream",
     "text": [
      "id(number): 140716228026304\n"
     ]
    },
    {
     "data": {
      "text/plain": [
       "343"
      ]
     },
     "execution_count": 195,
     "metadata": {},
     "output_type": "execute_result"
    }
   ],
   "source": [
    "def cube(number):\n",
    "    print('id(number):', id(number))\n",
    "    return number ** 3\n",
    "\n",
    "cube(x)                         # can see by the id that the x is our original x!"
   ]
  },
  {
   "cell_type": "code",
   "execution_count": 198,
   "id": "64bba6a3-24c2-4050-a6fe-8f1893983239",
   "metadata": {},
   "outputs": [
    {
     "name": "stdout",
     "output_type": "stream",
     "text": [
      "number is x: True\n"
     ]
    },
    {
     "data": {
      "text/plain": [
       "343"
      ]
     },
     "execution_count": 198,
     "metadata": {},
     "output_type": "execute_result"
    }
   ],
   "source": [
    "def cube2(number):\n",
    "    print('number is x:', number is x)      # x is a global variable, using is operator to check if it IS x\n",
    "    return number ** 3\n",
    "\n",
    "cube2(x)  "
   ]
  },
  {
   "cell_type": "code",
   "execution_count": 203,
   "id": "468dcfec-e5c4-445e-89e4-36fd98aa15e1",
   "metadata": {},
   "outputs": [
    {
     "name": "stdout",
     "output_type": "stream",
     "text": [
      "id(number) before modifying number: 140716228026304\n",
      "id(number) after modifying number: 2710656231344\n"
     ]
    },
    {
     "data": {
      "text/plain": [
       "343"
      ]
     },
     "execution_count": 203,
     "metadata": {},
     "output_type": "execute_result"
    }
   ],
   "source": [
    "def cube3(number):\n",
    "    print('id(number) before modifying number:', id(number))\n",
    "    number **= 3                             # local variable! copy of the reference, refers to original int object\n",
    "    print('id(number) after modifying number:', id(number))\n",
    "    return number                            # so number is call/pass-by-reference\n",
    "\n",
    "cube3(x)"
   ]
  },
  {
   "cell_type": "code",
   "execution_count": 204,
   "id": "8ffc7b22-406a-4395-84db-72d8c7a5e76b",
   "metadata": {},
   "outputs": [],
   "source": [
    "# numeric types, strings, tuples (plus more) are immutable in Python"
   ]
  },
  {
   "cell_type": "code",
   "execution_count": 210,
   "id": "6e0ff920-e519-471f-9eaf-bab850f943af",
   "metadata": {},
   "outputs": [
    {
     "name": "stdout",
     "output_type": "stream",
     "text": [
      "15.5\n",
      "2710656231920\n",
      "31.0\n",
      "2710656231696\n"
     ]
    }
   ],
   "source": [
    "#self-check 4.15, create var width with val 15.5, show how modifying it creates a new object. Display width's identity and value before/after\n",
    "\n",
    "width = 15.5\n",
    "print(width)\n",
    "print(id(width))\n",
    "width *= 2\n",
    "print(width)\n",
    "print(id(width))"
   ]
  },
  {
   "cell_type": "markdown",
   "id": "814f84e9-59b7-4342-b891-e8f8603b3ebc",
   "metadata": {},
   "source": [
    "#### Programming paradigm's in python\n",
    "- functional style programming (Python is a general purpose language, supports: procedural programming, object-oriented programming, functional prog.)\n",
    "- Functional-style (as its not fully functional programming)\n",
    "- declaritive style\n",
    "- external iteration: we are getting all details for program, what & how to accomplish\n",
    "- Internal iteration: using libraries, iteration hidden under the hood\n",
    "- Declarative programming: specifying classes and which libraries use, but we dont need to specify what libraries do as they are defined\n",
    "- Pure functions: functions only dependant on their input"
   ]
  },
  {
   "cell_type": "code",
   "execution_count": 216,
   "id": "b554f42d-419d-4b67-a13f-15ad4a04d809",
   "metadata": {},
   "outputs": [
    {
     "data": {
      "text/plain": [
       "3"
      ]
     },
     "execution_count": 216,
     "metadata": {},
     "output_type": "execute_result"
    }
   ],
   "source": [
    "values = [1, 2, 3]\n",
    "max(values)          #functional style programming! using a function! Pure function as it only depends on parameter, so side-affects"
   ]
  },
  {
   "cell_type": "markdown",
   "id": "ce3c496c-a100-4dd2-95b0-a9dd9b05a3d9",
   "metadata": {},
   "source": [
    "#### Intro to Data Science: Measure of Dispersion\n",
    "- Measures of central tendency: mean, median, mode\n",
    "- categorize typical values in a group\n",
    "- population: entire group or collection\n",
    "- sample: subset of population\n",
    "- Measures of dispersion: (measures of vriability), how spread out values are"
   ]
  },
  {
   "cell_type": "code",
   "execution_count": 217,
   "id": "56667f9c-c7a5-4e67-b424-a76b5ec14f3e",
   "metadata": {},
   "outputs": [
    {
     "data": {
      "text/plain": [
       "2.25"
      ]
     },
     "execution_count": 217,
     "metadata": {},
     "output_type": "execute_result"
    }
   ],
   "source": [
    "# Variance,    get the mean, subtract it from each value in collection, square the results, calculate the mean of the squares, u have population variance now!\n",
    "# shows outliers, helpful for when you want to focus on outliers \n",
    "\n",
    "import statistics as stats\n",
    "\n",
    "stats.pvariance([1, 3, 4, 2, 6, 5, 3, 4, 5, 2])"
   ]
  },
  {
   "cell_type": "code",
   "execution_count": 220,
   "id": "156ed8a1-7ea4-42c8-bb0e-17ccd0c417ff",
   "metadata": {},
   "outputs": [
    {
     "data": {
      "text/plain": [
       "1.5"
      ]
     },
     "execution_count": 220,
     "metadata": {},
     "output_type": "execute_result"
    }
   ],
   "source": [
    "# Standard Deviation,     square root of variance, tones down the affect of outliers (may be better)\n",
    "\n",
    "stats.pstdev([1, 3, 4, 2, 6, 5, 3, 4, 5, 2])            #using the deviation method"
   ]
  },
  {
   "cell_type": "code",
   "execution_count": 221,
   "id": "1dc11553-14b8-4f89-b48d-3cddf89d577d",
   "metadata": {},
   "outputs": [
    {
     "data": {
      "text/plain": [
       "1.5"
      ]
     },
     "execution_count": 221,
     "metadata": {},
     "output_type": "execute_result"
    }
   ],
   "source": [
    "import math as m\n",
    "\n",
    "m.sqrt(stats.pvariance([1, 3, 4, 2, 6, 5, 3, 4, 5, 2]))  # squaring the variance!"
   ]
  },
  {
   "cell_type": "code",
   "execution_count": 222,
   "id": "e26310ba-5532-4093-8f09-4955950138aa",
   "metadata": {},
   "outputs": [],
   "source": [
    "# the smaller the variance and standard dev. the claser data values are to the mean\n",
    "# smaller implies there is less overall dispersion (spread) between values & mean"
   ]
  },
  {
   "cell_type": "markdown",
   "id": "bc654024-22de-4c8e-8bb5-326996786dfa",
   "metadata": {},
   "source": [
    "#### Advantage of Standard Deviation vs. Variance\n",
    "\n",
    "- std.dev. has same units as original measurements"
   ]
  },
  {
   "cell_type": "code",
   "execution_count": null,
   "id": "f78c6117-3185-4fe5-88f0-2908a51fcc57",
   "metadata": {},
   "outputs": [],
   "source": []
  }
 ],
 "metadata": {
  "kernelspec": {
   "display_name": "Python 3 (ipykernel)",
   "language": "python",
   "name": "python3"
  },
  "language_info": {
   "codemirror_mode": {
    "name": "ipython",
    "version": 3
   },
   "file_extension": ".py",
   "mimetype": "text/x-python",
   "name": "python",
   "nbconvert_exporter": "python",
   "pygments_lexer": "ipython3",
   "version": "3.8.11"
  }
 },
 "nbformat": 4,
 "nbformat_minor": 5
}
