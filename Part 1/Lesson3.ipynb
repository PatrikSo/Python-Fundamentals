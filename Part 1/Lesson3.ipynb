{
 "cells": [
  {
   "cell_type": "markdown",
   "id": "01732a3e-e77f-4aed-90f5-3ed508411013",
   "metadata": {},
   "source": [
    "# Lesson 3! \n",
    "\n",
    "- control statements\n",
    "- Python is a smaller language compared to other C languages\n",
    "- fewer control statements\n",
    "- if, if-else, if-elif-else, Augmented assignments, for, Sentinel-controlled iteration (while), Boolean operators (and, or, not), break and continue, functional style programming"
   ]
  },
  {
   "cell_type": "code",
   "execution_count": 1,
   "id": "f65daa00-ec0d-4102-ad1f-75a5b2ab792b",
   "metadata": {},
   "outputs": [
    {
     "name": "stdout",
     "output_type": "stream",
     "text": [
      "Passed\n"
     ]
    }
   ],
   "source": [
    "grade = 85\n",
    "if grade >= 60: \n",
    "    print('Passed')"
   ]
  },
  {
   "cell_type": "code",
   "execution_count": 6,
   "id": "4a11f041-1f92-434a-8def-6449da73fefc",
   "metadata": {},
   "outputs": [
    {
     "name": "stdin",
     "output_type": "stream",
     "text": [
      "Enter grade:  65\n"
     ]
    },
    {
     "name": "stdout",
     "output_type": "stream",
     "text": [
      "passed\n",
      "good job\n"
     ]
    }
   ],
   "source": [
    "grade = int(input('Enter grade: '))\n",
    "if grade >= 60:\n",
    "    print('passed')\n",
    "    print('good job')\n",
    "            "
   ]
  },
  {
   "cell_type": "code",
   "execution_count": 7,
   "id": "e7e92127-36c0-4c56-960f-2a5a81d6832e",
   "metadata": {},
   "outputs": [],
   "source": [
    "# blocks are defined by indentation, if statement's block is made up by indentation\n",
    "#without indentation you get a IndentationError\n",
    "# anything non-zero is treated as True, False if 0"
   ]
  },
  {
   "cell_type": "code",
   "execution_count": 8,
   "id": "6775e843-5323-4355-b59f-962e1f65bd77",
   "metadata": {},
   "outputs": [
    {
     "name": "stdout",
     "output_type": "stream",
     "text": [
      "True\n"
     ]
    }
   ],
   "source": [
    "if 1:\n",
    "    print('True')\n",
    "if 0:\n",
    "    print('False')"
   ]
  },
  {
   "cell_type": "code",
   "execution_count": 9,
   "id": "9d583e3a-8b38-44af-951c-8b971038984a",
   "metadata": {},
   "outputs": [
    {
     "name": "stdout",
     "output_type": "stream",
     "text": [
      "True\n"
     ]
    }
   ],
   "source": [
    "# non-empty string is considered True, empty string is considered False\n",
    "\n",
    "if 'Hi':\n",
    "    print('True')\n",
    "if '':\n",
    "    print('False')"
   ]
  },
  {
   "cell_type": "code",
   "execution_count": 10,
   "id": "83ce92f3-f21b-418d-af16-8387f9c048cd",
   "metadata": {},
   "outputs": [
    {
     "name": "stdout",
     "output_type": "stream",
     "text": [
      "Passed\n"
     ]
    }
   ],
   "source": [
    " # Self-check 3.5\n",
    "\n",
    "grade = 85\n",
    "if grade >= 60:\n",
    "    print('Passed')\n",
    "grade = 55\n",
    "if grade >= 60:\n",
    "    print('Passed')"
   ]
  },
  {
   "cell_type": "code",
   "execution_count": 11,
   "id": "8797d2dd-5f24-4be2-8e07-97977d74cd7d",
   "metadata": {},
   "outputs": [],
   "source": [
    "grade = 85"
   ]
  },
  {
   "cell_type": "code",
   "execution_count": 12,
   "id": "a815abdb-516d-4424-92e1-e3f8a8edd639",
   "metadata": {},
   "outputs": [
    {
     "name": "stdout",
     "output_type": "stream",
     "text": [
      "Passed\n"
     ]
    }
   ],
   "source": [
    "if grade >= 60:\n",
    "    print('Passed')\n",
    "else:\n",
    "    print('Failed')"
   ]
  },
  {
   "cell_type": "code",
   "execution_count": 13,
   "id": "4fd1d95a-98aa-45fd-b614-ec884fc73d8a",
   "metadata": {},
   "outputs": [
    {
     "name": "stdout",
     "output_type": "stream",
     "text": [
      "Failed\n"
     ]
    }
   ],
   "source": [
    "grade = 55\n",
    "if grade >= 60:\n",
    "    print('Passed')\n",
    "else:\n",
    "    print('Failed')"
   ]
  },
  {
   "cell_type": "code",
   "execution_count": 15,
   "id": "5514eb3d-12b1-4894-ab78-839cb19664b1",
   "metadata": {},
   "outputs": [
    {
     "name": "stdout",
     "output_type": "stream",
     "text": [
      "Failed\n"
     ]
    }
   ],
   "source": [
    "if grade >= 60:\n",
    "    result = 'Passed'\n",
    "else:\n",
    "    result = 'Failed'\n",
    "print(result)"
   ]
  },
  {
   "cell_type": "code",
   "execution_count": 16,
   "id": "2255b470-c0ed-4fa1-b408-83da59081418",
   "metadata": {},
   "outputs": [
    {
     "name": "stdout",
     "output_type": "stream",
     "text": [
      "Failed\n"
     ]
    }
   ],
   "source": [
    "result = ('Passed' if grade >= 60 else 'Failed') #conditional expression example\n",
    "print(result)"
   ]
  },
  {
   "cell_type": "code",
   "execution_count": 17,
   "id": "6db2037f-0e84-45f7-ba2d-0b0271bf12e4",
   "metadata": {},
   "outputs": [
    {
     "data": {
      "text/plain": [
       "'Failed'"
      ]
     },
     "execution_count": 17,
     "metadata": {},
     "output_type": "execute_result"
    }
   ],
   "source": [
    "'Passed' if grade >= 60 else 'Failed'"
   ]
  },
  {
   "cell_type": "code",
   "execution_count": 20,
   "id": "d3dd60b0-7138-4065-b4ca-29efab6cc4a1",
   "metadata": {},
   "outputs": [
    {
     "name": "stdout",
     "output_type": "stream",
     "text": [
      "Passed\n"
     ]
    }
   ],
   "source": [
    "grade = 77\n",
    "if grade >= 80:\n",
    "    print('Passed well')\n",
    "elif grade >= 60:\n",
    "    print('Passed')\n",
    "else:\n",
    "    print('Failed')"
   ]
  },
  {
   "cell_type": "code",
   "execution_count": 21,
   "id": "801eeca2-f742-4039-8fe9-4fbffb2a7b35",
   "metadata": {},
   "outputs": [
    {
     "ename": "SyntaxError",
     "evalue": "invalid syntax (Temp/ipykernel_2584/4272376689.py, line 9)",
     "output_type": "error",
     "traceback": [
      "\u001b[1;36m  File \u001b[1;32m\"C:\\Users\\patri\\AppData\\Local\\Temp/ipykernel_2584/4272376689.py\"\u001b[1;36m, line \u001b[1;32m9\u001b[0m\n\u001b[1;33m    elif grade >= 80:\u001b[0m\n\u001b[1;37m    ^\u001b[0m\n\u001b[1;31mSyntaxError\u001b[0m\u001b[1;31m:\u001b[0m invalid syntax\n"
     ]
    }
   ],
   "source": [
    "# self-check 3.6\n",
    "\n",
    "grade = 80\n",
    "\n",
    "if grade >= 90:\n",
    "    print('A')\n",
    "else:\n",
    "    print('Not A or B')\n",
    "elif grade >= 80:\n",
    "    print('B')"
   ]
  },
  {
   "cell_type": "code",
   "execution_count": 23,
   "id": "20df9539-a409-44bf-8f53-bdc0d6862b85",
   "metadata": {},
   "outputs": [
    {
     "data": {
      "text/plain": [
       "81"
      ]
     },
     "execution_count": 23,
     "metadata": {},
     "output_type": "execute_result"
    }
   ],
   "source": [
    "#Python only has For and While statements for loops\n",
    "\n",
    "product = 3\n",
    "\n",
    "while product <= 50:\n",
    "    product *= product\n",
    "    \n",
    "product"
   ]
  },
  {
   "cell_type": "code",
   "execution_count": 24,
   "id": "ef245f73-99aa-4b93-a205-7d3e41757f24",
   "metadata": {},
   "outputs": [
    {
     "data": {
      "text/plain": [
       "2401"
      ]
     },
     "execution_count": 24,
     "metadata": {},
     "output_type": "execute_result"
    }
   ],
   "source": [
    "# self-check 3.7     first power of 7 greater than 1000\n",
    "\n",
    "product = 7\n",
    "\n",
    "while product <= 1000:\n",
    "    product *= 7\n",
    "    \n",
    "product"
   ]
  },
  {
   "cell_type": "code",
   "execution_count": 26,
   "id": "7aca2a0e-f7be-4f2d-be2d-efe3ff900de7",
   "metadata": {},
   "outputs": [
    {
     "name": "stdout",
     "output_type": "stream",
     "text": [
      "P r o g r a m m i n g "
     ]
    }
   ],
   "source": [
    "# for loops iterate through a sequence\n",
    "\n",
    "for character in 'Programming': #character is our target variable, each letter in string is assigned to target variable and we can use it\n",
    "    print(character, end= ' ')  #end keyword appends its value to the end of the printed value"
   ]
  },
  {
   "cell_type": "code",
   "execution_count": 28,
   "id": "39b8e52f-fb6e-4fb6-b77f-e1ba0407e2d7",
   "metadata": {},
   "outputs": [
    {
     "name": "stdout",
     "output_type": "stream",
     "text": [
      "10, 20, 30\n"
     ]
    }
   ],
   "source": [
    "print(10, 20, 30, sep= ', ') #sep lets you define something to put inbetween arguments"
   ]
  },
  {
   "cell_type": "code",
   "execution_count": 31,
   "id": "fb6b6d59-7a3a-40c0-bacc-81839c972b22",
   "metadata": {},
   "outputs": [
    {
     "data": {
      "text/plain": [
       "25"
      ]
     },
     "execution_count": 31,
     "metadata": {},
     "output_type": "execute_result"
    }
   ],
   "source": [
    "total = 0\n",
    "\n",
    "for number in [2, -3, 0, 17, 9]:      #all lists are in brackets []\n",
    "    total += number\n",
    "    \n",
    "total"
   ]
  },
  {
   "cell_type": "code",
   "execution_count": 32,
   "id": "8b91d7a4-1aaf-4de6-a5a4-80c2e05283be",
   "metadata": {},
   "outputs": [],
   "source": [
    "#seen so far 2 sequence types (strings and lists)\n",
    "#tuples will be introduced later!"
   ]
  },
  {
   "cell_type": "code",
   "execution_count": 35,
   "id": "c72974b0-1229-45ce-ac6a-7b23a25943db",
   "metadata": {},
   "outputs": [
    {
     "name": "stdout",
     "output_type": "stream",
     "text": [
      "0 1 2 3 4 5 6 7 8 9 "
     ]
    }
   ],
   "source": [
    "#counter-contolled loop (iteration) using sequences in Python\n",
    "\n",
    "for counter in range(10):       #range, creates a sequence of integers up to, not including, given number\n",
    "    print(counter, end = ' ')\n",
    "    "
   ]
  },
  {
   "cell_type": "code",
   "execution_count": 2,
   "id": "efa14b2a-fed0-4533-8666-30041bb73f5d",
   "metadata": {},
   "outputs": [
    {
     "data": {
      "text/plain": [
       "500000500000"
      ]
     },
     "execution_count": 2,
     "metadata": {},
     "output_type": "execute_result"
    }
   ],
   "source": [
    "#self-check 3.8,       use range and for loop to calculate total from 0 to 1,000,000\n",
    "\n",
    "total = 0\n",
    "\n",
    "for num in range(1000001):   #off-by-one error, need to use 1000001 as it wont include 1000000 if u only put 1000000 in there\n",
    "    total += num\n",
    "    \n",
    "total\n",
    "\n",
    "# to restart kernal press 'esc' then 0 twice"
   ]
  },
  {
   "cell_type": "code",
   "execution_count": 3,
   "id": "ac4f9c7b-f6a9-4b1c-9dc1-2de4217b6344",
   "metadata": {},
   "outputs": [],
   "source": [
    "#Augmented assignments: +=, -=, *=, **=, /=, //=, %="
   ]
  },
  {
   "cell_type": "code",
   "execution_count": 7,
   "id": "1c3cdbd0-7a60-4933-b9fb-5ec02e2543fd",
   "metadata": {},
   "outputs": [
    {
     "data": {
      "text/plain": [
       "144"
      ]
     },
     "execution_count": 7,
     "metadata": {},
     "output_type": "execute_result"
    }
   ],
   "source": [
    "# self-check 3.9,     x with 12, square x's value\n",
    "\n",
    "x = 12\n",
    "\n",
    "x **= 2\n",
    "\n",
    "x"
   ]
  },
  {
   "cell_type": "code",
   "execution_count": 11,
   "id": "24c348ed-9ed6-4b10-81c0-73942da4a584",
   "metadata": {},
   "outputs": [],
   "source": [
    "# fig03_01.py example covered\n",
    "# iterables are sequences, lists and strings are iterable\n",
    "# python does not have ++ or --"
   ]
  },
  {
   "cell_type": "code",
   "execution_count": 13,
   "id": "68a91cf5-5142-4520-a839-e774db93b066",
   "metadata": {},
   "outputs": [
    {
     "name": "stdout",
     "output_type": "stream",
     "text": [
      "Class average is 5.0\n"
     ]
    }
   ],
   "source": [
    "average = 15 / 3 #python / always results in floating point, even with 2 ints provided\n",
    "print(f'Class average is {average}')   #format string, introduced in Python 3.6"
   ]
  },
  {
   "cell_type": "code",
   "execution_count": 17,
   "id": "bc53c0a4-b0bb-4e53-b346-3e43c3da5267",
   "metadata": {},
   "outputs": [
    {
     "name": "stdout",
     "output_type": "stream",
     "text": [
      "7 times 5 is 35\n"
     ]
    }
   ],
   "source": [
    "#self-check 3.10, use f-strings to display number1 & number2 in '7 times 5 is 35'\n",
    "\n",
    "number1 = 7\n",
    "number2 = 5\n",
    "\n",
    "print(f'{number1} times {number2} is { number1 * number2 }')\n",
    "#f-strings always start with a f"
   ]
  },
  {
   "cell_type": "code",
   "execution_count": 18,
   "id": "d4c23f60-6af0-4f4f-b07e-1a579c3985b9",
   "metadata": {},
   "outputs": [],
   "source": [
    "#fig03_02.py example covered\n",
    "#uses sentinel-controlled iteration for an unknown length of grades"
   ]
  },
  {
   "cell_type": "code",
   "execution_count": 20,
   "id": "12793571-1885-4e97-a272-92f5521c9d06",
   "metadata": {},
   "outputs": [
    {
     "name": "stdout",
     "output_type": "stream",
     "text": [
      "Average is 7.20\n"
     ]
    }
   ],
   "source": [
    "average = 36 / 5\n",
    "print(f'Average is {average:.2f}')"
   ]
  },
  {
   "cell_type": "code",
   "execution_count": 25,
   "id": "55d350b0-a675-46d0-a954-7913a12030be",
   "metadata": {},
   "outputs": [
    {
     "name": "stdout",
     "output_type": "stream",
     "text": [
      "5 6 7 8 9 "
     ]
    }
   ],
   "source": [
    "# sequence controlled iteration for specific number of iterations suing range with 1 argument/parameter\n",
    "# 3 different versions of range (all with different # of paramters)\n",
    "\n",
    "for number in range(5,10):     #range with 2 arguments, adds starting position\n",
    "    print(number, end = ' ')"
   ]
  },
  {
   "cell_type": "code",
   "execution_count": 24,
   "id": "283fbfe7-c257-4cc9-82cb-ac600d6169f2",
   "metadata": {},
   "outputs": [
    {
     "name": "stdout",
     "output_type": "stream",
     "text": [
      "2 4 6 8 10 12 14 16 18 "
     ]
    }
   ],
   "source": [
    "for number in range(2, 20, 2): # range with 3 arguments, adds 'step'\n",
    "    print(number, end = ' ')"
   ]
  },
  {
   "cell_type": "code",
   "execution_count": 26,
   "id": "c593985b-9ad2-4e0a-b1a8-62f3e15022b1",
   "metadata": {},
   "outputs": [
    {
     "name": "stdout",
     "output_type": "stream",
     "text": [
      "20 18 16 14 12 10 8 6 4 "
     ]
    }
   ],
   "source": [
    "for number in range(20, 2, -2): # can step backwards!\n",
    "    print(number, end = ' ')"
   ]
  },
  {
   "cell_type": "code",
   "execution_count": 32,
   "id": "7ffa681b-4cfb-4b8a-aeac-110f322d9db8",
   "metadata": {},
   "outputs": [],
   "source": [
    "#self-check 3.13\n",
    "\n",
    "for number in range(10, 0, 2):    #output empty, range has no numbers!|\n",
    "    print(number, end=' ')"
   ]
  },
  {
   "cell_type": "code",
   "execution_count": 33,
   "id": "2c649c62-56ce-4495-a6cd-1b4e86f893fa",
   "metadata": {},
   "outputs": [
    {
     "name": "stdout",
     "output_type": "stream",
     "text": [
      "99 88 77 66 55 44 33 22 11 0 "
     ]
    }
   ],
   "source": [
    "#use for, range, print to print 99,88,77,66,55,44,33,22,11,0, seperate by 1 space\n",
    "\n",
    "for num in range(99, -1, -11):\n",
    "    print(num, end=' ')"
   ]
  },
  {
   "cell_type": "code",
   "execution_count": 31,
   "id": "26c0e01d-0c63-469f-a1ee-a528dafef1b6",
   "metadata": {},
   "outputs": [
    {
     "data": {
      "text/plain": [
       "2550"
      ]
     },
     "execution_count": 31,
     "metadata": {},
     "output_type": "execute_result"
    }
   ],
   "source": [
    "#use for and range to sum even integers from 2 through 100 (includes 100)\n",
    "\n",
    "total = 0\n",
    "\n",
    "for num in range(100, -2, -2):\n",
    "    total += num\n",
    "    \n",
    "total"
   ]
  },
  {
   "cell_type": "code",
   "execution_count": 34,
   "id": "cf936f4d-e9e6-420f-b28e-e2c4b3d56ea6",
   "metadata": {},
   "outputs": [
    {
     "name": "stdout",
     "output_type": "stream",
     "text": [
      "112.31\n"
     ]
    }
   ],
   "source": [
    "#introducing decimals! Floating point nums\n",
    "#binary representation of floating point numbers arent 100% accurate, some floating point nums can be represented well but others cant\n",
    "#library for precise decimal arithmetic! (Very helpful in money-related programs)\n",
    "\n",
    "amount = 112.31\n",
    "print(amount)"
   ]
  },
  {
   "cell_type": "code",
   "execution_count": 36,
   "id": "9c84c4d3-df49-4125-872c-1688e7f1a900",
   "metadata": {},
   "outputs": [
    {
     "name": "stdout",
     "output_type": "stream",
     "text": [
      "112.31000000000000227374\n"
     ]
    }
   ],
   "source": [
    "print(f'{amount:.20f}')  #in reality, floating point num is not precise!"
   ]
  },
  {
   "cell_type": "code",
   "execution_count": 38,
   "id": "090ed9a1-352f-4374-a2f8-a994591e58e4",
   "metadata": {},
   "outputs": [
    {
     "data": {
      "text/plain": [
       "Decimal('1000.00')"
      ]
     },
     "execution_count": 38,
     "metadata": {},
     "output_type": "execute_result"
    }
   ],
   "source": [
    "# using the decimal library\n",
    "\n",
    "from decimal import Decimal   #importing Decimal from decimal module (library)\n",
    "\n",
    "principal = Decimal('1000.00') #converts string to decimal, use strings so we dont get memory in-precision\n",
    "principal"
   ]
  },
  {
   "cell_type": "code",
   "execution_count": 39,
   "id": "a355ccb6-a49c-4616-b72d-de2a335151ba",
   "metadata": {},
   "outputs": [
    {
     "data": {
      "text/plain": [
       "Decimal('0.05')"
      ]
     },
     "execution_count": 39,
     "metadata": {},
     "output_type": "execute_result"
    }
   ],
   "source": [
    "rate = Decimal('0.05')\n",
    "rate"
   ]
  },
  {
   "cell_type": "code",
   "execution_count": 41,
   "id": "0642b8a1-f965-4e0f-b8f3-3c5055b408d7",
   "metadata": {},
   "outputs": [
    {
     "data": {
      "text/plain": [
       "Decimal('12.5')"
      ]
     },
     "execution_count": 41,
     "metadata": {},
     "output_type": "execute_result"
    }
   ],
   "source": [
    "x = Decimal('10.5') #using Decimal constructor\n",
    "y = Decimal('2')\n",
    "\n",
    "x + y               #Python has operator-overloading, lets you create special functions for your new type. Can use + and - for new types!"
   ]
  },
  {
   "cell_type": "code",
   "execution_count": 42,
   "id": "3d592b48-5acc-4742-ad00-51fe05d64405",
   "metadata": {},
   "outputs": [
    {
     "data": {
      "text/plain": [
       "Decimal('5')"
      ]
     },
     "execution_count": 42,
     "metadata": {},
     "output_type": "execute_result"
    }
   ],
   "source": [
    "x // y"
   ]
  },
  {
   "cell_type": "code",
   "execution_count": 44,
   "id": "107bdb0a-0940-442e-be7c-fba58582a060",
   "metadata": {},
   "outputs": [
    {
     "data": {
      "text/plain": [
       "Decimal('14.5')"
      ]
     },
     "execution_count": 44,
     "metadata": {},
     "output_type": "execute_result"
    }
   ],
   "source": [
    "x += y\n",
    "x"
   ]
  },
  {
   "cell_type": "code",
   "execution_count": 53,
   "id": "d33096d7-5772-4162-adf9-5eb735502b6b",
   "metadata": {},
   "outputs": [
    {
     "name": "stdout",
     "output_type": "stream",
     "text": [
      " 1   1050.00\n",
      " 2   1102.50\n",
      " 3   1157.62\n",
      " 4   1215.51\n",
      " 5   1276.28\n",
      " 6   1340.10\n",
      " 7   1407.10\n",
      " 8   1477.46\n",
      " 9   1551.33\n",
      "10   1628.89\n"
     ]
    },
    {
     "data": {
      "text/plain": [
       "Decimal('1628.8946267774414062500000')"
      ]
     },
     "execution_count": 53,
     "metadata": {},
     "output_type": "execute_result"
    }
   ],
   "source": [
    "#Compound Interest Problem\n",
    "''' $1000 in savings, yielding 5% interest, calculate & display amount of money in account at end of each year for 10 years.\n",
    "use a = p(1 + r)^n as your formula '''\n",
    "''' p is original amount, n is the number of years, a is the amount on deposit at end of the nth year '''\n",
    "#rate and principal defined above\n",
    "\n",
    "for year in range(1, 11):\n",
    "    amount = principal * (1 + rate) ** year\n",
    "    print(f'{year:>2}{amount:>10.2f}')           # >2 makes the value (year) right-aligns to a field of 2, so 1 gets placed to the right\n",
    "                                                 # 10.2f displays 10 numbers to the right of decimal and 2 to the left of decimal\n",
    "amount"
   ]
  },
  {
   "cell_type": "code",
   "execution_count": 59,
   "id": "ebed40ca-78ae-49c6-b40f-5f018286a702",
   "metadata": {},
   "outputs": [
    {
     "name": "stdout",
     "output_type": "stream",
     "text": [
      "bill: 37.45 tax: 6.25 total: 39.79\n"
     ]
    }
   ],
   "source": [
    "#self-check 3.14, tax on bill is 6.25%, bill amount is 37.45, use Decimal to calculate bill total, print result 2 decimals to the right\n",
    "\n",
    "bill = Decimal('37.45')\n",
    "tax = Decimal('6.25')\n",
    "tAmount = (bill * tax) / 100\n",
    "\n",
    "print(f'bill: {bill} tax: {tax} total: {bill + tAmount:5.2f}')"
   ]
  },
  {
   "cell_type": "code",
   "execution_count": 61,
   "id": "a763534f-d3ef-4faa-bd2a-3de099fdb7c0",
   "metadata": {},
   "outputs": [
    {
     "name": "stdout",
     "output_type": "stream",
     "text": [
      "39.79\n"
     ]
    }
   ],
   "source": [
    "print(f\"{Decimal('37.45') * Decimal('1.0625'):.2f}\")    #one-line solution"
   ]
  },
  {
   "cell_type": "code",
   "execution_count": 63,
   "id": "c35955f6-4f98-47a6-8a24-d7fee18d8510",
   "metadata": {},
   "outputs": [
    {
     "name": "stdout",
     "output_type": "stream",
     "text": [
      "0 1 2 3 4 5 6 7 8 9 "
     ]
    }
   ],
   "source": [
    "#break and continue are like the other C languages\n",
    "\n",
    "for num in range(100):\n",
    "    if num == 10:\n",
    "        break\n",
    "    print(num, end=' ')\n",
    "    \n",
    "#break ends sequence once called"
   ]
  },
  {
   "cell_type": "code",
   "execution_count": 64,
   "id": "6845f8f3-183c-4d76-8f64-76f29436a168",
   "metadata": {},
   "outputs": [
    {
     "name": "stdout",
     "output_type": "stream",
     "text": [
      "0 1 2 3 4 6 7 8 9 "
     ]
    }
   ],
   "source": [
    "for num in range(10):\n",
    "    if num == 5:\n",
    "        continue\n",
    "    print(num, end=' ')\n",
    "    \n",
    "#continue 'skips' current iteration in sequence"
   ]
  },
  {
   "cell_type": "code",
   "execution_count": 67,
   "id": "a7c3c0c4-0608-42ee-abfb-99ae5c26a7cc",
   "metadata": {},
   "outputs": [
    {
     "name": "stdout",
     "output_type": "stream",
     "text": [
      "Senior Female\n"
     ]
    }
   ],
   "source": [
    "#boolean operators and, or, not\n",
    "\n",
    "gender = 'Female'\n",
    "age = 70\n",
    "\n",
    "if gender == 'Female' and age >= 65:        #left condition evaluated first, if true it continues to the right\n",
    "    print('Senior Female')"
   ]
  },
  {
   "cell_type": "code",
   "execution_count": 70,
   "id": "11e78e99-2531-4366-ad4f-cfe9f9d38232",
   "metadata": {},
   "outputs": [
    {
     "name": "stdout",
     "output_type": "stream",
     "text": [
      "Student gets and A\n"
     ]
    }
   ],
   "source": [
    "semester_average = 83    #multi-named variables, recommended to use _ between words\n",
    "final_exam = 95\n",
    "\n",
    "if semester_average >= 90 or final_exam >= 90:       #both have to be false for no-print\n",
    "    print(\"Student gets and A\")"
   ]
  },
  {
   "cell_type": "code",
   "execution_count": 72,
   "id": "19177548-ced1-4cb2-b8a6-de667d04fefd",
   "metadata": {},
   "outputs": [
    {
     "name": "stdout",
     "output_type": "stream",
     "text": [
      "The next grade is 87\n"
     ]
    }
   ],
   "source": [
    "grade = 87\n",
    "\n",
    "if not grade == -1:                     #flips condition as True or False\n",
    "    print('The next grade is', grade)"
   ]
  },
  {
   "cell_type": "code",
   "execution_count": 74,
   "id": "b1220a2a-19b0-4073-a1fb-b1637864d8f6",
   "metadata": {},
   "outputs": [],
   "source": [
    "#self-check 3.16, Use i=1, j=2, k=3, m=2 to evaluate many expressions:\n",
    "    \n",
    "i = 1\n",
    "j = 2\n",
    "k = 3\n",
    "m = 2"
   ]
  },
  {
   "cell_type": "code",
   "execution_count": 75,
   "id": "8cdc5713-d963-4c17-93e6-2ac048ba0787",
   "metadata": {},
   "outputs": [
    {
     "data": {
      "text/plain": [
       "True"
      ]
     },
     "execution_count": 75,
     "metadata": {},
     "output_type": "execute_result"
    }
   ],
   "source": [
    "(i >= 1) and (j < 4)"
   ]
  },
  {
   "cell_type": "code",
   "execution_count": 76,
   "id": "a0b3c8b6-847a-4a33-afc5-59fb530fa5d6",
   "metadata": {},
   "outputs": [
    {
     "data": {
      "text/plain": [
       "False"
      ]
     },
     "execution_count": 76,
     "metadata": {},
     "output_type": "execute_result"
    }
   ],
   "source": [
    "(m <= 99) and (k < m)"
   ]
  },
  {
   "cell_type": "code",
   "execution_count": 77,
   "id": "2d4e5fb4-600d-485a-a5cc-dc66656dc962",
   "metadata": {},
   "outputs": [
    {
     "data": {
      "text/plain": [
       "True"
      ]
     },
     "execution_count": 77,
     "metadata": {},
     "output_type": "execute_result"
    }
   ],
   "source": [
    "(j >= i) or (k == m)"
   ]
  },
  {
   "cell_type": "code",
   "execution_count": 78,
   "id": "d45e9076-6bf7-4774-8925-eea42787b9c4",
   "metadata": {},
   "outputs": [
    {
     "data": {
      "text/plain": [
       "False"
      ]
     },
     "execution_count": 78,
     "metadata": {},
     "output_type": "execute_result"
    }
   ],
   "source": [
    "(k + m < j) or (3 - j >= k)"
   ]
  },
  {
   "cell_type": "code",
   "execution_count": 79,
   "id": "53cca828-5f4b-42f1-bfb8-8b0a54f48e7b",
   "metadata": {},
   "outputs": [
    {
     "data": {
      "text/plain": [
       "False"
      ]
     },
     "execution_count": 79,
     "metadata": {},
     "output_type": "execute_result"
    }
   ],
   "source": [
    "not (k > m)"
   ]
  },
  {
   "cell_type": "markdown",
   "id": "39927cc7-d13e-4fdb-b743-d5f7a7e5744d",
   "metadata": {},
   "source": [
    "#### Intro to Data Science: Measure of Central Tendency\n",
    "\n",
    "- Mean, Median, Mode\n",
    "- Representation of 'central' value in a set of vlaues, value having soem sense to the others\n",
    "\n",
    "- Mean: average in set\n",
    "- Median: middle fo set\n",
    "- Mode: most frequent value"
   ]
  },
  {
   "cell_type": "code",
   "execution_count": 84,
   "id": "0b44a286-12e9-455f-ac44-d3c782cd9087",
   "metadata": {},
   "outputs": [
    {
     "data": {
      "text/plain": [
       "79.4"
      ]
     },
     "execution_count": 84,
     "metadata": {},
     "output_type": "execute_result"
    }
   ],
   "source": [
    "grades = [85, 93, 45, 89, 85]    #square bracket delimited set of values\n",
    "\n",
    "sum(grades) / len(grades)        #sum() sums an entire sequence, len() returns length of sequence \n",
    "\n",
    "#example of functional style programming, sum & len are reductions and return single values each\n",
    "#sum uses internal iteration, it iterates on its own"
   ]
  },
  {
   "cell_type": "code",
   "execution_count": 86,
   "id": "fb139fbc-d6fd-470b-a678-d35cafbb4615",
   "metadata": {},
   "outputs": [],
   "source": [
    "import statistics           #stats library!"
   ]
  },
  {
   "cell_type": "code",
   "execution_count": 87,
   "id": "e62166a9-cb39-46d0-ae7d-cc45709ba74f",
   "metadata": {},
   "outputs": [
    {
     "data": {
      "text/plain": [
       "79.4"
      ]
     },
     "execution_count": 87,
     "metadata": {},
     "output_type": "execute_result"
    }
   ],
   "source": [
    "statistics.mean(grades)"
   ]
  },
  {
   "cell_type": "code",
   "execution_count": 90,
   "id": "1d2d1d92-a167-4baf-a04f-987957aa2a9f",
   "metadata": {},
   "outputs": [
    {
     "data": {
      "text/plain": [
       "85"
      ]
     },
     "execution_count": 90,
     "metadata": {},
     "output_type": "execute_result"
    }
   ],
   "source": [
    "statistics.median(grades)   #orders list first, then gets the median"
   ]
  },
  {
   "cell_type": "code",
   "execution_count": 89,
   "id": "bbcd8b5a-6f0b-43b5-92ea-4795952c56f6",
   "metadata": {},
   "outputs": [
    {
     "data": {
      "text/plain": [
       "85"
      ]
     },
     "execution_count": 89,
     "metadata": {},
     "output_type": "execute_result"
    }
   ],
   "source": [
    "statistics.mode(grades)"
   ]
  },
  {
   "cell_type": "code",
   "execution_count": 91,
   "id": "d4990e5e-9f0b-44fe-b8df-7d8f4d070163",
   "metadata": {},
   "outputs": [
    {
     "data": {
      "text/plain": [
       "[45, 85, 85, 89, 93]"
      ]
     },
     "execution_count": 91,
     "metadata": {},
     "output_type": "execute_result"
    }
   ],
   "source": [
    "sorted(grades)  #built-in sorted function!"
   ]
  },
  {
   "cell_type": "code",
   "execution_count": 92,
   "id": "36a8ea49-1c38-40f1-97fa-1647d277d3a4",
   "metadata": {},
   "outputs": [
    {
     "data": {
      "text/plain": [
       "[85, 93, 45, 89, 85]"
      ]
     },
     "execution_count": 92,
     "metadata": {},
     "output_type": "execute_result"
    }
   ],
   "source": [
    "grades"
   ]
  },
  {
   "cell_type": "code",
   "execution_count": 97,
   "id": "4dc97831-9443-48c2-a0e1-3d9c863f9d26",
   "metadata": {},
   "outputs": [
    {
     "name": "stdout",
     "output_type": "stream",
     "text": [
      "79.16666666666667\n",
      "86.0\n",
      "88\n"
     ]
    }
   ],
   "source": [
    "#self-check 3.17, make list of 47,95,88,73,88,84 and use stats library to get mean, median, and mode\n",
    "#library already imported above!\n",
    "numbers = [47,95,88,73,88,84]\n",
    "print(statistics.mean(numbers))\n",
    "print(statistics.median(numbers)) #we have an even amount of numbers so it gets the 2 middle numbers and averages them for the median\n",
    "print(statistics.mode(numbers))"
   ]
  },
  {
   "cell_type": "code",
   "execution_count": 96,
   "id": "a931a957-71b2-430d-93df-075aaf33330b",
   "metadata": {},
   "outputs": [
    {
     "data": {
      "text/plain": [
       "[47, 73, 84, 88, 88, 95]"
      ]
     },
     "execution_count": 96,
     "metadata": {},
     "output_type": "execute_result"
    }
   ],
   "source": [
    "sorted(numbers)"
   ]
  },
  {
   "cell_type": "code",
   "execution_count": 98,
   "id": "fd525a17-e8ac-424a-a082-aaf3aa0f3575",
   "metadata": {},
   "outputs": [],
   "source": [
    "#you get a statistics error if the mode cant return a most-used value (if we have tied numbers for most0used)\n",
    "#makes mode a not-so-great stat to use for data info."
   ]
  },
  {
   "cell_type": "code",
   "execution_count": null,
   "id": "14b776bf-8fcb-4e4c-b33e-3dc423f996ed",
   "metadata": {},
   "outputs": [],
   "source": []
  }
 ],
 "metadata": {
  "kernelspec": {
   "display_name": "Python 3 (ipykernel)",
   "language": "python",
   "name": "python3"
  },
  "language_info": {
   "codemirror_mode": {
    "name": "ipython",
    "version": 3
   },
   "file_extension": ".py",
   "mimetype": "text/x-python",
   "name": "python",
   "nbconvert_exporter": "python",
   "pygments_lexer": "ipython3",
   "version": "3.8.11"
  }
 },
 "nbformat": 4,
 "nbformat_minor": 5
}
