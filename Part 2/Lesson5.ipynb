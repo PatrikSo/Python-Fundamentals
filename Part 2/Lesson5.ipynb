{
 "cells": [
  {
   "cell_type": "markdown",
   "id": "aa6bd478-c6d4-4dc7-8165-a78763f8dd35",
   "metadata": {},
   "source": [
    "# Part 2\n",
    "- Ch's 5-7 of both books that relate to the series!\n",
    "- Lesson's 5-7!\n",
    "\n",
    "# Lesson 5\n",
    "- Creating/manipulating lists & tuples\n",
    "- Sorting & searching\n",
    "- Functional-Style programming\n",
    "    - Comprehensions\n",
    "    - Filter, map, reduce\n",
    "- Two-dimensional lists\n",
    "- Simulation\n",
    "- Static visualization with matplotlib"
   ]
  },
  {
   "cell_type": "code",
   "execution_count": 3,
   "id": "54944ae2-eaf4-4c26-988a-0402681053d5",
   "metadata": {},
   "outputs": [
    {
     "data": {
      "text/plain": [
       "[-45, 6, 0, 72, 1543]"
      ]
     },
     "execution_count": 3,
     "metadata": {},
     "output_type": "execute_result"
    }
   ],
   "source": [
    "#Sequences: Lists & Tuples\n",
    "# lists store homogeneous data (data thats all the same type)\n",
    "\n",
    "c = [-45, 6, 0, 72, 1543]\n",
    "c\n",
    "#can store heterogeneous data! Doesnt have to be the same"
   ]
  },
  {
   "cell_type": "code",
   "execution_count": 4,
   "id": "5be01b20-316a-4e24-b765-76738ed4bc9c",
   "metadata": {},
   "outputs": [
    {
     "data": {
      "text/plain": [
       "-45"
      ]
     },
     "execution_count": 4,
     "metadata": {},
     "output_type": "execute_result"
    }
   ],
   "source": [
    "c[0]"
   ]
  },
  {
   "cell_type": "code",
   "execution_count": 11,
   "id": "d5151642-8124-4d91-82b5-15e11a97b554",
   "metadata": {},
   "outputs": [
    {
     "data": {
      "text/plain": [
       "1543"
      ]
     },
     "execution_count": 11,
     "metadata": {},
     "output_type": "execute_result"
    }
   ],
   "source": [
    "c[4]"
   ]
  },
  {
   "cell_type": "code",
   "execution_count": 12,
   "id": "a065936d-fabb-45af-aa4f-f1aadd855bb0",
   "metadata": {},
   "outputs": [
    {
     "data": {
      "text/plain": [
       "5"
      ]
     },
     "execution_count": 12,
     "metadata": {},
     "output_type": "execute_result"
    }
   ],
   "source": [
    "#lists know their own length\n",
    "len(c)"
   ]
  },
  {
   "cell_type": "code",
   "execution_count": 15,
   "id": "3010fcc8-1d55-484f-bef2-1788d45e3d20",
   "metadata": {},
   "outputs": [],
   "source": [
    "#Python doesn't have an array, Lists are the closest thing. Arrays are fixed length but Lists are dynamic!\n",
    "#Numeric Python arrays (pandas) are more efficient than lists (covered later)"
   ]
  },
  {
   "cell_type": "code",
   "execution_count": 18,
   "id": "fc21c531-3ea3-4e46-a06d-601d698215a4",
   "metadata": {},
   "outputs": [
    {
     "data": {
      "text/plain": [
       "1543"
      ]
     },
     "execution_count": 18,
     "metadata": {},
     "output_type": "execute_result"
    }
   ],
   "source": [
    "#Python supports negative indexing! (starts at negative list length, goes to -1)\n",
    "c[-1]"
   ]
  },
  {
   "cell_type": "code",
   "execution_count": 17,
   "id": "d2c858c9-d8c5-4a08-9a2c-2f89785dd9eb",
   "metadata": {},
   "outputs": [
    {
     "data": {
      "text/plain": [
       "-45"
      ]
     },
     "execution_count": 17,
     "metadata": {},
     "output_type": "execute_result"
    }
   ],
   "source": [
    "c[-5]"
   ]
  },
  {
   "cell_type": "code",
   "execution_count": 20,
   "id": "c0bce383-dc61-4044-b672-9d418f94a704",
   "metadata": {},
   "outputs": [
    {
     "data": {
      "text/plain": [
       "72"
      ]
     },
     "execution_count": 20,
     "metadata": {},
     "output_type": "execute_result"
    }
   ],
   "source": [
    "#indexes need to be integers or integer expressions\n",
    "\n",
    "a = 1\n",
    "b = 2\n",
    "c[a + b]"
   ]
  },
  {
   "cell_type": "code",
   "execution_count": 21,
   "id": "37a4a944-c699-4d57-a6a9-c01e21666efa",
   "metadata": {},
   "outputs": [
    {
     "data": {
      "text/plain": [
       "[-45, 6, 0, 72, 17]"
      ]
     },
     "execution_count": 21,
     "metadata": {},
     "output_type": "execute_result"
    }
   ],
   "source": [
    "#lists are mutable\n",
    "\n",
    "c[4] = 17\n",
    "c"
   ]
  },
  {
   "cell_type": "code",
   "execution_count": 25,
   "id": "a488893c-32c7-4e37-80b0-c8c679b3e44e",
   "metadata": {},
   "outputs": [
    {
     "data": {
      "text/plain": [
       "'h'"
      ]
     },
     "execution_count": 25,
     "metadata": {},
     "output_type": "execute_result"
    }
   ],
   "source": [
    "#Strings & Tuples are immutable\n",
    "#Indexing for lists can be used for any sequence! Like strings! (Sequences of characters)\n",
    "s = 'hello'\n",
    "s[0]"
   ]
  },
  {
   "cell_type": "code",
   "execution_count": 24,
   "id": "fc8e7660-cabc-4369-8bb9-1a47e1758bda",
   "metadata": {},
   "outputs": [
    {
     "data": {
      "text/plain": [
       "'o'"
      ]
     },
     "execution_count": 24,
     "metadata": {},
     "output_type": "execute_result"
    }
   ],
   "source": [
    "s[-1]"
   ]
  },
  {
   "cell_type": "code",
   "execution_count": 27,
   "id": "9f14d34a-2d7f-4889-8a52-124620deb4f7",
   "metadata": {},
   "outputs": [
    {
     "ename": "TypeError",
     "evalue": "'str' object does not support item assignment",
     "output_type": "error",
     "traceback": [
      "\u001b[1;31m---------------------------------------------------------------------------\u001b[0m",
      "\u001b[1;31mTypeError\u001b[0m                                 Traceback (most recent call last)",
      "\u001b[1;32m~\\AppData\\Local\\Temp/ipykernel_24584/3594108142.py\u001b[0m in \u001b[0;36m<module>\u001b[1;34m\u001b[0m\n\u001b[0;32m      1\u001b[0m \u001b[1;31m#type error, strings are immutable, cannot change elements!\u001b[0m\u001b[1;33m\u001b[0m\u001b[1;33m\u001b[0m\u001b[1;33m\u001b[0m\u001b[0m\n\u001b[1;32m----> 2\u001b[1;33m \u001b[0ms\u001b[0m\u001b[1;33m[\u001b[0m\u001b[1;36m0\u001b[0m\u001b[1;33m]\u001b[0m \u001b[1;33m=\u001b[0m \u001b[1;34m'H'\u001b[0m\u001b[1;33m\u001b[0m\u001b[1;33m\u001b[0m\u001b[0m\n\u001b[0m",
      "\u001b[1;31mTypeError\u001b[0m: 'str' object does not support item assignment"
     ]
    }
   ],
   "source": [
    "#type error, strings are immutable, cannot change elements!\n",
    "s[0] = 'H'"
   ]
  },
  {
   "cell_type": "code",
   "execution_count": 29,
   "id": "04655661-6326-4978-a380-d778c9cbf165",
   "metadata": {},
   "outputs": [
    {
     "ename": "IndexError",
     "evalue": "list index out of range",
     "output_type": "error",
     "traceback": [
      "\u001b[1;31m---------------------------------------------------------------------------\u001b[0m",
      "\u001b[1;31mIndexError\u001b[0m                                Traceback (most recent call last)",
      "\u001b[1;32m~\\AppData\\Local\\Temp/ipykernel_24584/3546371027.py\u001b[0m in \u001b[0;36m<module>\u001b[1;34m\u001b[0m\n\u001b[0;32m      1\u001b[0m \u001b[1;31m#indexing out of range is an issue!!\u001b[0m\u001b[1;33m\u001b[0m\u001b[1;33m\u001b[0m\u001b[1;33m\u001b[0m\u001b[0m\n\u001b[1;32m----> 2\u001b[1;33m \u001b[0mc\u001b[0m\u001b[1;33m[\u001b[0m\u001b[1;36m100\u001b[0m\u001b[1;33m]\u001b[0m\u001b[1;33m\u001b[0m\u001b[1;33m\u001b[0m\u001b[0m\n\u001b[0m",
      "\u001b[1;31mIndexError\u001b[0m: list index out of range"
     ]
    }
   ],
   "source": [
    "#indexing out of range is an issue!!\n",
    "c[100]"
   ]
  },
  {
   "cell_type": "code",
   "execution_count": 30,
   "id": "ca998ac6-5874-4820-bd69-bf5c55a7a32f",
   "metadata": {},
   "outputs": [
    {
     "data": {
      "text/plain": [
       "-39"
      ]
     },
     "execution_count": 30,
     "metadata": {},
     "output_type": "execute_result"
    }
   ],
   "source": [
    "c[0] + c[1] + c[2]"
   ]
  },
  {
   "cell_type": "code",
   "execution_count": 31,
   "id": "2421a53a-c4af-4d0c-bd69-22ddd6d92525",
   "metadata": {},
   "outputs": [
    {
     "data": {
      "text/plain": [
       "[]"
      ]
     },
     "execution_count": 31,
     "metadata": {},
     "output_type": "execute_result"
    }
   ],
   "source": [
    "#ading new items to lists\n",
    "\n",
    "a_list = []\n",
    "a_list"
   ]
  },
  {
   "cell_type": "code",
   "execution_count": 32,
   "id": "c354c659-17a0-4f5f-bd06-c73ac967b668",
   "metadata": {},
   "outputs": [
    {
     "data": {
      "text/plain": [
       "[1, 2, 3, 4, 5]"
      ]
     },
     "execution_count": 32,
     "metadata": {},
     "output_type": "execute_result"
    }
   ],
   "source": [
    "for number in range(1, 6):\n",
    "    a_list += [number]\n",
    "    \n",
    "#concatenates each number, [number] puts the number in range into single item list to concatenate!\n",
    "#when the left side is a list, the right side needs to be some sequence\n",
    "a_list"
   ]
  },
  {
   "cell_type": "code",
   "execution_count": 35,
   "id": "45c37442-4752-42e4-8987-114072974295",
   "metadata": {},
   "outputs": [
    {
     "data": {
      "text/plain": [
       "['P', 'y', 't', 'h', 'o', 'n']"
      ]
     },
     "execution_count": 35,
     "metadata": {},
     "output_type": "execute_result"
    }
   ],
   "source": [
    "letters = []\n",
    "letters += 'Python'\n",
    "letters"
   ]
  },
  {
   "cell_type": "code",
   "execution_count": 37,
   "id": "790dda9e-c4af-48de-a7d4-b5bee4f74eba",
   "metadata": {},
   "outputs": [
    {
     "data": {
      "text/plain": [
       "['Python']"
      ]
     },
     "execution_count": 37,
     "metadata": {},
     "output_type": "execute_result"
    }
   ],
   "source": [
    "letters = []\n",
    "letters += ['Python']\n",
    "letters"
   ]
  },
  {
   "cell_type": "code",
   "execution_count": 38,
   "id": "d83037f9-8267-4b78-8669-23a68e6c4a83",
   "metadata": {},
   "outputs": [
    {
     "data": {
      "text/plain": [
       "[10, 20, 30, 40, 50]"
      ]
     },
     "execution_count": 38,
     "metadata": {},
     "output_type": "execute_result"
    }
   ],
   "source": [
    "list1 = [10, 20, 30]\n",
    "list2 = [40, 50]\n",
    "\n",
    "concatenated_list = list1 + list2\n",
    "concatenated_list"
   ]
  },
  {
   "cell_type": "code",
   "execution_count": 39,
   "id": "b99c4f5a-bf41-4529-ad40-b631a3d40a5e",
   "metadata": {},
   "outputs": [],
   "source": [
    "#adding sequences to a list adds the sequence\n",
    "#adding directly to a list adds that item to all elements in the list"
   ]
  },
  {
   "cell_type": "code",
   "execution_count": 40,
   "id": "cd4ed3f6-cc1a-4438-9eff-6a4745943502",
   "metadata": {},
   "outputs": [
    {
     "name": "stdout",
     "output_type": "stream",
     "text": [
      "0: 10\n",
      "1: 20\n",
      "2: 30\n",
      "3: 40\n",
      "4: 50\n"
     ]
    }
   ],
   "source": [
    "for i in range(len(concatenated_list)):   #using list indeces for our for loop (0 - 4)\n",
    "    print(f'{i}: {concatenated_list[i]}')"
   ]
  },
  {
   "cell_type": "code",
   "execution_count": 41,
   "id": "8601b6de-2313-427a-84b3-7adb357d2145",
   "metadata": {},
   "outputs": [],
   "source": [
    "#can compare lists & their elements!\n",
    "\n",
    "a = [1, 2, 3]\n",
    "b = [1, 2, 3]\n",
    "c = [1, 2, 3, 4]"
   ]
  },
  {
   "cell_type": "code",
   "execution_count": 44,
   "id": "ba26a3e2-49ae-4020-853e-28a5003a563b",
   "metadata": {},
   "outputs": [
    {
     "data": {
      "text/plain": [
       "True"
      ]
     },
     "execution_count": 44,
     "metadata": {},
     "output_type": "execute_result"
    }
   ],
   "source": [
    "a == b   # lists are identical"
   ]
  },
  {
   "cell_type": "code",
   "execution_count": 45,
   "id": "f2e0cbfc-1f55-47ac-a932-9a5f586159e6",
   "metadata": {},
   "outputs": [
    {
     "data": {
      "text/plain": [
       "False"
      ]
     },
     "execution_count": 45,
     "metadata": {},
     "output_type": "execute_result"
    }
   ],
   "source": [
    "a == c   # not equal, not same length & elements"
   ]
  },
  {
   "cell_type": "code",
   "execution_count": 47,
   "id": "9812f664-2fd8-4b52-b5e2-c4c75628ecb8",
   "metadata": {},
   "outputs": [
    {
     "data": {
      "text/plain": [
       "True"
      ]
     },
     "execution_count": 47,
     "metadata": {},
     "output_type": "execute_result"
    }
   ],
   "source": [
    "a < c    # true as a is a SUBSET of c"
   ]
  },
  {
   "cell_type": "code",
   "execution_count": 48,
   "id": "5d81138f-c7cb-476f-bded-0608ce2c6974",
   "metadata": {},
   "outputs": [
    {
     "data": {
      "text/plain": [
       "True"
      ]
     },
     "execution_count": 48,
     "metadata": {},
     "output_type": "execute_result"
    }
   ],
   "source": [
    "c >= b"
   ]
  },
  {
   "cell_type": "code",
   "execution_count": 63,
   "id": "d58bfe63-b177-4805-bc7b-2670033ecd2d",
   "metadata": {},
   "outputs": [
    {
     "data": {
      "text/plain": [
       "[1, 8, 27, 64, 125, 216, 343, 512, 729, 1000]"
      ]
     },
     "execution_count": 63,
     "metadata": {},
     "output_type": "execute_result"
    }
   ],
   "source": [
    "#self-check 5.2, create cube_list which takes a list and returns that list but every element is raised to the third power (cubed)\n",
    "\n",
    "def cube_list(list):\n",
    "    for item in range(len(list)):\n",
    "        list[item] **= 3\n",
    "    return list\n",
    "\n",
    "cube_list([1,2,3,4,5,6,7,8,9,10])"
   ]
  },
  {
   "cell_type": "code",
   "execution_count": 64,
   "id": "3ed7bb42-e550-41bd-ba5f-b62ab5df2a49",
   "metadata": {},
   "outputs": [
    {
     "data": {
      "text/plain": [
       "['B', 'i', 'r', 't', 'h', 'd', 'a', 'y']"
      ]
     },
     "execution_count": 64,
     "metadata": {},
     "output_type": "execute_result"
    }
   ],
   "source": [
    "characters = []\n",
    "characters += 'Birthday'\n",
    "characters"
   ]
  },
  {
   "cell_type": "code",
   "execution_count": 65,
   "id": "6d12f48a-aa07-42b3-819c-1b9ccab1d75b",
   "metadata": {},
   "outputs": [
    {
     "data": {
      "text/plain": [
       "()"
      ]
     },
     "execution_count": 65,
     "metadata": {},
     "output_type": "execute_result"
    }
   ],
   "source": [
    "#Tuples & fun\n",
    "\n",
    "student_tuple = ()    #empty tuples require parenthesis\n",
    "student_tuple"
   ]
  },
  {
   "cell_type": "code",
   "execution_count": 66,
   "id": "abe6ea91-325b-4a02-bf12-d54908998738",
   "metadata": {},
   "outputs": [
    {
     "data": {
      "text/plain": [
       "0"
      ]
     },
     "execution_count": 66,
     "metadata": {},
     "output_type": "execute_result"
    }
   ],
   "source": [
    "len(student_tuple)"
   ]
  },
  {
   "cell_type": "code",
   "execution_count": 67,
   "id": "92703d85-de41-45c6-a4f2-a0dfa0f5862c",
   "metadata": {},
   "outputs": [],
   "source": [
    "student_tuple = 'John', 'Green', 3.3      #Tuple created via commas grouping data we want to relate"
   ]
  },
  {
   "cell_type": "code",
   "execution_count": 70,
   "id": "a780c1de-bde5-48ce-803f-f22257fee637",
   "metadata": {},
   "outputs": [
    {
     "data": {
      "text/plain": [
       "('John', 'Green', 3.3)"
      ]
     },
     "execution_count": 70,
     "metadata": {},
     "output_type": "execute_result"
    }
   ],
   "source": [
    "student_tuple    #Python always uses parenthesis, even if we didnt use them"
   ]
  },
  {
   "cell_type": "code",
   "execution_count": 71,
   "id": "8eeb5da2-8c13-49e5-80fd-44caa3cd876d",
   "metadata": {},
   "outputs": [
    {
     "data": {
      "text/plain": [
       "3"
      ]
     },
     "execution_count": 71,
     "metadata": {},
     "output_type": "execute_result"
    }
   ],
   "source": [
    "len(student_tuple)"
   ]
  },
  {
   "cell_type": "code",
   "execution_count": 72,
   "id": "76c7a982-f9d7-474d-9d61-ae3310c650e6",
   "metadata": {},
   "outputs": [],
   "source": [
    "another_student_tuple = ('Mary', 'Red', 3.3)"
   ]
  },
  {
   "cell_type": "code",
   "execution_count": 73,
   "id": "466a7c6e-ca6d-4f2c-a50b-df16dc689776",
   "metadata": {},
   "outputs": [
    {
     "data": {
      "text/plain": [
       "('Mary', 'Red', 3.3)"
      ]
     },
     "execution_count": 73,
     "metadata": {},
     "output_type": "execute_result"
    }
   ],
   "source": [
    "another_student_tuple"
   ]
  },
  {
   "cell_type": "code",
   "execution_count": 74,
   "id": "a445dfa8-71af-4264-93ee-b79e35f68c53",
   "metadata": {},
   "outputs": [
    {
     "data": {
      "text/plain": [
       "'red'"
      ]
     },
     "execution_count": 74,
     "metadata": {},
     "output_type": "execute_result"
    }
   ],
   "source": [
    "a_singleton_tuple = ('red')    #commas define a tuple, not the parenthesis! So this assignment is only a variable & nothing more\n",
    "a_singleton_tuple"
   ]
  },
  {
   "cell_type": "code",
   "execution_count": 75,
   "id": "73248840-363d-48c2-9618-2ff65b697ff3",
   "metadata": {},
   "outputs": [
    {
     "data": {
      "text/plain": [
       "('red',)"
      ]
     },
     "execution_count": 75,
     "metadata": {},
     "output_type": "execute_result"
    }
   ],
   "source": [
    "a_singleton_tuple = ('red',)    #to make a singleton tuple\n",
    "a_singleton_tuple"
   ]
  },
  {
   "cell_type": "code",
   "execution_count": 76,
   "id": "941dcb00-3e2e-4d6e-98f6-56b1932e4a68",
   "metadata": {},
   "outputs": [
    {
     "data": {
      "text/plain": [
       "'Mary'"
      ]
     },
     "execution_count": 76,
     "metadata": {},
     "output_type": "execute_result"
    }
   ],
   "source": [
    "another_student_tuple[0]"
   ]
  },
  {
   "cell_type": "code",
   "execution_count": 77,
   "id": "b611c61c-e7b4-4b33-95f4-b483e9092e0b",
   "metadata": {},
   "outputs": [
    {
     "data": {
      "text/plain": [
       "3.3"
      ]
     },
     "execution_count": 77,
     "metadata": {},
     "output_type": "execute_result"
    }
   ],
   "source": [
    "another_student_tuple[-1]"
   ]
  },
  {
   "cell_type": "code",
   "execution_count": 78,
   "id": "2cd55976-d01f-4fdf-a010-a4908a0ba7bc",
   "metadata": {},
   "outputs": [],
   "source": [
    "time_tuple = (9, 16, 1)"
   ]
  },
  {
   "cell_type": "code",
   "execution_count": 79,
   "id": "f05ab8df-6d94-45ae-a23d-61e70b062177",
   "metadata": {},
   "outputs": [
    {
     "data": {
      "text/plain": [
       "33361"
      ]
     },
     "execution_count": 79,
     "metadata": {},
     "output_type": "execute_result"
    }
   ],
   "source": [
    "time_tuple[0] * 3600 + time_tuple[1] * 60 + time_tuple[2]"
   ]
  },
  {
   "cell_type": "code",
   "execution_count": 80,
   "id": "3f962eaf-90d9-4973-8cd3-829eecd1a085",
   "metadata": {},
   "outputs": [],
   "source": [
    "tuple1 = (10, 20, 30)\n",
    "tuple2 = tuple1       #reference assignment, both tuple1 and tuple2 refer to the same thing now"
   ]
  },
  {
   "cell_type": "code",
   "execution_count": 81,
   "id": "eeb7f3be-e21f-4d0b-b6e0-09b884ce8c05",
   "metadata": {},
   "outputs": [
    {
     "data": {
      "text/plain": [
       "(10, 20, 30)"
      ]
     },
     "execution_count": 81,
     "metadata": {},
     "output_type": "execute_result"
    }
   ],
   "source": [
    "tuple2"
   ]
  },
  {
   "cell_type": "code",
   "execution_count": 84,
   "id": "905961a6-be97-4ecd-bfea-163642de144e",
   "metadata": {},
   "outputs": [],
   "source": [
    "tuple1 += (40, 50)         #tuple's are immutable but when we want to modify/add to them, Python returns or gives us a brand-new tuple!"
   ]
  },
  {
   "cell_type": "code",
   "execution_count": 85,
   "id": "45e0b657-8240-47e0-9a83-e1f8a7d73c92",
   "metadata": {},
   "outputs": [
    {
     "data": {
      "text/plain": [
       "(10, 20, 30, 40, 50, 40, 50)"
      ]
     },
     "execution_count": 85,
     "metadata": {},
     "output_type": "execute_result"
    }
   ],
   "source": [
    "tuple1"
   ]
  },
  {
   "cell_type": "code",
   "execution_count": 86,
   "id": "11c2a019-a486-4c2c-8d8b-75251733c3e9",
   "metadata": {},
   "outputs": [
    {
     "data": {
      "text/plain": [
       "(10, 20, 30)"
      ]
     },
     "execution_count": 86,
     "metadata": {},
     "output_type": "execute_result"
    }
   ],
   "source": [
    "tuple2"
   ]
  },
  {
   "cell_type": "code",
   "execution_count": 87,
   "id": "63573488-0a5a-443d-a344-cfa723e79927",
   "metadata": {},
   "outputs": [
    {
     "data": {
      "text/plain": [
       "2098240259744"
      ]
     },
     "execution_count": 87,
     "metadata": {},
     "output_type": "execute_result"
    }
   ],
   "source": [
    "id(tuple1)"
   ]
  },
  {
   "cell_type": "code",
   "execution_count": 88,
   "id": "04063560-1c06-4092-a84f-80b1312b834e",
   "metadata": {},
   "outputs": [
    {
     "data": {
      "text/plain": [
       "2098237394048"
      ]
     },
     "execution_count": 88,
     "metadata": {},
     "output_type": "execute_result"
    }
   ],
   "source": [
    "id(tuple2)"
   ]
  },
  {
   "cell_type": "code",
   "execution_count": 89,
   "id": "492af1bf-889a-4091-bc41-479f14d57d2e",
   "metadata": {},
   "outputs": [
    {
     "data": {
      "text/plain": [
       "[1, 2, 3, 4, 5, 6, 7]"
      ]
     },
     "execution_count": 89,
     "metadata": {},
     "output_type": "execute_result"
    }
   ],
   "source": [
    "numbers = [1, 2, 3, 4, 5]          #list adding a tuple!\n",
    "numbers += (6, 7)                  #works as lists need a sequence to be added, tuples are a sequence\n",
    "numbers"
   ]
  },
  {
   "cell_type": "code",
   "execution_count": 90,
   "id": "70622a03-6852-4207-9676-7d63a9d26207",
   "metadata": {},
   "outputs": [
    {
     "data": {
      "text/plain": [
       "('Amanda', 'Blue', [98, 75, 87])"
      ]
     },
     "execution_count": 90,
     "metadata": {},
     "output_type": "execute_result"
    }
   ],
   "source": [
    "#tuples can store mutable objects\n",
    "\n",
    "student_tuple = ('Amanda', 'Blue', [98, 75, 87])\n",
    "student_tuple"
   ]
  },
  {
   "cell_type": "code",
   "execution_count": 91,
   "id": "104db626-647e-48d6-ad74-856c4b9c4c5e",
   "metadata": {},
   "outputs": [
    {
     "data": {
      "text/plain": [
       "('Amanda', 'Blue', [85, 75, 87])"
      ]
     },
     "execution_count": 91,
     "metadata": {},
     "output_type": "execute_result"
    }
   ],
   "source": [
    "student_tuple[2][0] = 85\n",
    "student_tuple"
   ]
  },
  {
   "cell_type": "code",
   "execution_count": 94,
   "id": "b9d17671-fe69-4fd4-b594-0e3af47368a1",
   "metadata": {},
   "outputs": [
    {
     "name": "stdout",
     "output_type": "stream",
     "text": [
      "(123.45,)\n"
     ]
    },
    {
     "data": {
      "text/plain": [
       "tuple"
      ]
     },
     "execution_count": 94,
     "metadata": {},
     "output_type": "execute_result"
    }
   ],
   "source": [
    "#self-check 5.3, create single item tuple containing 123.45\n",
    "\n",
    "singelton = ( 123.45, )\n",
    "print(singelton)\n",
    "type(singelton)"
   ]
  },
  {
   "cell_type": "code",
   "execution_count": 96,
   "id": "812b6fce-6308-4349-9642-4d4c49527e2b",
   "metadata": {},
   "outputs": [
    {
     "ename": "TypeError",
     "evalue": "can only concatenate list (not \"tuple\") to list",
     "output_type": "error",
     "traceback": [
      "\u001b[1;31m---------------------------------------------------------------------------\u001b[0m",
      "\u001b[1;31mTypeError\u001b[0m                                 Traceback (most recent call last)",
      "\u001b[1;32m~\\AppData\\Local\\Temp/ipykernel_24584/788263438.py\u001b[0m in \u001b[0;36m<module>\u001b[1;34m\u001b[0m\n\u001b[0;32m      4\u001b[0m \u001b[0mtuple1\u001b[0m \u001b[1;33m=\u001b[0m \u001b[1;33m(\u001b[0m\u001b[1;36m4\u001b[0m\u001b[1;33m,\u001b[0m \u001b[1;36m5\u001b[0m\u001b[1;33m,\u001b[0m \u001b[1;36m6\u001b[0m\u001b[1;33m)\u001b[0m\u001b[1;33m\u001b[0m\u001b[1;33m\u001b[0m\u001b[0m\n\u001b[0;32m      5\u001b[0m \u001b[1;33m\u001b[0m\u001b[0m\n\u001b[1;32m----> 6\u001b[1;33m \u001b[0mlist1\u001b[0m \u001b[1;33m+\u001b[0m \u001b[0mtuple1\u001b[0m         \u001b[1;31m# require compatible same types! This wont work\u001b[0m\u001b[1;33m\u001b[0m\u001b[1;33m\u001b[0m\u001b[0m\n\u001b[0m",
      "\u001b[1;31mTypeError\u001b[0m: can only concatenate list (not \"tuple\") to list"
     ]
    }
   ],
   "source": [
    "# concatenating sequences of different types (list & tuple)\n",
    "\n",
    "list1 = [1, 2, 3]\n",
    "tuple1 = (4, 5, 6)\n",
    "\n",
    "list1 + tuple1         # require compatible same types! This wont work"
   ]
  },
  {
   "cell_type": "code",
   "execution_count": 98,
   "id": "6f3f1a71-030c-479d-a537-b59671e98943",
   "metadata": {},
   "outputs": [],
   "source": [
    "#unpacking sequences\n",
    "\n",
    "student_tuple = ('Amanda', [98, 88, 77])\n",
    "first_name, grades = student_tuple            #same number of items need to match element number"
   ]
  },
  {
   "cell_type": "code",
   "execution_count": 99,
   "id": "6be9d44e-3956-43c1-ade4-0ad101786c90",
   "metadata": {},
   "outputs": [
    {
     "data": {
      "text/plain": [
       "'Amanda'"
      ]
     },
     "execution_count": 99,
     "metadata": {},
     "output_type": "execute_result"
    }
   ],
   "source": [
    "first_name"
   ]
  },
  {
   "cell_type": "code",
   "execution_count": 100,
   "id": "307955be-f30c-4cae-af92-0daf9e463c05",
   "metadata": {},
   "outputs": [
    {
     "data": {
      "text/plain": [
       "[98, 88, 77]"
      ]
     },
     "execution_count": 100,
     "metadata": {},
     "output_type": "execute_result"
    }
   ],
   "source": [
    "grades"
   ]
  },
  {
   "cell_type": "code",
   "execution_count": 103,
   "id": "a280a144-0c52-4e0b-8956-b45d65807a74",
   "metadata": {},
   "outputs": [
    {
     "name": "stdout",
     "output_type": "stream",
     "text": [
      "h\n",
      "i\n"
     ]
    }
   ],
   "source": [
    "first, second = 'hi'         #unpacking works with any sequence!\n",
    "\n",
    "print(first)\n",
    "print(second)"
   ]
  },
  {
   "cell_type": "code",
   "execution_count": 104,
   "id": "d23a6560-852d-43c1-872c-c75ceb29f0df",
   "metadata": {},
   "outputs": [
    {
     "name": "stdout",
     "output_type": "stream",
     "text": [
      "1\n",
      "2\n",
      "3\n"
     ]
    }
   ],
   "source": [
    "number1, number2, number3 = [1, 2, 3]\n",
    "\n",
    "print(number1)\n",
    "print(number2)\n",
    "print(number3)"
   ]
  },
  {
   "cell_type": "code",
   "execution_count": 105,
   "id": "01a32a69-5973-462e-9ac4-f533db57d5d2",
   "metadata": {},
   "outputs": [
    {
     "name": "stdout",
     "output_type": "stream",
     "text": [
      "10 20 30\n"
     ]
    }
   ],
   "source": [
    "number1, number2, number3 = range(10, 40, 10)\n",
    "\n",
    "print(f'{number1} {number2} {number3}')"
   ]
  },
  {
   "cell_type": "code",
   "execution_count": 107,
   "id": "9dca5e1f-7a67-4f11-b624-6b3407a51e9a",
   "metadata": {},
   "outputs": [
    {
     "name": "stdout",
     "output_type": "stream",
     "text": [
      "99 22\n",
      "22 99\n"
     ]
    }
   ],
   "source": [
    "number1 = 99                         #unpacking lets us swap variables easily!\n",
    "number2 = 22\n",
    "print(f'{number1} {number2}')\n",
    "\n",
    "number1, number2 = (number2, number1)\n",
    "print(f'{number1} {number2}')"
   ]
  },
  {
   "cell_type": "code",
   "execution_count": 109,
   "id": "2e26a711-0dec-4cf4-b475-97ea29070c15",
   "metadata": {},
   "outputs": [
    {
     "data": {
      "text/plain": [
       "[(0, 'red'), (1, 'orange'), (2, 'yellow')]"
      ]
     },
     "execution_count": 109,
     "metadata": {},
     "output_type": "execute_result"
    }
   ],
   "source": [
    "#enumerating\n",
    "colors = ['red', 'orange', 'yellow']\n",
    "\n",
    "list(enumerate(colors))        #list of creates several tuples, containing index & value! "
   ]
  },
  {
   "cell_type": "code",
   "execution_count": 111,
   "id": "4f19263d-c6cc-4a89-91f2-f911e256436e",
   "metadata": {},
   "outputs": [
    {
     "data": {
      "text/plain": [
       "((0, 'red'), (1, 'orange'), (2, 'yellow'))"
      ]
     },
     "execution_count": 111,
     "metadata": {},
     "output_type": "execute_result"
    }
   ],
   "source": [
    "tuple(enumerate(colors))       # tuple of tuples!"
   ]
  },
  {
   "cell_type": "code",
   "execution_count": 112,
   "id": "d9473142-fa3f-48aa-b22e-cbd9346d6fca",
   "metadata": {},
   "outputs": [
    {
     "name": "stdout",
     "output_type": "stream",
     "text": [
      "0: red\n",
      "1: orange\n",
      "2: yellow\n"
     ]
    }
   ],
   "source": [
    "for index, value in enumerate(colors):\n",
    "    print(f'{index}: {value}')"
   ]
  },
  {
   "cell_type": "code",
   "execution_count": 113,
   "id": "b4a6c934-19ee-4d1b-8a8c-0dab3866584c",
   "metadata": {},
   "outputs": [
    {
     "name": "stdout",
     "output_type": "stream",
     "text": [
      "\n",
      "Creating a bar chart from numbers:\n",
      "Index   Value   Bar\n",
      "    0      19   *******************\n",
      "    1       3   ***\n",
      "    2      15   ***************\n",
      "    3       7   *******\n",
      "    4      11   ***********\n"
     ]
    }
   ],
   "source": [
    "# covering fig05_01.py example\n",
    "\n",
    "# fig05_01.py\n",
    "\"\"\"Displaying a bar chart\"\"\"                             # docstring for script! (not just functions or methods)\n",
    "numbers = [19, 3, 15, 7, 11]\n",
    "\n",
    "print('\\nCreating a bar chart from numbers:')\n",
    "print(f'Index{\"Value\":>8}   Bar')                        # right aligned field of 8 characters, double quoted Value for issue avoidance\n",
    "\n",
    "for index, value in enumerate(numbers):                  # index right alinged field of 5, value right aligned field of 8, string * int displays it int times\n",
    "    print(f'{index:>5}{value:>8}   {\"*\" * value}')"
   ]
  },
  {
   "cell_type": "code",
   "execution_count": 117,
   "id": "c87825cd-5678-45e5-8ab3-5f50771f0a17",
   "metadata": {},
   "outputs": [
    {
     "name": "stdout",
     "output_type": "stream",
     "text": [
      "Day: Monday, High: 108, Low: 68\n"
     ]
    }
   ],
   "source": [
    "#self-check 5.4, create tuple high_low with day of week (string) & high with low temperatures (ints)\n",
    "\n",
    "high_low = ('Monday', 108, 68)\n",
    "print(f'Day: {high_low[0]}, High: {high_low[1]}, Low: {high_low[2]}')"
   ]
  },
  {
   "cell_type": "code",
   "execution_count": 120,
   "id": "3149fc02-94d1-40c4-ab3f-7b1a24850d9b",
   "metadata": {},
   "outputs": [
    {
     "ename": "ValueError",
     "evalue": "too many values to unpack (expected 2)",
     "output_type": "error",
     "traceback": [
      "\u001b[1;31m---------------------------------------------------------------------------\u001b[0m",
      "\u001b[1;31mValueError\u001b[0m                                Traceback (most recent call last)",
      "\u001b[1;32m~\\AppData\\Local\\Temp/ipykernel_24584/1521365818.py\u001b[0m in \u001b[0;36m<module>\u001b[1;34m\u001b[0m\n\u001b[0;32m      1\u001b[0m \u001b[1;31m#unpack into 2 vars, day & high\u001b[0m\u001b[1;33m\u001b[0m\u001b[1;33m\u001b[0m\u001b[1;33m\u001b[0m\u001b[0m\n\u001b[0;32m      2\u001b[0m \u001b[1;33m\u001b[0m\u001b[0m\n\u001b[1;32m----> 3\u001b[1;33m \u001b[0mday\u001b[0m\u001b[1;33m,\u001b[0m \u001b[0mhigh\u001b[0m \u001b[1;33m=\u001b[0m \u001b[0mhigh_low\u001b[0m            \u001b[1;31m#need 3 var's for 3 items in tuple. Get error\u001b[0m\u001b[1;33m\u001b[0m\u001b[1;33m\u001b[0m\u001b[0m\n\u001b[0m\u001b[0;32m      4\u001b[0m \u001b[1;33m\u001b[0m\u001b[0m\n\u001b[0;32m      5\u001b[0m \u001b[0mprint\u001b[0m\u001b[1;33m(\u001b[0m\u001b[0mday\u001b[0m\u001b[1;33m)\u001b[0m\u001b[1;33m\u001b[0m\u001b[1;33m\u001b[0m\u001b[0m\n",
      "\u001b[1;31mValueError\u001b[0m: too many values to unpack (expected 2)"
     ]
    }
   ],
   "source": [
    "#unpack into 2 vars, day & high\n",
    "\n",
    "day, high = high_low            #need 3 var's for 3 items in tuple. Get error\n",
    "\n",
    "print(day)\n",
    "print(high)"
   ]
  },
  {
   "cell_type": "code",
   "execution_count": 121,
   "id": "37ada94d-2894-4599-bb7d-b59479f1a01e",
   "metadata": {},
   "outputs": [
    {
     "name": "stdout",
     "output_type": "stream",
     "text": [
      "Index: 0, Value: Hi\n",
      "Index: 1, Value: how\n",
      "Index: 2, Value: you\n"
     ]
    }
   ],
   "source": [
    "#enumerate a list containing three string names\n",
    "\n",
    "strs = ['Hi','how','you']\n",
    "\n",
    "for index, value in enumerate(strs):\n",
    "    print(f'Index: {index}, Value: {value}')"
   ]
  },
  {
   "cell_type": "code",
   "execution_count": 2,
   "id": "98c16db4-ecd7-4365-8d0f-7f57fca95f20",
   "metadata": {},
   "outputs": [
    {
     "data": {
      "text/plain": [
       "[4, 5, 5, 11]"
      ]
     },
     "execution_count": 2,
     "metadata": {},
     "output_type": "execute_result"
    }
   ],
   "source": [
    "# Slice operations for sequences!\n",
    "#copying slices\n",
    "\n",
    "numbers = [2, 3, 4, 5, 5, 11, 13, 25]\n",
    "\n",
    "numbers[2:6]           #[ start-index : end-index : step]"
   ]
  },
  {
   "cell_type": "code",
   "execution_count": 4,
   "id": "6ff22869-5b35-4769-a4da-8c278cfbeb60",
   "metadata": {},
   "outputs": [
    {
     "data": {
      "text/plain": [
       "[2, 3, 4, 5, 5, 11]"
      ]
     },
     "execution_count": 4,
     "metadata": {},
     "output_type": "execute_result"
    }
   ],
   "source": [
    "numbers[:6]            # 0 inserted for start-index automatically"
   ]
  },
  {
   "cell_type": "code",
   "execution_count": 6,
   "id": "64ea35dd-3ac4-410b-8d66-a240af728b32",
   "metadata": {},
   "outputs": [
    {
     "data": {
      "text/plain": [
       "[13, 25]"
      ]
     },
     "execution_count": 6,
     "metadata": {},
     "output_type": "execute_result"
    }
   ],
   "source": [
    "numbers[6:]            # list from index 6 to end of list"
   ]
  },
  {
   "cell_type": "code",
   "execution_count": 9,
   "id": "8f576ded-5778-45a5-85a3-672779b128d5",
   "metadata": {},
   "outputs": [
    {
     "data": {
      "text/plain": [
       "[2, 3, 4, 5, 5, 11, 13, 25]"
      ]
     },
     "execution_count": 9,
     "metadata": {},
     "output_type": "execute_result"
    }
   ],
   "source": [
    "numbers[:]             # quick copy of list! (Shallow copy), all slicing is shallow copying"
   ]
  },
  {
   "cell_type": "code",
   "execution_count": 10,
   "id": "5661686b-5051-40dd-b565-7d48c02082c2",
   "metadata": {},
   "outputs": [
    {
     "data": {
      "text/plain": [
       "[2, 3, 4, 5, 5, 11, 13, 25]"
      ]
     },
     "execution_count": 10,
     "metadata": {},
     "output_type": "execute_result"
    }
   ],
   "source": [
    "sameNum = numbers[:]\n",
    "sameNum"
   ]
  },
  {
   "cell_type": "code",
   "execution_count": 11,
   "id": "7890ffc1-6bcf-4e58-b06d-fad49251d8b1",
   "metadata": {},
   "outputs": [
    {
     "data": {
      "text/plain": [
       "[2, 3, 4, 5, 5, 11, 13, 25]"
      ]
     },
     "execution_count": 11,
     "metadata": {},
     "output_type": "execute_result"
    }
   ],
   "source": [
    "numbers[0] = 100\n",
    "sameNum"
   ]
  },
  {
   "cell_type": "code",
   "execution_count": 12,
   "id": "72235054-b8ea-4f4f-a5d8-36203cc3f8e6",
   "metadata": {},
   "outputs": [
    {
     "data": {
      "text/plain": [
       "[100, 3, 4, 5, 5, 11, 13, 25]"
      ]
     },
     "execution_count": 12,
     "metadata": {},
     "output_type": "execute_result"
    }
   ],
   "source": [
    "numbers"
   ]
  },
  {
   "cell_type": "code",
   "execution_count": 15,
   "id": "ffec0ffb-5abe-48fb-b87c-b01ceb7ac482",
   "metadata": {},
   "outputs": [
    {
     "data": {
      "text/plain": [
       "[100, 4, 5, 13]"
      ]
     },
     "execution_count": 15,
     "metadata": {},
     "output_type": "execute_result"
    }
   ],
   "source": [
    "numbers[::2]            # introducing the step!"
   ]
  },
  {
   "cell_type": "code",
   "execution_count": 16,
   "id": "5a47efd2-997c-4e8a-9443-0c4f2183b55f",
   "metadata": {},
   "outputs": [
    {
     "data": {
      "text/plain": [
       "[25, 13, 11, 5, 5, 4, 3, 100]"
      ]
     },
     "execution_count": 16,
     "metadata": {},
     "output_type": "execute_result"
    }
   ],
   "source": [
    "numbers[::-1]           # can reverse order!"
   ]
  },
  {
   "cell_type": "code",
   "execution_count": 18,
   "id": "7a7b0228-c765-4f67-b705-d115a945908f",
   "metadata": {},
   "outputs": [
    {
     "data": {
      "text/plain": [
       "[25, 13, 11, 5, 5, 4, 3, 100]"
      ]
     },
     "execution_count": 18,
     "metadata": {},
     "output_type": "execute_result"
    }
   ],
   "source": [
    "numbers[-1:-9:-1]       # equivalent reversal using start & ends"
   ]
  },
  {
   "cell_type": "code",
   "execution_count": 19,
   "id": "e9160976-2bfe-4261-b4df-856881054d6d",
   "metadata": {},
   "outputs": [
    {
     "data": {
      "text/plain": [
       "['two', 'three', 'five', 5, 5, 11, 13, 25]"
      ]
     },
     "execution_count": 19,
     "metadata": {},
     "output_type": "execute_result"
    }
   ],
   "source": [
    "# slicing to modify contents of sequences\n",
    "\n",
    "numbers[0:3] = ['two', 'three', 'five']\n",
    "numbers"
   ]
  },
  {
   "cell_type": "code",
   "execution_count": 21,
   "id": "fa9e2406-1c8f-4d90-bec7-1582488e2182",
   "metadata": {},
   "outputs": [],
   "source": [
    "# can use a slice to change a piece of a list using another sequence!"
   ]
  },
  {
   "cell_type": "code",
   "execution_count": 23,
   "id": "a07f8da3-a1a7-4d15-aacf-f51b36c40d8e",
   "metadata": {},
   "outputs": [
    {
     "data": {
      "text/plain": [
       "[13, 25]"
      ]
     },
     "execution_count": 23,
     "metadata": {},
     "output_type": "execute_result"
    }
   ],
   "source": [
    "numbers[0:3] = []       # can delete parts of lists!\n",
    "numbers"
   ]
  },
  {
   "cell_type": "code",
   "execution_count": 29,
   "id": "32c71965-886f-4c18-89f5-475e84674509",
   "metadata": {},
   "outputs": [
    {
     "data": {
      "text/plain": [
       "[100, 2, 100, 4, 100, 6, 100, 8, 100]"
      ]
     },
     "execution_count": 29,
     "metadata": {},
     "output_type": "execute_result"
    }
   ],
   "source": [
    "numbers = [ 1, 2, 3, 4, 5, 6, 7, 8, 9]\n",
    "\n",
    "numbers[::2] = [100, 100, 100, 100, 100]         #change the odd numbers\n",
    "\n",
    "numbers"
   ]
  },
  {
   "cell_type": "code",
   "execution_count": 30,
   "id": "a410d40c-501f-4f4f-b891-1c1a7d8eb31f",
   "metadata": {},
   "outputs": [
    {
     "data": {
      "text/plain": [
       "1945354999552"
      ]
     },
     "execution_count": 30,
     "metadata": {},
     "output_type": "execute_result"
    }
   ],
   "source": [
    "id(numbers)"
   ]
  },
  {
   "cell_type": "code",
   "execution_count": 32,
   "id": "3690059c-7b4b-404f-baf7-b7d23ac9d273",
   "metadata": {},
   "outputs": [
    {
     "data": {
      "text/plain": [
       "[]"
      ]
     },
     "execution_count": 32,
     "metadata": {},
     "output_type": "execute_result"
    }
   ],
   "source": [
    "numbers[:] = []          #delete whole list\n",
    "numbers"
   ]
  },
  {
   "cell_type": "code",
   "execution_count": 33,
   "id": "eebdefb7-af89-4bc3-a047-f96caae5c278",
   "metadata": {},
   "outputs": [
    {
     "data": {
      "text/plain": [
       "1945354999552"
      ]
     },
     "execution_count": 33,
     "metadata": {},
     "output_type": "execute_result"
    }
   ],
   "source": [
    "id(numbers)"
   ]
  },
  {
   "cell_type": "code",
   "execution_count": 34,
   "id": "60f47625-f02c-4afa-bc5f-846b5dcefaca",
   "metadata": {},
   "outputs": [
    {
     "data": {
      "text/plain": [
       "1945354332096"
      ]
     },
     "execution_count": 34,
     "metadata": {},
     "output_type": "execute_result"
    }
   ],
   "source": [
    "numbers = []\n",
    "id(numbers)"
   ]
  },
  {
   "cell_type": "code",
   "execution_count": 49,
   "id": "b9613bad-c215-4941-aaea-ea192e6ef17c",
   "metadata": {},
   "outputs": [
    {
     "data": {
      "text/plain": [
       "[2, 4, 6, 8, 10, 12, 14]"
      ]
     },
     "execution_count": 49,
     "metadata": {},
     "output_type": "execute_result"
    }
   ],
   "source": [
    "#self-check 5.5, list of numbers 1 to 15, slice fun!\n",
    "\n",
    "numbers = [1,2,3,4,5,6,7,8,9,10,11,12,13,14,15]\n",
    "numbers[1::2]              # grabs even numbers"
   ]
  },
  {
   "cell_type": "code",
   "execution_count": 53,
   "id": "5f4b3c19-5ec7-450b-820b-c994d33cdbdd",
   "metadata": {},
   "outputs": [
    {
     "data": {
      "text/plain": [
       "[1, 2, 3, 4, 5, 0, 0, 0, 0, 0, 11, 12, 13, 14, 15]"
      ]
     },
     "execution_count": 53,
     "metadata": {},
     "output_type": "execute_result"
    }
   ],
   "source": [
    "numbers = [1,2,3,4,5,6,7,8,9,10,11,12,13,14,15]\n",
    "numbers[5:10] = [0]*5      #replace values in indeces 5 to 9 with 0's\n",
    "numbers"
   ]
  },
  {
   "cell_type": "code",
   "execution_count": 54,
   "id": "45f404e7-85b1-40f6-9b92-f1c1cf577950",
   "metadata": {},
   "outputs": [
    {
     "data": {
      "text/plain": [
       "[1, 2, 3, 4, 5]"
      ]
     },
     "execution_count": 54,
     "metadata": {},
     "output_type": "execute_result"
    }
   ],
   "source": [
    "numbers[5:] = []           # keeping only first 5 items\n",
    "numbers"
   ]
  },
  {
   "cell_type": "code",
   "execution_count": 56,
   "id": "9075e2c6-3f6e-4dc3-afca-f87495c144f2",
   "metadata": {},
   "outputs": [
    {
     "data": {
      "text/plain": [
       "[]"
      ]
     },
     "execution_count": 56,
     "metadata": {},
     "output_type": "execute_result"
    }
   ],
   "source": [
    "numbers[:] = []               # delete the list\n",
    "numbers"
   ]
  },
  {
   "cell_type": "code",
   "execution_count": 58,
   "id": "43dab5ed-e309-4ce4-bce0-65dc13e33c1c",
   "metadata": {},
   "outputs": [
    {
     "name": "stdout",
     "output_type": "stream",
     "text": [
      "[0, 1, 2, 3, 4, 5, 6, 7, 8, 9]\n"
     ]
    },
    {
     "data": {
      "text/plain": [
       "[0, 1, 2, 3, 4, 5, 6, 7, 8]"
      ]
     },
     "execution_count": 58,
     "metadata": {},
     "output_type": "execute_result"
    }
   ],
   "source": [
    "# using del statement to delete lists & variables!\n",
    "\n",
    "numbers = list(range(10))\n",
    "print(numbers)\n",
    "\n",
    "del numbers[-1]         # delete last number in list\n",
    "numbers"
   ]
  },
  {
   "cell_type": "code",
   "execution_count": 59,
   "id": "ae0c4e66-e882-4cbb-a046-60621b355cb5",
   "metadata": {},
   "outputs": [
    {
     "data": {
      "text/plain": [
       "[2, 3, 4, 5, 6, 7, 8]"
      ]
     },
     "execution_count": 59,
     "metadata": {},
     "output_type": "execute_result"
    }
   ],
   "source": [
    "del numbers[0:2]         # delete first 2 elements\n",
    "numbers"
   ]
  },
  {
   "cell_type": "code",
   "execution_count": 62,
   "id": "887865d3-5ee0-43ee-811e-c700670b5fde",
   "metadata": {},
   "outputs": [
    {
     "data": {
      "text/plain": [
       "[1, 3, 5, 7, 9]"
      ]
     },
     "execution_count": 62,
     "metadata": {},
     "output_type": "execute_result"
    }
   ],
   "source": [
    "numbers = list(range(10))\n",
    "del numbers[::2]          # delete every other element\n",
    "numbers"
   ]
  },
  {
   "cell_type": "code",
   "execution_count": 63,
   "id": "652c4138-2f97-43a0-900f-4d48f86d6d26",
   "metadata": {},
   "outputs": [
    {
     "data": {
      "text/plain": [
       "[]"
      ]
     },
     "execution_count": 63,
     "metadata": {},
     "output_type": "execute_result"
    }
   ],
   "source": [
    "del numbers[:]            # delete list in numbers\n",
    "numbers"
   ]
  },
  {
   "cell_type": "code",
   "execution_count": 65,
   "id": "38c39cf2-3af9-48cc-aefc-9ea298d98f95",
   "metadata": {},
   "outputs": [
    {
     "ename": "NameError",
     "evalue": "name 'numbers' is not defined",
     "output_type": "error",
     "traceback": [
      "\u001b[1;31m---------------------------------------------------------------------------\u001b[0m",
      "\u001b[1;31mNameError\u001b[0m                                 Traceback (most recent call last)",
      "\u001b[1;32m~\\AppData\\Local\\Temp/ipykernel_16900/2779389437.py\u001b[0m in \u001b[0;36m<module>\u001b[1;34m\u001b[0m\n\u001b[1;32m----> 1\u001b[1;33m \u001b[1;32mdel\u001b[0m \u001b[0mnumbers\u001b[0m               \u001b[1;31m# delete numbers itself\u001b[0m\u001b[1;33m\u001b[0m\u001b[1;33m\u001b[0m\u001b[0m\n\u001b[0m\u001b[0;32m      2\u001b[0m \u001b[0mnumbers\u001b[0m\u001b[1;33m\u001b[0m\u001b[1;33m\u001b[0m\u001b[0m\n",
      "\u001b[1;31mNameError\u001b[0m: name 'numbers' is not defined"
     ]
    }
   ],
   "source": [
    "del numbers               # delete numbers itself\n",
    "numbers"
   ]
  },
  {
   "cell_type": "code",
   "execution_count": 79,
   "id": "90d8200b-a2cc-4a15-ac49-34b1bb35f5ea",
   "metadata": {},
   "outputs": [
    {
     "data": {
      "text/plain": [
       "[1, 2, 3, 4, 5, 6, 7, 8, 9, 10, 11, 12, 13, 14, 15]"
      ]
     },
     "execution_count": 79,
     "metadata": {},
     "output_type": "execute_result"
    }
   ],
   "source": [
    "#self-check 5.6, make list 1 to 15, del peices from it\n",
    "\n",
    "numbers = list(range(1,16))\n",
    "numbers"
   ]
  },
  {
   "cell_type": "code",
   "execution_count": 80,
   "id": "491148f5-9b31-4032-ae3a-749510ff1818",
   "metadata": {},
   "outputs": [
    {
     "data": {
      "text/plain": [
       "[5, 6, 7, 8, 9, 10, 11, 12, 13, 14, 15]"
      ]
     },
     "execution_count": 80,
     "metadata": {},
     "output_type": "execute_result"
    }
   ],
   "source": [
    "del numbers[:4]            # delete first 4 elements\n",
    "numbers"
   ]
  },
  {
   "cell_type": "code",
   "execution_count": 81,
   "id": "48d5e9e4-904b-4745-af34-2fd17c769ead",
   "metadata": {},
   "outputs": [
    {
     "data": {
      "text/plain": [
       "[5, 7, 9, 11, 13, 15]"
      ]
     },
     "execution_count": 81,
     "metadata": {},
     "output_type": "execute_result"
    }
   ],
   "source": [
    "del numbers[1::2]          # delete every other element starting from positon 1\n",
    "numbers"
   ]
  },
  {
   "cell_type": "code",
   "execution_count": 82,
   "id": "cc92bf3e-d250-4cce-bc25-4f1487c666e9",
   "metadata": {},
   "outputs": [],
   "source": [
    "# passing objects to functions (every object is passed by Call-by-reference)\n",
    "\n",
    "def modify_elements(items):\n",
    "    \"\"\" Multiplies all element values in items by 2. \"\"\"\n",
    "    \n",
    "    for i in range(len(items)):\n",
    "        items[i] *= 2"
   ]
  },
  {
   "cell_type": "code",
   "execution_count": 84,
   "id": "7a750f61-e00d-46da-a9aa-a3ea7013ee62",
   "metadata": {},
   "outputs": [
    {
     "data": {
      "text/plain": [
       "[2, 4, 6, 8, 10]"
      ]
     },
     "execution_count": 84,
     "metadata": {},
     "output_type": "execute_result"
    }
   ],
   "source": [
    "numbers = [1, 2, 3, 4, 5]\n",
    "modify_elements(numbers)\n",
    "numbers"
   ]
  },
  {
   "cell_type": "code",
   "execution_count": 85,
   "id": "ebde4f19-14b6-4313-b0ac-3cab1864e6a2",
   "metadata": {},
   "outputs": [
    {
     "data": {
      "text/plain": [
       "(10, 20, 30)"
      ]
     },
     "execution_count": 85,
     "metadata": {},
     "output_type": "execute_result"
    }
   ],
   "source": [
    "numbers_tuple = (10, 20, 30)\n",
    "numbers_tuple"
   ]
  },
  {
   "cell_type": "code",
   "execution_count": 86,
   "id": "ed977317-2e61-4531-8954-fc41b68d0470",
   "metadata": {},
   "outputs": [
    {
     "ename": "TypeError",
     "evalue": "'tuple' object does not support item assignment",
     "output_type": "error",
     "traceback": [
      "\u001b[1;31m---------------------------------------------------------------------------\u001b[0m",
      "\u001b[1;31mTypeError\u001b[0m                                 Traceback (most recent call last)",
      "\u001b[1;32m~\\AppData\\Local\\Temp/ipykernel_16900/3211856685.py\u001b[0m in \u001b[0;36m<module>\u001b[1;34m\u001b[0m\n\u001b[1;32m----> 1\u001b[1;33m \u001b[0mmodify_elements\u001b[0m\u001b[1;33m(\u001b[0m\u001b[0mnumbers_tuple\u001b[0m\u001b[1;33m)\u001b[0m\u001b[1;33m\u001b[0m\u001b[1;33m\u001b[0m\u001b[0m\n\u001b[0m",
      "\u001b[1;32m~\\AppData\\Local\\Temp/ipykernel_16900/179070165.py\u001b[0m in \u001b[0;36mmodify_elements\u001b[1;34m(items)\u001b[0m\n\u001b[0;32m      5\u001b[0m \u001b[1;33m\u001b[0m\u001b[0m\n\u001b[0;32m      6\u001b[0m     \u001b[1;32mfor\u001b[0m \u001b[0mi\u001b[0m \u001b[1;32min\u001b[0m \u001b[0mrange\u001b[0m\u001b[1;33m(\u001b[0m\u001b[0mlen\u001b[0m\u001b[1;33m(\u001b[0m\u001b[0mitems\u001b[0m\u001b[1;33m)\u001b[0m\u001b[1;33m)\u001b[0m\u001b[1;33m:\u001b[0m\u001b[1;33m\u001b[0m\u001b[1;33m\u001b[0m\u001b[0m\n\u001b[1;32m----> 7\u001b[1;33m         \u001b[0mitems\u001b[0m\u001b[1;33m[\u001b[0m\u001b[0mi\u001b[0m\u001b[1;33m]\u001b[0m \u001b[1;33m*=\u001b[0m \u001b[1;36m2\u001b[0m\u001b[1;33m\u001b[0m\u001b[1;33m\u001b[0m\u001b[0m\n\u001b[0m",
      "\u001b[1;31mTypeError\u001b[0m: 'tuple' object does not support item assignment"
     ]
    }
   ],
   "source": [
    "modify_elements(numbers_tuple)"
   ]
  },
  {
   "cell_type": "code",
   "execution_count": 90,
   "id": "f68e89dd-66dd-401b-b12b-3fb066d63c9f",
   "metadata": {},
   "outputs": [
    {
     "data": {
      "text/plain": [
       "[2, 2, 4, 5, 7, 8, 9, 10]"
      ]
     },
     "execution_count": 90,
     "metadata": {},
     "output_type": "execute_result"
    }
   ],
   "source": [
    "#sorting sequences!\n",
    "#sorting the list iself using built-in method for lists (sort())\n",
    "\n",
    "numbers = [10, 2, 7, 5, 2, 8, 9, 4]\n",
    "numbers.sort()\n",
    "numbers"
   ]
  },
  {
   "cell_type": "code",
   "execution_count": 91,
   "id": "0d7f0d56-9a4a-4664-bb7c-1b313590b41c",
   "metadata": {},
   "outputs": [
    {
     "data": {
      "text/plain": [
       "[10, 9, 8, 7, 5, 4, 2, 2]"
      ]
     },
     "execution_count": 91,
     "metadata": {},
     "output_type": "execute_result"
    }
   ],
   "source": [
    "numbers = [10, 2, 7, 5, 2, 8, 9, 4]\n",
    "numbers.sort(reverse=True)\n",
    "numbers"
   ]
  },
  {
   "cell_type": "code",
   "execution_count": 94,
   "id": "d545c2f5-25a6-4e2b-83bd-17f819a320e5",
   "metadata": {},
   "outputs": [
    {
     "data": {
      "text/plain": [
       "[2, 2, 4, 5, 7, 8, 9, 10]"
      ]
     },
     "execution_count": 94,
     "metadata": {},
     "output_type": "execute_result"
    }
   ],
   "source": [
    "#sorting for immutable sequences\n",
    "\n",
    "numbers = [10, 2, 7, 5, 2, 8, 9, 4]\n",
    "ascending_numbers = sorted(numbers)       #built-in function, takes sequence & returns list of values in ascending order\n",
    "ascending_numbers                         #doesnt change original list!"
   ]
  },
  {
   "cell_type": "code",
   "execution_count": 102,
   "id": "48267a17-a87e-42f7-bb9b-395090123f18",
   "metadata": {},
   "outputs": [
    {
     "data": {
      "text/plain": [
       "['a', 'f', 'f', 'h', 'i', 'j', 'l', 'o', 's', 'u']"
      ]
     },
     "execution_count": 102,
     "metadata": {},
     "output_type": "execute_result"
    }
   ],
   "source": [
    "letters = 'fhsjalofiu'                    #lists are immutable, sorted() can handle it and returns a LIST, not a string!\n",
    "ascending_letters = sorted(letters)\n",
    "ascending_letters                         #lexigraphical ordering, not aplhabetical"
   ]
  },
  {
   "cell_type": "code",
   "execution_count": 98,
   "id": "86aa28eb-7528-47da-8515-bd02572c192a",
   "metadata": {},
   "outputs": [
    {
     "data": {
      "text/plain": [
       "['blue', 'green', 'orange', 'red', 'yellow']"
      ]
     },
     "execution_count": 98,
     "metadata": {},
     "output_type": "execute_result"
    }
   ],
   "source": [
    "colors = ('red', 'orange', 'yellow','green','blue')\n",
    "ascending_colors = sorted(colors)\n",
    "ascending_colors"
   ]
  },
  {
   "cell_type": "code",
   "execution_count": 99,
   "id": "ec15ab10-8591-45f7-b1fe-b29fed0872c2",
   "metadata": {},
   "outputs": [
    {
     "data": {
      "text/plain": [
       "('red', 'orange', 'yellow', 'green', 'blue')"
      ]
     },
     "execution_count": 99,
     "metadata": {},
     "output_type": "execute_result"
    }
   ],
   "source": [
    "colors"
   ]
  },
  {
   "cell_type": "code",
   "execution_count": 100,
   "id": "1815f9b2-99d9-4afa-98d8-4dfe89af2f94",
   "metadata": {},
   "outputs": [],
   "source": [
    "# sort method .sort() sorts list or sequence IN-PLACE (changes original)\n",
    "# sort function sorted() doesn't change original, only returns sorted list"
   ]
  },
  {
   "cell_type": "code",
   "execution_count": 101,
   "id": "63d15f2d-d3e6-490c-b50e-ef5d19785a0b",
   "metadata": {},
   "outputs": [
    {
     "data": {
      "text/plain": [
       "['yellow', 'red', 'orange', 'green', 'blue']"
      ]
     },
     "execution_count": 101,
     "metadata": {},
     "output_type": "execute_result"
    }
   ],
   "source": [
    "sorted(colors, reverse=True)"
   ]
  },
  {
   "cell_type": "code",
   "execution_count": 103,
   "id": "a3aaa60a-d58d-4e98-b448-a1f4141c2710",
   "metadata": {},
   "outputs": [
    {
     "data": {
      "text/plain": [
       "['Bacon', 'Cookies', 'Grapes', 'apples', 'pizza', 'steak']"
      ]
     },
     "execution_count": 103,
     "metadata": {},
     "output_type": "execute_result"
    }
   ],
   "source": [
    "#self-check 5.8, create list with lower/uppercase strings and use sort method to sort in ascending order\n",
    "\n",
    "string_fun = ['Cookies', 'pizza', 'Grapes', 'apples', 'steak', 'Bacon']\n",
    "string_fun.sort()\n",
    "string_fun"
   ]
  },
  {
   "cell_type": "code",
   "execution_count": 106,
   "id": "aa0613d0-b189-4395-956c-b9137c622734",
   "metadata": {},
   "outputs": [],
   "source": [
    "# above example not in alphabetical order! Lexicographical, uppercase are different than lowercase  (ASCII ordering from high to low)"
   ]
  },
  {
   "cell_type": "code",
   "execution_count": 115,
   "id": "e6efbc3c-beec-4295-802d-08b0dbdfb4ee",
   "metadata": {},
   "outputs": [
    {
     "data": {
      "text/plain": [
       "3"
      ]
     },
     "execution_count": 115,
     "metadata": {},
     "output_type": "execute_result"
    }
   ],
   "source": [
    "#searching through sequences to get indeces and check if item is even in a sequence!\n",
    "\n",
    "numbers = [1,6,4,2,8,6,5]\n",
    "numbers.index(2)             #searches list for item 2 and returns its index!"
   ]
  },
  {
   "cell_type": "code",
   "execution_count": 118,
   "id": "c6c72bba-1ab3-445c-8c15-369239ab0255",
   "metadata": {},
   "outputs": [
    {
     "data": {
      "text/plain": [
       "5"
      ]
     },
     "execution_count": 118,
     "metadata": {},
     "output_type": "execute_result"
    }
   ],
   "source": [
    "numbers.index(6, 2)           #searches for item 6 in list starting search from index 2 (skips first 6)"
   ]
  },
  {
   "cell_type": "code",
   "execution_count": 120,
   "id": "709adfbc-9192-4c68-bb3f-ef4efed7edb5",
   "metadata": {},
   "outputs": [
    {
     "data": {
      "text/plain": [
       "1"
      ]
     },
     "execution_count": 120,
     "metadata": {},
     "output_type": "execute_result"
    }
   ],
   "source": [
    "numbers.index(6, 0, 5)        #searches for item 6 starting at index 0 going to index 5 (ends search of index 5)"
   ]
  },
  {
   "cell_type": "code",
   "execution_count": 121,
   "id": "0f65eeac-538a-460a-b5ef-5a05aab7b5f7",
   "metadata": {},
   "outputs": [
    {
     "data": {
      "text/plain": [
       "True"
      ]
     },
     "execution_count": 121,
     "metadata": {},
     "output_type": "execute_result"
    }
   ],
   "source": [
    "6 in numbers"
   ]
  },
  {
   "cell_type": "code",
   "execution_count": 122,
   "id": "efdf77b1-750e-4406-8bf9-d1d9acc06455",
   "metadata": {},
   "outputs": [
    {
     "data": {
      "text/plain": [
       "True"
      ]
     },
     "execution_count": 122,
     "metadata": {},
     "output_type": "execute_result"
    }
   ],
   "source": [
    "1000 not in numbers"
   ]
  },
  {
   "cell_type": "code",
   "execution_count": 123,
   "id": "125e4fe2-7c08-49a3-9648-17c24b61114f",
   "metadata": {},
   "outputs": [
    {
     "data": {
      "text/plain": [
       "False"
      ]
     },
     "execution_count": 123,
     "metadata": {},
     "output_type": "execute_result"
    }
   ],
   "source": [
    "6 not in numbers"
   ]
  },
  {
   "cell_type": "code",
   "execution_count": 124,
   "id": "1c41be7e-f3d2-4d58-82fa-d0c6a6c3abf9",
   "metadata": {},
   "outputs": [
    {
     "ename": "ValueError",
     "evalue": "1000 is not in list",
     "output_type": "error",
     "traceback": [
      "\u001b[1;31m---------------------------------------------------------------------------\u001b[0m",
      "\u001b[1;31mValueError\u001b[0m                                Traceback (most recent call last)",
      "\u001b[1;32m~\\AppData\\Local\\Temp/ipykernel_16900/460241901.py\u001b[0m in \u001b[0;36m<module>\u001b[1;34m\u001b[0m\n\u001b[1;32m----> 1\u001b[1;33m \u001b[0mnumbers\u001b[0m\u001b[1;33m.\u001b[0m\u001b[0mindex\u001b[0m\u001b[1;33m(\u001b[0m\u001b[1;36m1000\u001b[0m\u001b[1;33m)\u001b[0m\u001b[1;33m\u001b[0m\u001b[1;33m\u001b[0m\u001b[0m\n\u001b[0m",
      "\u001b[1;31mValueError\u001b[0m: 1000 is not in list"
     ]
    }
   ],
   "source": [
    "numbers.index(1000)"
   ]
  },
  {
   "cell_type": "code",
   "execution_count": 125,
   "id": "53f725b2-5bbe-4d42-9b4a-537b0e2410c7",
   "metadata": {},
   "outputs": [],
   "source": [
    "#Python code, normally asking for forgiveness instead of handling corner-cases for run-time errors is done"
   ]
  },
  {
   "cell_type": "code",
   "execution_count": 126,
   "id": "533befdf-7004-43a7-8027-b0a756750493",
   "metadata": {},
   "outputs": [
    {
     "name": "stdout",
     "output_type": "stream",
     "text": [
      "1000 not found\n"
     ]
    }
   ],
   "source": [
    "key = 1000\n",
    "\n",
    "if key in numbers:\n",
    "    print(f'found {key} at index {numbers.index(key)}')\n",
    "else:\n",
    "    print(f'{key} not found')"
   ]
  },
  {
   "cell_type": "code",
   "execution_count": 127,
   "id": "7001b102-2c02-43d4-a80c-17725fe85495",
   "metadata": {},
   "outputs": [
    {
     "name": "stdout",
     "output_type": "stream",
     "text": [
      "found 6 at index 1\n"
     ]
    }
   ],
   "source": [
    "key = 6\n",
    "\n",
    "if key in numbers:\n",
    "    print(f'found {key} at index {numbers.index(key)}')\n",
    "else:\n",
    "    print(f'{key} not found')"
   ]
  },
  {
   "cell_type": "code",
   "execution_count": 128,
   "id": "758eb8b4-d957-46a7-85df-b20a85142a00",
   "metadata": {},
   "outputs": [],
   "source": [
    "#is an item true?\n",
    "# 0 is False, nonzero is True!"
   ]
  },
  {
   "cell_type": "code",
   "execution_count": 132,
   "id": "ec5425b0-3ac4-4db0-8435-13662f956f5a",
   "metadata": {},
   "outputs": [
    {
     "name": "stdout",
     "output_type": "stream",
     "text": [
      "3\n",
      "44 not in nums list\n"
     ]
    }
   ],
   "source": [
    "# self-check 5.9, make 5 element list and use index method to search for two items. Ensure ValueError occurs when searching for non list item.\n",
    "\n",
    "nums = [67, 12, 46, 43, 13]\n",
    "\n",
    "print(nums.index(43))\n",
    "\n",
    "key = 44\n",
    "if key in nums:\n",
    "    print(\"it's here!\")\n",
    "else:\n",
    "    print(\"44 not in nums list\")"
   ]
  },
  {
   "cell_type": "code",
   "execution_count": 136,
   "id": "6e900b19-a905-46f0-8f07-ff232fd242e9",
   "metadata": {},
   "outputs": [
    {
     "name": "stdout",
     "output_type": "stream",
     "text": [
      "['red', 'orange', 'yellow', 'green']\n"
     ]
    }
   ],
   "source": [
    "# other list methods!\n",
    "\n",
    "color_names = ['orange', 'yellow', 'green']\n",
    "\n",
    "color_names.insert(0, 'red')          # inserts new item at index 0\n",
    "print(color_names)"
   ]
  },
  {
   "cell_type": "code",
   "execution_count": 137,
   "id": "29da8d14-5ee2-4c03-bdc0-4ff91c4acb8f",
   "metadata": {},
   "outputs": [
    {
     "data": {
      "text/plain": [
       "['red', 'orange', 'yellow', 'green', 'blue']"
      ]
     },
     "execution_count": 137,
     "metadata": {},
     "output_type": "execute_result"
    }
   ],
   "source": [
    "color_names.append('blue')            # inserts new item at end of list\n",
    "color_names"
   ]
  },
  {
   "cell_type": "code",
   "execution_count": 150,
   "id": "9c7913b7-fea1-44b9-b683-af4089e86b8f",
   "metadata": {},
   "outputs": [
    {
     "data": {
      "text/plain": [
       "['red',\n",
       " 'orange',\n",
       " 'yellow',\n",
       " 'green',\n",
       " 'blue',\n",
       " 'indigo',\n",
       " 'violet',\n",
       " 'indigo',\n",
       " 'violet',\n",
       " 'indigo',\n",
       " 'violet']"
      ]
     },
     "execution_count": 150,
     "metadata": {},
     "output_type": "execute_result"
    }
   ],
   "source": [
    "color_names.extend(['indigo', 'violet'])    # inserts a sequence at the end fo the list, only takes ONE argument, needs single sequence\n",
    "color_names"
   ]
  },
  {
   "cell_type": "code",
   "execution_count": 151,
   "id": "c8dffd1d-7a56-491c-92dc-fd73986ab5b1",
   "metadata": {},
   "outputs": [
    {
     "data": {
      "text/plain": [
       "['a', 'b', 'c']"
      ]
     },
     "execution_count": 151,
     "metadata": {},
     "output_type": "execute_result"
    }
   ],
   "source": [
    "sample_list = []\n",
    "\n",
    "s = 'abc'\n",
    "\n",
    "sample_list.extend(s)                \n",
    "\n",
    "sample_list"
   ]
  },
  {
   "cell_type": "code",
   "execution_count": 152,
   "id": "c444a223-2e0a-44ac-8797-6d70296357ac",
   "metadata": {},
   "outputs": [
    {
     "data": {
      "text/plain": [
       "['a', 'b', 'c', 1, 2, 3]"
      ]
     },
     "execution_count": 152,
     "metadata": {},
     "output_type": "execute_result"
    }
   ],
   "source": [
    "t = (1, 2, 3)\n",
    "sample_list.extend(t)\n",
    "sample_list"
   ]
  },
  {
   "cell_type": "code",
   "execution_count": 153,
   "id": "5053d221-f05a-4941-80f0-760c77dc7de2",
   "metadata": {},
   "outputs": [
    {
     "data": {
      "text/plain": [
       "['a', 'b', 'c', 1, 2, 3, 4, 5, 6]"
      ]
     },
     "execution_count": 153,
     "metadata": {},
     "output_type": "execute_result"
    }
   ],
   "source": [
    "sample_list.extend((4,5,6))\n",
    "sample_list"
   ]
  },
  {
   "cell_type": "code",
   "execution_count": 154,
   "id": "c739398a-c909-46f0-b1b7-4149a38a0bec",
   "metadata": {},
   "outputs": [
    {
     "data": {
      "text/plain": [
       "['red',\n",
       " 'orange',\n",
       " 'yellow',\n",
       " 'blue',\n",
       " 'indigo',\n",
       " 'violet',\n",
       " 'indigo',\n",
       " 'violet',\n",
       " 'indigo',\n",
       " 'violet']"
      ]
     },
     "execution_count": 154,
     "metadata": {},
     "output_type": "execute_result"
    }
   ],
   "source": [
    "color_names.remove('green')        #removes very first instance of given item to list!\n",
    "color_names"
   ]
  },
  {
   "cell_type": "code",
   "execution_count": 155,
   "id": "d2075310-2dc2-4be7-acb2-6a566bd74134",
   "metadata": {},
   "outputs": [
    {
     "data": {
      "text/plain": [
       "[]"
      ]
     },
     "execution_count": 155,
     "metadata": {},
     "output_type": "execute_result"
    }
   ],
   "source": [
    "color_names.clear()          #clears list\n",
    "color_names"
   ]
  },
  {
   "cell_type": "code",
   "execution_count": 156,
   "id": "3190b7a6-034d-456a-8632-018e2a8b28c8",
   "metadata": {},
   "outputs": [
    {
     "data": {
      "text/plain": [
       "[]"
      ]
     },
     "execution_count": 156,
     "metadata": {},
     "output_type": "execute_result"
    }
   ],
   "source": [
    "color_names[:]               #equivalent to .clear(), can slice or use method"
   ]
  },
  {
   "cell_type": "code",
   "execution_count": 159,
   "id": "c05f2d57-c1e0-4bcc-bbd4-4ec51c96750d",
   "metadata": {},
   "outputs": [
    {
     "name": "stdout",
     "output_type": "stream",
     "text": [
      "1 appears 3 times in responses\n",
      "2 appears 5 times in responses\n",
      "3 appears 4 times in responses\n",
      "4 appears 4 times in responses\n",
      "5 appears 4 times in responses\n"
     ]
    }
   ],
   "source": [
    "responses = [1,2,3,4,5,3,4,2,2,1,5,4,3,2,4,2,3,1,5,5]\n",
    "\n",
    "for i in range(1, 6):\n",
    "    print(f'{i} appears {responses.count(i)} times in responses')     # .count() counts items occurance in sequence\n",
    "    "
   ]
  },
  {
   "cell_type": "code",
   "execution_count": 162,
   "id": "7ee77817-8436-4d82-aeb8-aa03070e3281",
   "metadata": {},
   "outputs": [
    {
     "data": {
      "text/plain": [
       "['green', 'yellow', 'orange', 'red']"
      ]
     },
     "execution_count": 162,
     "metadata": {},
     "output_type": "execute_result"
    }
   ],
   "source": [
    "# reverse list elements!\n",
    "\n",
    "color_names = ['red', 'orange', 'yellow', 'green']\n",
    "\n",
    "color_names.reverse()                           # reverses list! (list itself)\n",
    "\n",
    "color_names"
   ]
  },
  {
   "cell_type": "code",
   "execution_count": 163,
   "id": "3e27df55-96a0-43df-9fc5-d39eb3db6c4a",
   "metadata": {},
   "outputs": [],
   "source": [
    "copied_list = color_names.copy()               # makes a shallow copy of list\n",
    "                                               # new list that refers to same elements "
   ]
  },
  {
   "cell_type": "code",
   "execution_count": 164,
   "id": "3a23823a-df2b-4b6f-92e1-a09ffd1b4c8f",
   "metadata": {},
   "outputs": [
    {
     "data": {
      "text/plain": [
       "1945323956080"
      ]
     },
     "execution_count": 164,
     "metadata": {},
     "output_type": "execute_result"
    }
   ],
   "source": [
    "id(color_names[0])"
   ]
  },
  {
   "cell_type": "code",
   "execution_count": 165,
   "id": "57ac5209-b702-47b9-9afc-313f0b40b844",
   "metadata": {},
   "outputs": [
    {
     "data": {
      "text/plain": [
       "1945323956080"
      ]
     },
     "execution_count": 165,
     "metadata": {},
     "output_type": "execute_result"
    }
   ],
   "source": [
    "id(copied_list[0])"
   ]
  },
  {
   "cell_type": "code",
   "execution_count": 167,
   "id": "fb2390ac-25ff-4e13-be54-b8d8c0bf33a4",
   "metadata": {},
   "outputs": [
    {
     "data": {
      "text/plain": [
       "['green', 'orange', 'red', 'violet']"
      ]
     },
     "execution_count": 167,
     "metadata": {},
     "output_type": "execute_result"
    }
   ],
   "source": [
    "#self-check 5.10, rainbow list and perform 4 steps on them\n",
    "\n",
    "rainbow = ['green', 'orange', 'violet']\n",
    "\n",
    "rainbow.insert(rainbow.index('violet'), 'red')           # insert red before violet\n",
    "rainbow"
   ]
  },
  {
   "cell_type": "code",
   "execution_count": 168,
   "id": "b584b744-ad0f-4360-b90b-3455de301c09",
   "metadata": {},
   "outputs": [
    {
     "data": {
      "text/plain": [
       "['green', 'orange', 'red', 'violet', 'yellow']"
      ]
     },
     "execution_count": 168,
     "metadata": {},
     "output_type": "execute_result"
    }
   ],
   "source": [
    "#append yellow to list\n",
    "\n",
    "rainbow.append('yellow')\n",
    "rainbow"
   ]
  },
  {
   "cell_type": "code",
   "execution_count": 169,
   "id": "e83b2dfe-a2d3-4bc9-83a5-a88442052a00",
   "metadata": {},
   "outputs": [
    {
     "data": {
      "text/plain": [
       "['yellow', 'violet', 'red', 'orange', 'green']"
      ]
     },
     "execution_count": 169,
     "metadata": {},
     "output_type": "execute_result"
    }
   ],
   "source": [
    "#reverse list\n",
    "\n",
    "rainbow.reverse()\n",
    "rainbow"
   ]
  },
  {
   "cell_type": "code",
   "execution_count": 170,
   "id": "981ae0ef-77b4-4f5a-8c85-64262cfd0026",
   "metadata": {},
   "outputs": [
    {
     "data": {
      "text/plain": [
       "['yellow', 'violet', 'red', 'green']"
      ]
     },
     "execution_count": 170,
     "metadata": {},
     "output_type": "execute_result"
    }
   ],
   "source": [
    "#remove element orange\n",
    "\n",
    "rainbow.remove('orange')\n",
    "rainbow"
   ]
  },
  {
   "cell_type": "code",
   "execution_count": 176,
   "id": "fcf6d82f-4234-4535-9451-2adbb494c564",
   "metadata": {},
   "outputs": [
    {
     "data": {
      "text/plain": [
       "['red']"
      ]
     },
     "execution_count": 176,
     "metadata": {},
     "output_type": "execute_result"
    }
   ],
   "source": [
    "# stack data structure\n",
    "\n",
    "stack = []\n",
    "stack.append('red')\n",
    "stack"
   ]
  },
  {
   "cell_type": "code",
   "execution_count": 177,
   "id": "42b3be97-3151-4853-b139-81c0cc122aec",
   "metadata": {},
   "outputs": [
    {
     "data": {
      "text/plain": [
       "['red', 'green']"
      ]
     },
     "execution_count": 177,
     "metadata": {},
     "output_type": "execute_result"
    }
   ],
   "source": [
    "stack.append('green')\n",
    "stack"
   ]
  },
  {
   "cell_type": "code",
   "execution_count": 178,
   "id": "5fc5238a-43cf-4ecc-8fd3-017d0e4f9a1c",
   "metadata": {},
   "outputs": [
    {
     "data": {
      "text/plain": [
       "['red']"
      ]
     },
     "execution_count": 178,
     "metadata": {},
     "output_type": "execute_result"
    }
   ],
   "source": [
    "stack.pop()\n",
    "stack"
   ]
  },
  {
   "cell_type": "code",
   "execution_count": 179,
   "id": "45317120-67a9-49c9-9030-55e09a0f35ac",
   "metadata": {},
   "outputs": [
    {
     "data": {
      "text/plain": [
       "'red'"
      ]
     },
     "execution_count": 179,
     "metadata": {},
     "output_type": "execute_result"
    }
   ],
   "source": [
    "stack.pop()"
   ]
  },
  {
   "cell_type": "code",
   "execution_count": 180,
   "id": "9509f03f-5ec7-49d1-a20f-1a8f430cf274",
   "metadata": {},
   "outputs": [
    {
     "data": {
      "text/plain": [
       "[]"
      ]
     },
     "execution_count": 180,
     "metadata": {},
     "output_type": "execute_result"
    }
   ],
   "source": [
    "stack"
   ]
  },
  {
   "cell_type": "code",
   "execution_count": 182,
   "id": "f7d32d19-f754-4c9e-aed2-be046db397cf",
   "metadata": {},
   "outputs": [
    {
     "ename": "IndexError",
     "evalue": "pop from empty list",
     "output_type": "error",
     "traceback": [
      "\u001b[1;31m---------------------------------------------------------------------------\u001b[0m",
      "\u001b[1;31mIndexError\u001b[0m                                Traceback (most recent call last)",
      "\u001b[1;32m~\\AppData\\Local\\Temp/ipykernel_16900/2667379430.py\u001b[0m in \u001b[0;36m<module>\u001b[1;34m\u001b[0m\n\u001b[1;32m----> 1\u001b[1;33m \u001b[0mstack\u001b[0m\u001b[1;33m.\u001b[0m\u001b[0mpop\u001b[0m\u001b[1;33m(\u001b[0m\u001b[1;33m)\u001b[0m\u001b[1;33m\u001b[0m\u001b[1;33m\u001b[0m\u001b[0m\n\u001b[0m",
      "\u001b[1;31mIndexError\u001b[0m: pop from empty list"
     ]
    }
   ],
   "source": [
    "stack.pop()"
   ]
  },
  {
   "cell_type": "code",
   "execution_count": 184,
   "id": "50c80590-fb4a-41de-87f2-9e10fa93ff39",
   "metadata": {},
   "outputs": [
    {
     "data": {
      "text/plain": [
       "[1, 2, 3, 4, 5]"
      ]
     },
     "execution_count": 184,
     "metadata": {},
     "output_type": "execute_result"
    }
   ],
   "source": [
    "# list comprehensions, defining new list objects!\n",
    "\n",
    "list1 = []          #pre-define basic list\n",
    "\n",
    "for item in range(1, 6):\n",
    "    list1.append(item)\n",
    "\n",
    "list1"
   ]
  },
  {
   "cell_type": "code",
   "execution_count": 185,
   "id": "4010f0b2-9bb6-418c-8dbf-fcd2bd0c49a9",
   "metadata": {},
   "outputs": [
    {
     "data": {
      "text/plain": [
       "[1, 2, 3, 4, 5]"
      ]
     },
     "execution_count": 185,
     "metadata": {},
     "output_type": "execute_result"
    }
   ],
   "source": [
    "#list comprehension does the same as above but in one line!\n",
    "\n",
    "list2 = [item for item in range(1,6)]\n",
    "\n",
    "list2"
   ]
  },
  {
   "cell_type": "code",
   "execution_count": 187,
   "id": "bb322002-cace-4ba5-a5fb-d61da665b05a",
   "metadata": {},
   "outputs": [
    {
     "data": {
      "text/plain": [
       "[1, 8, 27, 64, 125]"
      ]
     },
     "execution_count": 187,
     "metadata": {},
     "output_type": "execute_result"
    }
   ],
   "source": [
    "#mapping, taking a sequence of values and applying an operation to it to get a new sequence!\n",
    "\n",
    "list3 = [item ** 3 for item in range(1, 6)]\n",
    "list3"
   ]
  },
  {
   "cell_type": "code",
   "execution_count": 188,
   "id": "11bf11a4-b36b-4401-871e-6efdc5a529ac",
   "metadata": {},
   "outputs": [
    {
     "data": {
      "text/plain": [
       "[2, 4, 6, 8, 10]"
      ]
     },
     "execution_count": 188,
     "metadata": {},
     "output_type": "execute_result"
    }
   ],
   "source": [
    "#filtering, looking at each element in sequence and including it only if it passes a condition\n",
    "\n",
    "list4 = [item for item in range(1, 11) if item % 2 == 0]\n",
    "list4"
   ]
  },
  {
   "cell_type": "code",
   "execution_count": 189,
   "id": "07cd07c2-6991-4808-8325-f804d95243a1",
   "metadata": {},
   "outputs": [
    {
     "data": {
      "text/plain": [
       "['red', 'orange', 'yellow', 'blue']"
      ]
     },
     "execution_count": 189,
     "metadata": {},
     "output_type": "execute_result"
    }
   ],
   "source": [
    "colors = ['red', 'orange', 'yellow', 'blue']\n",
    "colors"
   ]
  },
  {
   "cell_type": "code",
   "execution_count": 190,
   "id": "b58d2902-85b3-45fa-b781-e0d45daa4f62",
   "metadata": {},
   "outputs": [
    {
     "data": {
      "text/plain": [
       "['RED', 'ORANGE', 'YELLOW', 'BLUE']"
      ]
     },
     "execution_count": 190,
     "metadata": {},
     "output_type": "execute_result"
    }
   ],
   "source": [
    "# map list to new list where every element is uppercase\n",
    "\n",
    "colors2 = [item.upper() for item in colors]\n",
    "colors2"
   ]
  },
  {
   "cell_type": "code",
   "execution_count": 191,
   "id": "8249051a-ab44-48a1-a02f-56870e2f2d4b",
   "metadata": {},
   "outputs": [
    {
     "data": {
      "text/plain": [
       "['red', 'orange', 'yellow', 'blue']"
      ]
     },
     "execution_count": 191,
     "metadata": {},
     "output_type": "execute_result"
    }
   ],
   "source": [
    "colors"
   ]
  },
  {
   "cell_type": "code",
   "execution_count": 195,
   "id": "58e95023-54b0-42c0-bad3-df5fd9a8fc4e",
   "metadata": {},
   "outputs": [
    {
     "data": {
      "text/plain": [
       "[(1, 1), (2, 8), (3, 27), (4, 64), (5, 125)]"
      ]
     },
     "execution_count": 195,
     "metadata": {},
     "output_type": "execute_result"
    }
   ],
   "source": [
    "#self-check 5.12, use list comprehension to make a list of tuples containing 1-5 and their cubes\n",
    "\n",
    "cube_tuples = [(item1, item1 ** 3) for item1 in range(1,6)]\n",
    "cube_tuples"
   ]
  },
  {
   "cell_type": "code",
   "execution_count": 198,
   "id": "b1ecfeb1-4ea3-4239-8e5f-d794417068ba",
   "metadata": {},
   "outputs": [
    {
     "data": {
      "text/plain": [
       "[3, 6, 9, 12, 15, 18, 21, 24, 27]"
      ]
     },
     "execution_count": 198,
     "metadata": {},
     "output_type": "execute_result"
    }
   ],
   "source": [
    "# create a list of multiple of 3 that are less than 30\n",
    "\n",
    "multiple = [x for x in range(3, 30, 3)]\n",
    "multiple"
   ]
  },
  {
   "cell_type": "markdown",
   "id": "a1f1949f-d95e-42da-b2c2-ce059eb8bf17",
   "metadata": {},
   "source": [
    "#### Generator Expressions\n",
    "\n",
    "- very similar to list comprehensions, list comprehensions use brackets and generators use parenthesis\n",
    "- List comprehensions are greedy, need to evaluate immediatly \n",
    "- Lazy evaluation: values produced on demand as needed\n",
    "- Generator expressions only produce one value at a time (on demand)\n",
    "- Lazy evaluation improves performance & reduces memory consumption! "
   ]
  },
  {
   "cell_type": "code",
   "execution_count": 201,
   "id": "79b7991f-5a25-4eb8-9796-c7294f1e59cd",
   "metadata": {},
   "outputs": [
    {
     "name": "stdout",
     "output_type": "stream",
     "text": [
      "49 9 1 81 9 "
     ]
    }
   ],
   "source": [
    "#using a generator to get rid of odd values & return the square of the odd numbers\n",
    "numbers = [10, 4, 2, 6, 7, 3, 8, -1, -9, 3, -2]\n",
    "\n",
    "for value in (x ** 2 for x in numbers if x % 2 != 0):\n",
    "    print(value, end = ' ')"
   ]
  },
  {
   "cell_type": "code",
   "execution_count": 202,
   "id": "1a23d464-6bfd-459a-9c6a-222c3a222c5f",
   "metadata": {},
   "outputs": [
    {
     "data": {
      "text/plain": [
       "<generator object <genexpr> at 0x000001C4F14BD510>"
      ]
     },
     "execution_count": 202,
     "metadata": {},
     "output_type": "execute_result"
    }
   ],
   "source": [
    "# performance in generator expressions is much much better\n",
    "\n",
    "square_of_odds = (x ** 2 for x in numbers if x % 2 != 0)\n",
    "square_of_odds"
   ]
  },
  {
   "cell_type": "code",
   "execution_count": 212,
   "id": "c8fa8244-ca16-46e8-b0ae-9a61c28435e6",
   "metadata": {},
   "outputs": [
    {
     "data": {
      "text/plain": [
       "[1000, 64, 8]"
      ]
     },
     "execution_count": 212,
     "metadata": {},
     "output_type": "execute_result"
    }
   ],
   "source": [
    "#self-check 5.13, create generator that cubes even integers in a list. make a list of the results.\n",
    "\n",
    "list1 = [10,3,7,1,9,4, 2]\n",
    "\n",
    "list2 = [value for value in (x ** 3 for x in list1 if x % 2 == 0)]      #list comprehension with a generator in it!\n",
    "list2"
   ]
  },
  {
   "cell_type": "code",
   "execution_count": 213,
   "id": "3d399dff-7426-41b0-8a73-11048c1b3675",
   "metadata": {},
   "outputs": [
    {
     "data": {
      "text/plain": [
       "[1000, 64, 8]"
      ]
     },
     "execution_count": 213,
     "metadata": {},
     "output_type": "execute_result"
    }
   ],
   "source": [
    "# given solution\n",
    "list3 = list(x ** 3 for x in list1 if x % 2 == 0)\n",
    "list3"
   ]
  },
  {
   "cell_type": "markdown",
   "id": "5238790c-44f8-4330-9f81-064cfb50344f",
   "metadata": {},
   "source": [
    "#### Filter, Map and Reduce\n",
    "\n",
    "- filtering: looking at a sequence of values and only returning those that matched a specific condition\n",
    "- mapping: looking at each element of a sequence and changing them\n",
    "- reduce: function that takes a sequence of values and representing them as a single item\n",
    "\n",
    "- filter & mapping are higher-order functions (functions that recieve functions as arguments)\n",
    "- functions are objects in python! Can assign them to variables, pass them to functions, or return them from functions\n",
    "- pass named functions or lambdas! "
   ]
  },
  {
   "cell_type": "code",
   "execution_count": 215,
   "id": "ad471dcb-d29b-4f2c-a611-cb231a001136",
   "metadata": {},
   "outputs": [
    {
     "data": {
      "text/plain": [
       "[3, 7, 1, 9, 5]"
      ]
     },
     "execution_count": 215,
     "metadata": {},
     "output_type": "execute_result"
    }
   ],
   "source": [
    "numbers = [10, 3, 7, 1, 9, 4, 2, 8, 5, 6]\n",
    "\n",
    "#filtering operation\n",
    "def is_odd(x):\n",
    "    \"\"\" Returns True only if x is odd. \"\"\"\n",
    "    return x % 2 != 0\n",
    "\n",
    "even_numbers = list(filter(is_odd, numbers))        #filter function is lazy! list() iterates the results of filter()\n",
    "even_numbers                                        #filter() takes 2 arguments, a function (returns True or False) & our list!"
   ]
  },
  {
   "cell_type": "code",
   "execution_count": 217,
   "id": "6fdd1d0d-11e0-45cf-9374-fc847c11961a",
   "metadata": {},
   "outputs": [
    {
     "data": {
      "text/plain": [
       "[3, 7, 1, 9, 5]"
      ]
     },
     "execution_count": 217,
     "metadata": {},
     "output_type": "execute_result"
    }
   ],
   "source": [
    "even_numbers2 = [item for item in numbers if is_odd(item)]     #equivalent to filter() above! But using list-comprehensions\n",
    "even_numbers2"
   ]
  },
  {
   "cell_type": "code",
   "execution_count": 219,
   "id": "0e5f5051-9d0b-4318-b82c-a5c194343d74",
   "metadata": {},
   "outputs": [
    {
     "data": {
      "text/plain": [
       "[3, 7, 1, 9, 5]"
      ]
     },
     "execution_count": 219,
     "metadata": {},
     "output_type": "execute_result"
    }
   ],
   "source": [
    "even_numbers3 = list(filter(lambda x: x % 2 != 0, numbers))    #equivalent to the 2 above but uses lambdas\n",
    "even_numbers3\n",
    "\n",
    "#filter makes an iterable object but we need to assign the iteration to a sequence, list() does that for us!"
   ]
  },
  {
   "cell_type": "code",
   "execution_count": 220,
   "id": "fd52cdae-ae05-413b-9e83-3c46d6e42f4e",
   "metadata": {},
   "outputs": [
    {
     "data": {
      "text/plain": [
       "[10, 3, 7, 1, 9, 4, 2, 8, 5, 6]"
      ]
     },
     "execution_count": 220,
     "metadata": {},
     "output_type": "execute_result"
    }
   ],
   "source": [
    "numbers"
   ]
  },
  {
   "cell_type": "code",
   "execution_count": 221,
   "id": "da756aa7-1866-43c2-b431-5fbca3ea789d",
   "metadata": {},
   "outputs": [
    {
     "data": {
      "text/plain": [
       "[100, 9, 49, 1, 81, 16, 4, 64, 25, 36]"
      ]
     },
     "execution_count": 221,
     "metadata": {},
     "output_type": "execute_result"
    }
   ],
   "source": [
    "list(map(lambda x: x ** 2, numbers))          # map is also lazy! "
   ]
  },
  {
   "cell_type": "code",
   "execution_count": 223,
   "id": "8f4a0b20-7684-435f-9570-6715539195e7",
   "metadata": {},
   "outputs": [
    {
     "data": {
      "text/plain": [
       "[100, 9, 49, 1, 81, 16, 4, 64, 25, 36]"
      ]
     },
     "execution_count": 223,
     "metadata": {},
     "output_type": "execute_result"
    }
   ],
   "source": [
    "[item ** 2 for item in numbers]               # equivalent list comprehension for above map()"
   ]
  },
  {
   "cell_type": "code",
   "execution_count": 224,
   "id": "5e8708f5-01d7-453c-a372-92d630899915",
   "metadata": {},
   "outputs": [
    {
     "data": {
      "text/plain": [
       "[9, 49, 1, 81, 25]"
      ]
     },
     "execution_count": 224,
     "metadata": {},
     "output_type": "execute_result"
    }
   ],
   "source": [
    "list(map(lambda x: x ** 2,\n",
    "         filter(lambda x: x % 2 != 0, numbers)))    # using map() & filter() for our new list!"
   ]
  },
  {
   "cell_type": "code",
   "execution_count": 225,
   "id": "cd69cd5a-5bf0-45c8-8502-c666a33504f5",
   "metadata": {},
   "outputs": [
    {
     "data": {
      "text/plain": [
       "[9, 49, 1, 81, 25]"
      ]
     },
     "execution_count": 225,
     "metadata": {},
     "output_type": "execute_result"
    }
   ],
   "source": [
    "[x ** 2 for x in numbers if x % 2 != 0]             # equivalent list comprehension to above statement"
   ]
  },
  {
   "cell_type": "code",
   "execution_count": 226,
   "id": "d31f518c-5eaa-49bb-bb87-c2b9e6133208",
   "metadata": {},
   "outputs": [],
   "source": [
    "# functools module, has reduce() function for creating custom reduce functions!"
   ]
  },
  {
   "cell_type": "code",
   "execution_count": 231,
   "id": "7e65d6b1-8da4-4530-859a-b02de23548ac",
   "metadata": {},
   "outputs": [
    {
     "data": {
      "text/plain": [
       "[1, 2, 3, 4, 5, 6, 7, 8, 9, 10, 11, 12, 13, 14, 15]"
      ]
     },
     "execution_count": 231,
     "metadata": {},
     "output_type": "execute_result"
    }
   ],
   "source": [
    "#self-check 5.14, create list 1 to 15 and perform tasks:\n",
    "\n",
    "numbers = list(range(1, 16))\n",
    "numbers"
   ]
  },
  {
   "cell_type": "code",
   "execution_count": 232,
   "id": "84caa68d-68d1-4e82-bc01-93c005a1a743",
   "metadata": {},
   "outputs": [
    {
     "data": {
      "text/plain": [
       "[2, 4, 6, 8, 10, 12, 14]"
      ]
     },
     "execution_count": 232,
     "metadata": {},
     "output_type": "execute_result"
    }
   ],
   "source": [
    "#use filter() with a lamda to select only lists even elements, put into new list\n",
    "\n",
    "numbers_even = list(filter(lambda x: x % 2 == 0, numbers))\n",
    "numbers_even"
   ]
  },
  {
   "cell_type": "code",
   "execution_count": 242,
   "id": "bcd75647-945b-488f-b0bb-6ce7811605ae",
   "metadata": {},
   "outputs": [
    {
     "data": {
      "text/plain": [
       "[1, 4, 9, 16, 25, 36, 49, 64, 81, 100, 121, 144, 169, 196, 225]"
      ]
     },
     "execution_count": 242,
     "metadata": {},
     "output_type": "execute_result"
    }
   ],
   "source": [
    "#use use map() with lambda to square the values of the even numbers, put into new list\n",
    "\n",
    "squared_numbers_even = list(map(lambda x: x ** 2, numbers))\n",
    "squared_numbers_even"
   ]
  },
  {
   "cell_type": "code",
   "execution_count": 243,
   "id": "983f7dab-e0ca-4b78-8322-ac3dbcdc39c6",
   "metadata": {},
   "outputs": [
    {
     "data": {
      "text/plain": [
       "[4, 16, 36, 64, 100, 144, 196]"
      ]
     },
     "execution_count": 243,
     "metadata": {},
     "output_type": "execute_result"
    }
   ],
   "source": [
    "#filter numbers even elements & map them to their squares, create new list with result\n",
    "\n",
    "comprehension_numbers = list(map(lambda x: x ** 2,\n",
    "                             filter(lambda x: x % 2 == 0, numbers)))\n",
    "\n",
    "comprehension_numbers"
   ]
  },
  {
   "cell_type": "code",
   "execution_count": 251,
   "id": "f11d0feb-4ffe-497c-9194-2b2a6800d7ea",
   "metadata": {},
   "outputs": [
    {
     "data": {
      "text/plain": [
       "[(41, 5.0), (32, 0.0), (212, 100.0)]"
      ]
     },
     "execution_count": 251,
     "metadata": {},
     "output_type": "execute_result"
    }
   ],
   "source": [
    "# map a list of 3 fahrenheit temps (41, 32, 212) to a list of tuples containing fahrenheit & calsius equivalents.\n",
    "\n",
    "f_temps = [41, 32, 212]\n",
    "\n",
    "tuple_temps = list((x, (x-32)*(5/9)) for x in f_temps)\n",
    "tuple_temps"
   ]
  },
  {
   "cell_type": "code",
   "execution_count": 253,
   "id": "fca67100-211a-4b91-a9e9-b0812dc30c5d",
   "metadata": {},
   "outputs": [
    {
     "data": {
      "text/plain": [
       "[(41, 5.0), (32, 0.0), (212, 100.0)]"
      ]
     },
     "execution_count": 253,
     "metadata": {},
     "output_type": "execute_result"
    }
   ],
   "source": [
    "# provided solution:\n",
    "\n",
    "list(map(lambda x: (x, (x-32)*(5/9)), f_temps))"
   ]
  },
  {
   "cell_type": "code",
   "execution_count": 254,
   "id": "884010c5-cf5d-41f8-9119-cfe18da63ccc",
   "metadata": {},
   "outputs": [
    {
     "data": {
      "text/plain": [
       "82"
      ]
     },
     "execution_count": 254,
     "metadata": {},
     "output_type": "execute_result"
    }
   ],
   "source": [
    "# additional functions for processing sequences! \n",
    "\n",
    "ord('R')     # returns ordinal value of string ASCII"
   ]
  },
  {
   "cell_type": "code",
   "execution_count": 256,
   "id": "24669590-eaba-4f56-bf74-f0126aa407fa",
   "metadata": {},
   "outputs": [
    {
     "data": {
      "text/plain": [
       "'Blue'"
      ]
     },
     "execution_count": 256,
     "metadata": {},
     "output_type": "execute_result"
    }
   ],
   "source": [
    "colors = ['Red', 'orange', 'Yellow', 'green', 'Blue']\n",
    "\n",
    "min(colors, key=lambda s: s.lower())     # can give key to min()! Key maps items in list, used here to compare ALL-LOWERCASE strings"
   ]
  },
  {
   "cell_type": "code",
   "execution_count": 257,
   "id": "9960c699-895e-4029-849b-4e8ea3d28071",
   "metadata": {},
   "outputs": [
    {
     "data": {
      "text/plain": [
       "'Yellow'"
      ]
     },
     "execution_count": 257,
     "metadata": {},
     "output_type": "execute_result"
    }
   ],
   "source": [
    "max(colors, key=lambda s: s.upper())"
   ]
  },
  {
   "cell_type": "code",
   "execution_count": 260,
   "id": "7bdf37bd-bcd5-4854-aeea-164e9cfb76ba",
   "metadata": {},
   "outputs": [
    {
     "data": {
      "text/plain": [
       "[36, 25, 64, 4, 16, 81, 1, 49, 9, 100]"
      ]
     },
     "execution_count": 260,
     "metadata": {},
     "output_type": "execute_result"
    }
   ],
   "source": [
    "numbers = [10, 3, 7, 1, 9, 4, 2, 8, 5, 6]\n",
    "\n",
    "reversed_numbers = [item ** 2 for item in reversed(numbers)]     # reverse list & map it!\n",
    "reversed_numbers                                                 # reverse() is a lzy function, need to place iterator somewhere!"
   ]
  },
  {
   "cell_type": "code",
   "execution_count": 261,
   "id": "d48250ca-d070-4a1d-bc74-33799ee53720",
   "metadata": {},
   "outputs": [],
   "source": [
    "names = ['Bob', 'Sue', 'Amanda']\n",
    "grade_point_averages = [3.5, 4.0, 3.75]"
   ]
  },
  {
   "cell_type": "code",
   "execution_count": 262,
   "id": "8807bb7e-fe8d-4013-8b5b-87254fa37ada",
   "metadata": {},
   "outputs": [
    {
     "name": "stdout",
     "output_type": "stream",
     "text": [
      "Name=Bob; GPA=3.5\n",
      "Name=Sue; GPA=4.0\n",
      "Name=Amanda; GPA=3.75\n"
     ]
    }
   ],
   "source": [
    "for name, gpa in zip(names, grade_point_averages):               # zip() returns an iterator (lazy), takes parallel sequences and puts them together\n",
    "    print(f'Name={name}; GPA={gpa}')"
   ]
  },
  {
   "cell_type": "code",
   "execution_count": 263,
   "id": "e92c1b41-666e-4f64-be9d-bac3d863633f",
   "metadata": {},
   "outputs": [],
   "source": [
    "# can zip() different size sequences, will end the zip at the end of the shorter or shortest sequence"
   ]
  },
  {
   "cell_type": "code",
   "execution_count": 264,
   "id": "00596c46-d26b-45d5-a3a0-f073aed84f9b",
   "metadata": {},
   "outputs": [
    {
     "name": "stdout",
     "output_type": "stream",
     "text": [
      "Bacon\n",
      "apples\n"
     ]
    }
   ],
   "source": [
    "# self-check 5.15\n",
    "\n",
    "foods = ['Cookies', 'pizza', 'Grapes', 'apples', 'steak', 'Bacon']\n",
    "print(min(foods))\n",
    "print(min(foods, key = lambda s: s.lower()))"
   ]
  },
  {
   "cell_type": "code",
   "execution_count": 271,
   "id": "305a7986-ca7c-4a03-bab6-cd6c4f63a62f",
   "metadata": {},
   "outputs": [
    {
     "data": {
      "text/plain": [
       "[6, 8, 8, 10, 8, 12]"
      ]
     },
     "execution_count": 271,
     "metadata": {},
     "output_type": "execute_result"
    }
   ],
   "source": [
    "# use zip with 2 integer lists, make new list containing sum of both lists\n",
    "\n",
    "list1 = [1, 6, 2, 8, 4, 3]\n",
    "list2 = [5, 2, 6, 2, 4, 9]\n",
    "list3 = []\n",
    "\n",
    "for item1, item2 in zip(list1, list2):\n",
    "    list3.append(item1 + item2)\n",
    "    \n",
    "list3"
   ]
  },
  {
   "cell_type": "code",
   "execution_count": 272,
   "id": "97824d95-0a62-4d96-9ce7-28b1e2190ca3",
   "metadata": {},
   "outputs": [
    {
     "data": {
      "text/plain": [
       "[6, 8, 8, 10, 8, 12]"
      ]
     },
     "execution_count": 272,
     "metadata": {},
     "output_type": "execute_result"
    }
   ],
   "source": [
    "# list comprehension solution for above code\n",
    "\n",
    "[(a + b) for a, b in zip(list1, list2)]"
   ]
  },
  {
   "cell_type": "code",
   "execution_count": 273,
   "id": "5421a400-f855-41c6-bb40-47c09ceed94e",
   "metadata": {},
   "outputs": [
    {
     "name": "stdout",
     "output_type": "stream",
     "text": [
      "77 68 86 73 \n",
      "96 87 89 81 \n",
      "70 90 86 81 \n"
     ]
    }
   ],
   "source": [
    "# 2-dimensional lists!\n",
    "\n",
    "a = [[77, 68, 86, 73], [96, 87, 89, 81], [70, 90, 86, 81]]\n",
    "\n",
    "for row in a:\n",
    "    for item in row:\n",
    "        print(item, end=' ')\n",
    "    print()\n",
    "    \n"
   ]
  },
  {
   "cell_type": "code",
   "execution_count": 274,
   "id": "361b48da-f534-4970-8641-b79450f20f9e",
   "metadata": {},
   "outputs": [
    {
     "name": "stdout",
     "output_type": "stream",
     "text": [
      "a[0][0]=77  a[0][1]=68  a[0][2]=86  a[0][3]=73  \n",
      "a[1][0]=96  a[1][1]=87  a[1][2]=89  a[1][3]=81  \n",
      "a[2][0]=70  a[2][1]=90  a[2][2]=86  a[2][3]=81  \n"
     ]
    }
   ],
   "source": [
    "for i, row in enumerate(a):\n",
    "    for j, item in enumerate(row):\n",
    "        print(f'a[{i}][{j}]={item} ', end=' ')\n",
    "    print()\n",
    "            "
   ]
  },
  {
   "cell_type": "code",
   "execution_count": 275,
   "id": "4785dca6-c1b0-4e1d-b4d8-f4cbce058eac",
   "metadata": {},
   "outputs": [
    {
     "data": {
      "text/plain": [
       "10.166666666666666"
      ]
     },
     "execution_count": 275,
     "metadata": {},
     "output_type": "execute_result"
    }
   ],
   "source": [
    "#self-check 5.16, manipulate t!\n",
    "\n",
    "t = [[10, 7, 3], [20, 4, 17]]\n",
    "\n",
    "#average of t's elements:\n",
    "total = 0\n",
    "average = 0\n",
    "\n",
    "for i in t:\n",
    "    for j in i:\n",
    "        average += 1\n",
    "        total += j\n",
    "\n",
    "total / average"
   ]
  },
  {
   "cell_type": "code",
   "execution_count": 277,
   "id": "94878ac6-3e36-4775-bcc2-381f4a2208e4",
   "metadata": {},
   "outputs": [
    {
     "data": {
      "text/plain": [
       "10.166666666666666"
      ]
     },
     "execution_count": 277,
     "metadata": {},
     "output_type": "execute_result"
    }
   ],
   "source": [
    "#average of t's seperate elements:\n",
    "total = 0\n",
    "average = 0\n",
    "\n",
    "for i in t:\n",
    "    total += sum(i)\n",
    "    average += len(i)\n",
    "    \n",
    "total / average"
   ]
  },
  {
   "cell_type": "markdown",
   "id": "06b54613-e8b1-4bc9-9ad4-11686e0c8fcc",
   "metadata": {},
   "source": [
    "#### Intro to Data Science: Simulation & Static Visualizations\n",
    "\n",
    "- Visualizations: graph/chart and look into the data! \n",
    "- Visualization libraries Seaborn & Matplotlib\n",
    "- Seaborn built over Matplotlib (and has jupyter notebook extensions!)"
   ]
  },
  {
   "cell_type": "code",
   "execution_count": 2,
   "id": "cf090061-7af0-457a-9caa-6d1898035b85",
   "metadata": {},
   "outputs": [
    {
     "name": "stdin",
     "output_type": "stream",
     "text": [
      "Enter number:  60000\n"
     ]
    },
    {
     "name": "stderr",
     "output_type": "stream",
     "text": [
      "D:\\Anaconda\\lib\\site-packages\\seaborn\\_decorators.py:36: FutureWarning: Pass the following variables as keyword args: x, y. From version 0.12, the only valid positional argument will be `data`, and passing other arguments without an explicit keyword will result in an error or misinterpretation.\n",
      "  warnings.warn(\n"
     ]
    },
    {
     "data": {
      "image/png": "[encoded data removed]",
      "text/plain": [
       "<Figure size 432x288 with 1 Axes>"
      ]
     },
     "metadata": {},
     "output_type": "display_data"
    }
   ],
   "source": [
    "# covers RollDie.py (Edited Source Code)\n",
    "\n",
    "# RollDie.py\n",
    "\"\"\"Graphing frequencies of die rolls with Seaborn.\"\"\"\n",
    "import matplotlib.pyplot as plt\n",
    "import numpy as np\n",
    "import random \n",
    "import seaborn as sns\n",
    "import sys\n",
    "\n",
    "rolls = int(input(\"Enter number: \"))\n",
    "\n",
    "# use list comprehension to create a list of rolls of a six-sided die\n",
    "rolls = [random.randrange(1, 7) for i in range(int(rolls))]\n",
    "\n",
    "# NumPy unique function returns unique faces and frequency of each face\n",
    "values, frequencies = np.unique(rolls, return_counts=True)\n",
    "\n",
    "title = f'Rolling a Six-Sided Die {len(rolls):,} Times'\n",
    "sns.set_style('whitegrid')  # white backround with gray grid lines\n",
    "axes = sns.barplot(values, frequencies, palette='bright')  # create bars\n",
    "axes.set_title(title)  # set graph title\n",
    "axes.set(xlabel='Die Value', ylabel='Frequency')  # label the axes\n",
    "\n",
    "# scale y-axis by 10% to make room for text above bars\n",
    "axes.set_ylim(top=max(frequencies) * 1.10)\n",
    "\n",
    "# display frequency & percentage above each patch (bar)\n",
    "for bar, frequency in zip(axes.patches, frequencies):\n",
    "    text_x = bar.get_x() + bar.get_width() / 2.0  \n",
    "    text_y = bar.get_height() \n",
    "    text = f'{frequency:,}\\n{frequency / len(rolls):.3%}'\n",
    "    axes.text(text_x, text_y, text, \n",
    "              fontsize=11, ha='center', va='bottom')\n",
    "\n",
    "plt.show()  # display graph "
   ]
  },
  {
   "cell_type": "code",
   "execution_count": 3,
   "id": "2320e523-6d27-45d1-9948-2f91a1a545a6",
   "metadata": {},
   "outputs": [],
   "source": [
    "# using a python 'magic'\n",
    "\n",
    "%matplotlib inline"
   ]
  },
  {
   "cell_type": "code",
   "execution_count": 9,
   "id": "2527ad76-b97d-44e9-af10-689a97cb8fe0",
   "metadata": {},
   "outputs": [
    {
     "data": {
      "image/png": "[encoded data removed]",
      "text/plain": [
       "<Figure size 432x288 with 1 Axes>"
      ]
     },
     "metadata": {},
     "output_type": "display_data"
    }
   ],
   "source": [
    "import matplotlib.pyplot as plt           #matplotlib pyplot gives us a window to put graphs on! plt as a name is recommended whenever import this\n",
    "import numpy as np                        #numpy library, using unique function in library!\n",
    "import random                             #for random num generation!\n",
    "import seaborn as sns                     #sns name is a joke from seaborn creator, look it up!\n",
    "\n",
    "rolls = [random.randrange(1, 7) for i in range(600)]     # list will have 600 random rolls of numbers between 1 to 6\n",
    "\n",
    "values, frequencies = np.unique(rolls, return_counts=True) # Where Numpy Arrays are required, we can use sequences! \n",
    "                                                           # unique() looks at sequence (rolls) and gets each unique item in list\n",
    "                                                               # setting return_counts=True returns counts fo those unique items!\n",
    "                                                               # one parameter returns list of unique items\n",
    "                                                               # two parameters returns tuple of unique items & their occurences\n",
    "                                                               # we do tuple unpacking to put the unique values & their occurences in 2 values\n",
    "title = f'Rolling a Six-Sided Die {len(rolls):,} Times'        # , is the thousands operator!\n",
    "\n",
    "sns.set_style('whitegrid')                               # seaborn whitegrid graph, changes default graph background\n",
    "\n",
    "#creating the plot!\n",
    "axes = sns.barplot(x=values, y=frequencies, palette='bright')\n",
    "#returns axes object, contaisn graph info, we use this to change our graph!\n",
    "\n",
    "axes.set_title(title)\n",
    "axes.set(xlabel='Die Value', ylabel='Frequency')\n",
    "axes.set_ylim(top=max(frequencies) * 1.10)               # scale bars to give room to numbers above the bars!\n",
    "\n",
    "for bar, frequency in zip(axes.patches, frequencies):    # walks through each bar to place txt above it!\n",
    "    text_x = bar.get_x() + bar.get_width() / 2.0  \n",
    "    text_y = bar.get_height() \n",
    "    text = f'{frequency:,}\\n{frequency / len(rolls):.3%}'\n",
    "    axes.text(text_x, text_y, text, \n",
    "              fontsize=11, ha='center', va='bottom')\n",
    "\n",
    "plt.show()"
   ]
  },
  {
   "cell_type": "code",
   "execution_count": null,
   "id": "17f6c0b5-db19-444c-b503-011742cc73c9",
   "metadata": {},
   "outputs": [],
   "source": []
  }
 ],
 "metadata": {
  "kernelspec": {
   "display_name": "Python 3 (ipykernel)",
   "language": "python",
   "name": "python3"
  },
  "language_info": {
   "codemirror_mode": {
    "name": "ipython",
    "version": 3
   },
   "file_extension": ".py",
   "mimetype": "text/x-python",
   "name": "python",
   "nbconvert_exporter": "python",
   "pygments_lexer": "ipython3",
   "version": "3.8.11"
  }
 },
 "nbformat": 4,
 "nbformat_minor": 5
}
