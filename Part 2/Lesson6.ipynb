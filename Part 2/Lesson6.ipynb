{
 "cells": [
  {
   "cell_type": "markdown",
   "id": "d2f30516-7291-4088-bcfd-7406416e27b4",
   "metadata": {},
   "source": [
    "# Lesson 6\n",
    "- Dictionaries & Sets\n",
    "- Dictionaires: unordered collections of key-value pairs\n",
    "- Sets: unordered collections of unique values\n",
    "- views: a way to look into an existing dictionary and its data\n",
    "- set operations\n",
    "- in and not in for membership testing!\n",
    "- mutable set operations\n",
    "- dictionary and set comprehensions\n",
    "- dynamic visualization (die rolling but dynamic)"
   ]
  },
  {
   "cell_type": "markdown",
   "id": "a13bc07e-2ca9-4614-a009-024e11075afc",
   "metadata": {},
   "source": [
    "- keys must be a immutable data type, values tied to the keys can be mutable or immutable\n"
   ]
  },
  {
   "cell_type": "code",
   "execution_count": 1,
   "id": "8de70f40-605f-4412-bdf8-1e65963cfe2a",
   "metadata": {},
   "outputs": [
    {
     "data": {
      "text/plain": [
       "{'Finland': 'fi', 'South Africa': 'za'}"
      ]
     },
     "execution_count": 1,
     "metadata": {},
     "output_type": "execute_result"
    }
   ],
   "source": [
    "#defining a dictionary\n",
    "\n",
    "country_codes = {'Finland': 'fi', 'South Africa': 'za'}\n",
    "\n",
    "country_codes"
   ]
  },
  {
   "cell_type": "code",
   "execution_count": 3,
   "id": "a3e4dc13-3fe6-4e68-a5ca-a39372d6cd0a",
   "metadata": {},
   "outputs": [
    {
     "data": {
      "text/plain": [
       "2"
      ]
     },
     "execution_count": 3,
     "metadata": {},
     "output_type": "execute_result"
    }
   ],
   "source": [
    "#counts pairs, not each value, # of keys!\n",
    "\n",
    "len(country_codes)"
   ]
  },
  {
   "cell_type": "code",
   "execution_count": 5,
   "id": "0fe17c06-08be-4932-b197-5dd90d145dcc",
   "metadata": {},
   "outputs": [
    {
     "name": "stdout",
     "output_type": "stream",
     "text": [
      "is not empty\n"
     ]
    }
   ],
   "source": [
    "#anything can be used as a condition!\n",
    "\n",
    "if country_codes:\n",
    "    print('is not empty')\n",
    "else:\n",
    "    print('is empty')"
   ]
  },
  {
   "cell_type": "code",
   "execution_count": 6,
   "id": "d324117c-d0bf-4fa5-a5b7-bece06824b05",
   "metadata": {},
   "outputs": [
    {
     "data": {
      "text/plain": [
       "{}"
      ]
     },
     "execution_count": 6,
     "metadata": {},
     "output_type": "execute_result"
    }
   ],
   "source": [
    "country_codes.clear()\n",
    "\n",
    "country_codes"
   ]
  },
  {
   "cell_type": "code",
   "execution_count": 8,
   "id": "715af22e-6428-4696-82bf-f8c9560ed4f2",
   "metadata": {},
   "outputs": [
    {
     "name": "stdout",
     "output_type": "stream",
     "text": [
      "3\n"
     ]
    },
    {
     "data": {
      "text/plain": [
       "{'Connecticut': 'ct', 'Florida': 'fl', 'New York': 'ny'}"
      ]
     },
     "execution_count": 8,
     "metadata": {},
     "output_type": "execute_result"
    }
   ],
   "source": [
    "#6.2.1 Self Check, create didctionary named states that maps three state abbreviations to their state names, then display it!\n",
    "\n",
    "states = {'Connecticut':'ct','Florida':'fl','New York':'ny'}\n",
    "print(len(states))\n",
    "states"
   ]
  },
  {
   "cell_type": "code",
   "execution_count": 12,
   "id": "54562863-e366-4893-9426-feecca489dd5",
   "metadata": {},
   "outputs": [
    {
     "name": "stdout",
     "output_type": "stream",
     "text": [
      "{'January': 31, 'February': 28, 'March': 31}\n",
      "January has 31 days\n",
      "February has 28 days\n",
      "March has 31 days\n"
     ]
    }
   ],
   "source": [
    "#iterating through the key-value pairs in a dictionary!\n",
    "\n",
    "days_per_month = {'January':31, 'February':28, 'March':31}\n",
    "print(days_per_month)\n",
    "\n",
    "for month, days in days_per_month.items():\n",
    "    print(f'{month} has {days} days')\n",
    "    \n",
    "# ordering of disctionaries changes between Python versions, never depend on dictionary orderings!!"
   ]
  },
  {
   "cell_type": "code",
   "execution_count": 13,
   "id": "4eb5e5a5-605f-44cb-8b6c-806086487ecd",
   "metadata": {},
   "outputs": [
    {
     "data": {
      "text/plain": [
       "2"
      ]
     },
     "execution_count": 13,
     "metadata": {},
     "output_type": "execute_result"
    }
   ],
   "source": [
    "#basic dictionary operations\n",
    "\n",
    "roman_numerals = {'I':1, 'II':2, 'III':3}\n",
    "\n",
    "roman_numerals['II']"
   ]
  },
  {
   "cell_type": "code",
   "execution_count": 17,
   "id": "43f0756c-d63d-413e-a7dc-e8caed8dc113",
   "metadata": {},
   "outputs": [
    {
     "data": {
      "text/plain": [
       "{'I': 1, 'II': 2, 'III': 'three', 'V': 5}"
      ]
     },
     "execution_count": 17,
     "metadata": {},
     "output_type": "execute_result"
    }
   ],
   "source": [
    "#can change values like lists!\n",
    "\n",
    "roman_numerals['III'] = 'three'\n",
    "roman_numerals"
   ]
  },
  {
   "cell_type": "code",
   "execution_count": 18,
   "id": "9dc7b9b6-0740-4e0f-96f5-466d4777b85f",
   "metadata": {},
   "outputs": [
    {
     "data": {
      "text/plain": [
       "{'I': 1, 'II': 2, 'III': 'three', 'V': 5}"
      ]
     },
     "execution_count": 18,
     "metadata": {},
     "output_type": "execute_result"
    }
   ],
   "source": [
    "#can add new key-value pairs by adding new key and setting it to new value, appends to end of dictionary!\n",
    "\n",
    "roman_numerals['V'] = 5\n",
    "roman_numerals"
   ]
  },
  {
   "cell_type": "code",
   "execution_count": 19,
   "id": "9aa45353-e16a-4ddf-8797-dc6d61e61a88",
   "metadata": {},
   "outputs": [
    {
     "data": {
      "text/plain": [
       "{'I': 1, 'II': 2, 'V': 5}"
      ]
     },
     "execution_count": 19,
     "metadata": {},
     "output_type": "execute_result"
    }
   ],
   "source": [
    "#remove item in dictionary, tkaes key\n",
    "\n",
    "del roman_numerals['III']\n",
    "roman_numerals"
   ]
  },
  {
   "cell_type": "code",
   "execution_count": 20,
   "id": "55625aac-4229-4b2f-a919-8967da2a8ff6",
   "metadata": {},
   "outputs": [
    {
     "data": {
      "text/plain": [
       "5"
      ]
     },
     "execution_count": 20,
     "metadata": {},
     "output_type": "execute_result"
    }
   ],
   "source": [
    "#can also remove using pop, also returns value that was popped\n",
    "\n",
    "roman_numerals.pop('V')"
   ]
  },
  {
   "cell_type": "markdown",
   "id": "9bddb521-f0f9-4b4b-9563-ad5c8233bc24",
   "metadata": {},
   "source": [
    "- you will get a key error if you try to access a value from a key that doesn't exist!"
   ]
  },
  {
   "cell_type": "code",
   "execution_count": 21,
   "id": "fdffb75a-1136-426a-8023-76651a427f10",
   "metadata": {},
   "outputs": [
    {
     "data": {
      "text/plain": [
       "1"
      ]
     },
     "execution_count": 21,
     "metadata": {},
     "output_type": "execute_result"
    }
   ],
   "source": [
    "roman_numerals.get('I')"
   ]
  },
  {
   "cell_type": "code",
   "execution_count": 23,
   "id": "4ee5636f-226f-49ea-8e76-c44b8d8a90bf",
   "metadata": {},
   "outputs": [
    {
     "data": {
      "text/plain": [
       "'III is not in the dictionary'"
      ]
     },
     "execution_count": 23,
     "metadata": {},
     "output_type": "execute_result"
    }
   ],
   "source": [
    "# we removed 'III' before, so get() lets us return a message if value/key missing!\n",
    "\n",
    "roman_numerals.get('III', 'III is not in the dictionary')"
   ]
  },
  {
   "cell_type": "code",
   "execution_count": 24,
   "id": "a15c6b4b-5e16-47df-805d-96beb3415797",
   "metadata": {},
   "outputs": [
    {
     "data": {
      "text/plain": [
       "False"
      ]
     },
     "execution_count": 24,
     "metadata": {},
     "output_type": "execute_result"
    }
   ],
   "source": [
    "'V' in roman_numerals"
   ]
  },
  {
   "cell_type": "code",
   "execution_count": 25,
   "id": "6041ef92-7afa-42d0-8962-c228e3a5e32f",
   "metadata": {},
   "outputs": [
    {
     "data": {
      "text/plain": [
       "True"
      ]
     },
     "execution_count": 25,
     "metadata": {},
     "output_type": "execute_result"
    }
   ],
   "source": [
    "'I' in roman_numerals"
   ]
  },
  {
   "cell_type": "code",
   "execution_count": 26,
   "id": "ed7dfe70-4252-4b95-8acc-e33b5da4241e",
   "metadata": {},
   "outputs": [
    {
     "data": {
      "text/plain": [
       "False"
      ]
     },
     "execution_count": 26,
     "metadata": {},
     "output_type": "execute_result"
    }
   ],
   "source": [
    "'I' not in roman_numerals"
   ]
  },
  {
   "cell_type": "markdown",
   "id": "f72e78ef-8c23-427c-a710-b723daadce76",
   "metadata": {},
   "source": [
    "- 'in' checks membership for keys!\n",
    "- 'not in' checks opposite of the in check"
   ]
  },
  {
   "cell_type": "code",
   "execution_count": 28,
   "id": "627784fa-faf7-4524-8b7c-9c8bbebbbd6b",
   "metadata": {},
   "outputs": [
    {
     "data": {
      "text/plain": [
       "{'X': 20, 'y': 5, 'Y': 10, 'x': 10}"
      ]
     },
     "execution_count": 28,
     "metadata": {},
     "output_type": "execute_result"
    }
   ],
   "source": [
    "#6.2.3 Self Check, check case sensitivity in dictionaries by adding key 'x' with value 10 to a dictionary that has a key 'X' with value 20\n",
    "\n",
    "example_dict = {'X':20,'y':5,'Y':10}\n",
    "example_dict['x'] = 10\n",
    "example_dict\n",
    "\n",
    "# keys are case sensitive!! 'x' wont change 'X''s value, it will append new key-value pair 'x'"
   ]
  },
  {
   "cell_type": "code",
   "execution_count": 38,
   "id": "1867759c-8c18-4c36-8844-6722bcc6570c",
   "metadata": {},
   "outputs": [
    {
     "name": "stdout",
     "output_type": "stream",
     "text": [
      "January February March \n",
      "\n",
      "('January', 1) ('February', 2) ('March', 3) \n",
      "\n",
      "1 2 3 "
     ]
    }
   ],
   "source": [
    "# dictionary keys & values\n",
    "\n",
    "months = {'January':1, 'February':2, 'March':3}\n",
    "\n",
    "for key in months.keys():\n",
    "    print(key, end=' ')\n",
    "    \n",
    "print('\\n')\n",
    "\n",
    "for item in months.items():\n",
    "    print(item, end=' ')\n",
    "    \n",
    "print('\\n')\n",
    "\n",
    "for value in months.values():\n",
    "    print(value, end=' ')\n",
    "    \n",
    "\n",
    "# methods to get keys, values, or items from a dictionary!\n",
    "# each method returns a dictionary view, each is just a view of the original dictionary!"
   ]
  },
  {
   "cell_type": "code",
   "execution_count": 40,
   "id": "3647561e-a962-4620-94f0-447303fd4250",
   "metadata": {},
   "outputs": [
    {
     "name": "stdout",
     "output_type": "stream",
     "text": [
      "January February March "
     ]
    }
   ],
   "source": [
    "# getting the keys as a seperate view\n",
    "\n",
    "months_view = months.keys()\n",
    "\n",
    "for key in months_view:\n",
    "    print(key, end=' ')"
   ]
  },
  {
   "cell_type": "code",
   "execution_count": 41,
   "id": "a53a838d-c75f-448c-b8ea-9924b1a81eaa",
   "metadata": {},
   "outputs": [
    {
     "data": {
      "text/plain": [
       "{'January': 1, 'February': 2, 'March': 3, 'December': 12}"
      ]
     },
     "execution_count": 41,
     "metadata": {},
     "output_type": "execute_result"
    }
   ],
   "source": [
    "months['December'] = 12\n",
    "months"
   ]
  },
  {
   "cell_type": "code",
   "execution_count": 43,
   "id": "bb1d9b11-8f22-4a08-9715-21d4748283d9",
   "metadata": {},
   "outputs": [
    {
     "name": "stdout",
     "output_type": "stream",
     "text": [
      "January February March December "
     ]
    }
   ],
   "source": [
    "for key in months_view:\n",
    "    print(key, end=' ')\n",
    "    \n",
    "#even though months_view was made before we added a new item into the dictionary, it is still updated\n",
    "#months_view is a view of a current existing dictionary, changes to original dict will show!"
   ]
  },
  {
   "cell_type": "code",
   "execution_count": 44,
   "id": "c7850553-1e32-4a39-b323-c3b408d0360e",
   "metadata": {},
   "outputs": [
    {
     "data": {
      "text/plain": [
       "[1, 2, 3, 12]"
      ]
     },
     "execution_count": 44,
     "metadata": {},
     "output_type": "execute_result"
    }
   ],
   "source": [
    "list(months.values())"
   ]
  },
  {
   "cell_type": "code",
   "execution_count": 45,
   "id": "e078484d-c34e-4701-8808-08b723bad344",
   "metadata": {},
   "outputs": [
    {
     "data": {
      "text/plain": [
       "[('January', 1), ('February', 2), ('March', 3), ('December', 12)]"
      ]
     },
     "execution_count": 45,
     "metadata": {},
     "output_type": "execute_result"
    }
   ],
   "source": [
    "list(months.items())"
   ]
  },
  {
   "cell_type": "code",
   "execution_count": 48,
   "id": "b5964a01-3d83-422d-aa41-88c5b83d91e4",
   "metadata": {},
   "outputs": [
    {
     "name": "stdout",
     "output_type": "stream",
     "text": [
      "December February January March "
     ]
    }
   ],
   "source": [
    "#iterating keys in sorted order\n",
    "\n",
    "for month_name in sorted(months.keys()):\n",
    "    print(month_name, end=' ')\n",
    "    \n",
    "#if using sorted() with strings, it sorts lexicographically!!"
   ]
  },
  {
   "cell_type": "code",
   "execution_count": 51,
   "id": "c48cc9c8-df54-4542-8e00-de7e6a8fd8d3",
   "metadata": {},
   "outputs": [
    {
     "name": "stdout",
     "output_type": "stream",
     "text": [
      "[('I', 1), ('II', 2), ('III', 3), ('V', 5)]\n",
      "[1, 2, 3, 5]\n",
      "['I', 'II', 'III', 'V']\n"
     ]
    }
   ],
   "source": [
    "#self check 6.2.4, given roman_numerals dictionary, make views of the items, values & keys and display them!\n",
    "\n",
    "roman_numerals = {'I':1, 'II':2, 'III':3, 'V':5}\n",
    "\n",
    "roman_items = list(roman_numerals.items())\n",
    "roman_values = list(roman_numerals.values())\n",
    "roman_keys = list(roman_numerals.keys())\n",
    "\n",
    "print(roman_items)\n",
    "print(roman_values)\n",
    "print(roman_keys)\n",
    "\n",
    "#items is a list of tuples!"
   ]
  },
  {
   "cell_type": "code",
   "execution_count": 53,
   "id": "71d55656-83ba-4968-8a3d-d8cad7a3a5af",
   "metadata": {},
   "outputs": [
    {
     "data": {
      "text/plain": [
       "False"
      ]
     },
     "execution_count": 53,
     "metadata": {},
     "output_type": "execute_result"
    }
   ],
   "source": [
    "# dictionary comparisons\n",
    "#operator overloading, redefining how operators work!\n",
    "\n",
    "country_capitals1 = {'Belgium':'Brussels', 'Haiti':'Port-au-Prince'}\n",
    "country_capitals2 = {'Nepal':'Kathmandu', 'Uruguay':'Montevideo'}\n",
    "country_capitals3 = {'Haiti':'Port-au-Prince', 'Belgium':'Brussels'}\n",
    "\n",
    "country_capitals1 == country_capitals2"
   ]
  },
  {
   "cell_type": "code",
   "execution_count": 55,
   "id": "0ccb532b-8921-4c7e-907a-c75f33230354",
   "metadata": {},
   "outputs": [
    {
     "data": {
      "text/plain": [
       "True"
      ]
     },
     "execution_count": 55,
     "metadata": {},
     "output_type": "execute_result"
    }
   ],
   "source": [
    "country_capitals1 == country_capitals3\n",
    "\n",
    "#true despite the different order"
   ]
  },
  {
   "cell_type": "code",
   "execution_count": 56,
   "id": "cb3bd41a-510c-4127-a148-371b56c7cb66",
   "metadata": {},
   "outputs": [
    {
     "data": {
      "text/plain": [
       "True"
      ]
     },
     "execution_count": 56,
     "metadata": {},
     "output_type": "execute_result"
    }
   ],
   "source": [
    "country_capitals1 != country_capitals2"
   ]
  },
  {
   "cell_type": "code",
   "execution_count": 59,
   "id": "a7f12a0f-ca70-4a3b-b97d-73bc06de2399",
   "metadata": {},
   "outputs": [
    {
     "name": "stdout",
     "output_type": "stream",
     "text": [
      "Average for Susan is 92.33\n",
      "Average for Eduardo is 85.67\n",
      "Average for Azizi is 87.33\n",
      "Average for Pantipa is 93.33\n",
      "Class's average is: 89.67\n"
     ]
    }
   ],
   "source": [
    "#script example that processes student grades!\n",
    "\"' Using a dictionary to represent an instructors grade book '\" \n",
    "\n",
    "grade_book = {\n",
    "    'Susan': [92, 85, 100],\n",
    "    'Eduardo': [83, 95, 79],\n",
    "    'Azizi': [91, 89, 82],\n",
    "    'Pantipa': [97, 91, 92]\n",
    "}\n",
    "\n",
    "all_grades_total = 0\n",
    "all_grades_count = 0\n",
    "\n",
    "for name, grades in grade_book.items():\n",
    "    total = sum(grades)\n",
    "    print(f'Average for {name} is {total/len(grades):.2f}')\n",
    "    all_grades_total += total\n",
    "    all_grades_count += len(grades)\n",
    "    \n",
    "print(f\"Class's average is: {all_grades_total / all_grades_count:.2f}\")\n",
    "\n",
    "\n",
    "#script with docstring (dont forget these), has doctionary of students and we report their average grades with total average!"
   ]
  },
  {
   "cell_type": "code",
   "execution_count": 66,
   "id": "352056f8-ff59-4720-a602-f868fd31b687",
   "metadata": {},
   "outputs": [
    {
     "name": "stdout",
     "output_type": "stream",
     "text": [
      "WORD        COUNT\n",
      "different   1\n",
      "is          2\n",
      "more        1\n",
      "sample      2\n",
      "several     1\n",
      "some        1\n",
      "text        2\n",
      "this        2\n",
      "with        2\n",
      "words       2\n",
      "\n",
      "Number of unique words: 10\n"
     ]
    }
   ],
   "source": [
    "#script that does word counts!\n",
    "#this technique was used as evidence to prove if shakespear wrote his plays, comapred word %'s to other writers of the time!\n",
    "\"\"\" Tokenizing a string and counting unique words.\"\"\"\n",
    "\n",
    "text = ('this is sample text with several words '\n",
    "        'this is more sample text with some different words')\n",
    "\n",
    "word_counts = {}\n",
    "\n",
    "#count occurences of each unique word\n",
    "for word in text.split():\n",
    "    if word in word_counts:\n",
    "        word_counts[word] += 1     # update existing key-value pairs\n",
    "    else:\n",
    "        word_counts[word] = 1      # insert new key-value pair\n",
    "\n",
    "print(f'{\"WORD\":<12}COUNT')        # left-aligned in a field of 12\n",
    "\n",
    "for word, count in sorted(word_counts.items()):\n",
    "    print(f'{word:<12}{count}')\n",
    "    \n",
    "print('\\nNumber of unique words:', len(word_counts))"
   ]
  },
  {
   "cell_type": "markdown",
   "id": "25be5193-a84c-4db0-b18e-92c7e334ed6e",
   "metadata": {},
   "source": [
    "- summarizing word counts is common enough for a seperate Python class/library!\n",
    "- Python collections module has a type for this\n",
    "- collections module has many special collection types for us to use! Counter class is able to count hashable objects\n",
    "- can use the Counter class to perform the same work we did right above to count the words!"
   ]
  },
  {
   "cell_type": "code",
   "execution_count": 67,
   "id": "a851cb63-ac37-4847-8dda-2fc7bdea05c9",
   "metadata": {},
   "outputs": [
    {
     "name": "stdout",
     "output_type": "stream",
     "text": [
      "WORD        COUNT\n",
      "different   1\n",
      "is          2\n",
      "more        1\n",
      "sample      2\n",
      "several     1\n",
      "some        1\n",
      "text        2\n",
      "this        2\n",
      "with        2\n",
      "words       2\n"
     ]
    }
   ],
   "source": [
    "# Counter class example:\n",
    "\n",
    "from collections import Counter\n",
    "\n",
    "text = ('this is sample text with several words '\n",
    "        'this is more sample text with some different words')\n",
    "\n",
    "#text.split()\n",
    "\n",
    "counter = Counter(text.split())\n",
    "\n",
    "print(f'{\"WORD\":<12}COUNT') \n",
    "for word, count in sorted(counter.items()):\n",
    "    print(f'{word:<12}{count}')\n",
    "    \n",
    "    \n",
    "#Counter objects are still dictionaries! They simply count word occurences automatically as the value!"
   ]
  },
  {
   "cell_type": "code",
   "execution_count": 68,
   "id": "cc050dc8-f5bd-4d20-9b76-ebd18b704dbc",
   "metadata": {},
   "outputs": [
    {
     "name": "stdout",
     "output_type": "stream",
     "text": [
      "Number of unique keys: 10\n"
     ]
    }
   ],
   "source": [
    "print('Number of unique keys:', len(counter.keys()))"
   ]
  },
  {
   "cell_type": "code",
   "execution_count": 74,
   "id": "d30d839b-31c4-4d76-9807-ad351c0d8392",
   "metadata": {},
   "outputs": [
    {
     "name": "stdout",
     "output_type": "stream",
     "text": [
      "Range     Occurence\n",
      "1         13\n",
      "2         8\n",
      "3         10\n",
      "4         8\n",
      "5         11\n"
     ]
    }
   ],
   "source": [
    "#self check 6.2.7, use list comprehension to make list of 50 random numbers in range 1-5, then summarize them using Counter.\n",
    "\n",
    "import random\n",
    "numbers = [random.randrange(1, 6) for i in range(50)]    #list comprehension, 50 numbers in range 1-5\n",
    "from collections import Counter\n",
    "counter = Counter(numbers)                               #Counter class takes list and makes it a dictionary with occurences as the values & list items as keys\n",
    "print(f'{\"Range\":<10}Occurence')\n",
    "for value, count in sorted(counter.items()):\n",
    "    print(f'{value:<10}{count}')"
   ]
  },
  {
   "cell_type": "code",
   "execution_count": 75,
   "id": "b30e17c4-6b0b-4f19-9f86-e1f1d42ea7b2",
   "metadata": {},
   "outputs": [
    {
     "data": {
      "text/plain": [
       "{'South Africa': 'za'}"
      ]
     },
     "execution_count": 75,
     "metadata": {},
     "output_type": "execute_result"
    }
   ],
   "source": [
    "#dictionary update method!\n",
    "\n",
    "country_codes = {}\n",
    "\n",
    "country_codes.update({'South Africa': 'za'})\n",
    "country_codes"
   ]
  },
  {
   "cell_type": "code",
   "execution_count": 77,
   "id": "7187ed02-d6e6-4222-81b9-c14dedcb9185",
   "metadata": {},
   "outputs": [
    {
     "data": {
      "text/plain": [
       "{'South Africa': 'za', 'Australia': 'ar'}"
      ]
     },
     "execution_count": 77,
     "metadata": {},
     "output_type": "execute_result"
    }
   ],
   "source": [
    "#update will also take expressions and automatically make them a key-value pair!\n",
    "\n",
    "country_codes.update(Australia='ar')         #can list expressions in this format to add several new items! (or full list!)\n",
    "country_codes"
   ]
  },
  {
   "cell_type": "code",
   "execution_count": 78,
   "id": "a8660eb5-e22c-4900-8569-a35023e993eb",
   "metadata": {},
   "outputs": [
    {
     "data": {
      "text/plain": [
       "{'South Africa': 'za', 'Australia': 'au'}"
      ]
     },
     "execution_count": 78,
     "metadata": {},
     "output_type": "execute_result"
    }
   ],
   "source": [
    "#will also update existing keys/values!\n",
    "\n",
    "country_codes.update(Australia='au')         #can list expressions in this format to add several new items! (or full list!)\n",
    "country_codes"
   ]
  },
  {
   "cell_type": "code",
   "execution_count": 81,
   "id": "3a9f1742-a33a-40f1-858b-c6680cfaf385",
   "metadata": {},
   "outputs": [
    {
     "data": {
      "text/plain": [
       "{1: 'January', 2: 'February', 3: 'March'}"
      ]
     },
     "execution_count": 81,
     "metadata": {},
     "output_type": "execute_result"
    }
   ],
   "source": [
    "# dictionary comprehensions! Creating new dictionaries from existing ones in a simple way!\n",
    "\n",
    "months = {'January':1, 'February':2, 'March':3}\n",
    "months2 = {number: name for name, number in months.items()}       # dictionary comprehension uses curly braces instead of square brackets!\n",
    "\n",
    "months2\n",
    "\n",
    "# we reversed the keys and values using dictionary comprehension!"
   ]
  },
  {
   "cell_type": "code",
   "execution_count": 82,
   "id": "8582ed4e-17b3-455e-a17f-664fb3a4d273",
   "metadata": {},
   "outputs": [
    {
     "data": {
      "text/plain": [
       "{'Sue': 93.0, 'Bob': 90.0}"
      ]
     },
     "execution_count": 82,
     "metadata": {},
     "output_type": "execute_result"
    }
   ],
   "source": [
    "grades = {'Sue':[98, 87, 94], 'Bob':[84,95,91]}\n",
    "grades2 = {k: sum(v) / len(v) for k, v in grades.items()}\n",
    "\n",
    "grades2"
   ]
  },
  {
   "cell_type": "code",
   "execution_count": 87,
   "id": "6bcd8be4-296c-4448-b1e5-ebb8ce45945f",
   "metadata": {},
   "outputs": [
    {
     "data": {
      "text/plain": [
       "{1: 1, 2: 8, 3: 27, 4: 64, 5: 125}"
      ]
     },
     "execution_count": 87,
     "metadata": {},
     "output_type": "execute_result"
    }
   ],
   "source": [
    "#self check 6.2.9, use dict-comprehension to create dictionary of numbers 1-5 and their cubes\n",
    "\n",
    "cubed_dict = {number: number ** 3 for number in range(1,6)}\n",
    "cubed_dict"
   ]
  },
  {
   "cell_type": "code",
   "execution_count": 89,
   "id": "df087120-7cea-4f33-98e1-057f50bb8bae",
   "metadata": {},
   "outputs": [
    {
     "data": {
      "text/plain": [
       "{'blue', 'green', 'orange', 'red', 'yellow'}"
      ]
     },
     "execution_count": 89,
     "metadata": {},
     "output_type": "execute_result"
    }
   ],
   "source": [
    "#set collection in python! Unordered, used to determine membership\n",
    "\n",
    "colors = {'red', 'orange', 'yellow', 'green', 'red', 'blue'}\n",
    "colors\n",
    "\n",
    "# gets rid of duplications! only one resulting red in set"
   ]
  },
  {
   "cell_type": "code",
   "execution_count": 90,
   "id": "236165ca-04af-40d2-b6b5-e4861baafe7a",
   "metadata": {},
   "outputs": [
    {
     "data": {
      "text/plain": [
       "5"
      ]
     },
     "execution_count": 90,
     "metadata": {},
     "output_type": "execute_result"
    }
   ],
   "source": [
    "len(colors)"
   ]
  },
  {
   "cell_type": "code",
   "execution_count": 91,
   "id": "34dbad2a-bafb-4846-af49-89d62a821d0f",
   "metadata": {},
   "outputs": [
    {
     "data": {
      "text/plain": [
       "True"
      ]
     },
     "execution_count": 91,
     "metadata": {},
     "output_type": "execute_result"
    }
   ],
   "source": [
    "'red' in colors"
   ]
  },
  {
   "cell_type": "code",
   "execution_count": 92,
   "id": "c3207a5d-1153-4fd4-9bf9-838c3fdec803",
   "metadata": {},
   "outputs": [
    {
     "data": {
      "text/plain": [
       "False"
      ]
     },
     "execution_count": 92,
     "metadata": {},
     "output_type": "execute_result"
    }
   ],
   "source": [
    "'purple' in colors"
   ]
  },
  {
   "cell_type": "code",
   "execution_count": 93,
   "id": "a28f20e9-4387-49f2-af8e-bda202316d66",
   "metadata": {},
   "outputs": [
    {
     "data": {
      "text/plain": [
       "True"
      ]
     },
     "execution_count": 93,
     "metadata": {},
     "output_type": "execute_result"
    }
   ],
   "source": [
    "'purple' not in colors"
   ]
  },
  {
   "cell_type": "code",
   "execution_count": 94,
   "id": "3ad488d5-b51a-4688-a2eb-bffef83f538b",
   "metadata": {},
   "outputs": [
    {
     "name": "stdout",
     "output_type": "stream",
     "text": [
      "GREEN BLUE YELLOW RED ORANGE "
     ]
    }
   ],
   "source": [
    "for color in colors:\n",
    "    print(color.upper(), end=' ')"
   ]
  },
  {
   "cell_type": "code",
   "execution_count": 95,
   "id": "988449fe-146f-40da-a7e5-49ed965a8496",
   "metadata": {},
   "outputs": [
    {
     "data": {
      "text/plain": [
       "[0, 1, 2, 3, 4, 5, 6, 7, 8, 9, 0, 1, 2, 3, 4]"
      ]
     },
     "execution_count": 95,
     "metadata": {},
     "output_type": "execute_result"
    }
   ],
   "source": [
    "#can create sets using built-in function set()\n",
    "\n",
    "numbers = list(range(10)) + list(range(5))\n",
    "numbers"
   ]
  },
  {
   "cell_type": "code",
   "execution_count": 97,
   "id": "07eee9b7-2d96-42a5-a275-360d377e5fc3",
   "metadata": {},
   "outputs": [
    {
     "data": {
      "text/plain": [
       "{0, 1, 2, 3, 4, 5, 6, 7, 8, 9}"
      ]
     },
     "execution_count": 97,
     "metadata": {},
     "output_type": "execute_result"
    }
   ],
   "source": [
    "set(numbers)\n",
    "\n",
    "#rids the duplicates in numbers!"
   ]
  },
  {
   "cell_type": "code",
   "execution_count": 98,
   "id": "0e34a360-950f-428c-bef1-e3995acc95ff",
   "metadata": {},
   "outputs": [
    {
     "data": {
      "text/plain": [
       "set()"
      ]
     },
     "execution_count": 98,
     "metadata": {},
     "output_type": "execute_result"
    }
   ],
   "source": [
    "set()\n",
    "\n",
    "#empty set, dictionaries use {} for their empty list! so we need the function for empty sets"
   ]
  },
  {
   "cell_type": "markdown",
   "id": "b5bb22a2-f098-40e2-9776-c92f1deaeab6",
   "metadata": {},
   "source": [
    "- sets are mutable, their values can be changed!\n",
    "- frozen sets are sets that are immutable, whos values can never be changed\n",
    "- frozen sets are good as lists of keys as keys are immutable and unique!"
   ]
  },
  {
   "cell_type": "code",
   "execution_count": 100,
   "id": "37faf478-293d-493b-99fc-ebd3ba876c66",
   "metadata": {},
   "outputs": [
    {
     "data": {
      "text/plain": [
       "['be', 'is', 'not', 'or', 'question', 'that', 'the', 'to']"
      ]
     },
     "execution_count": 100,
     "metadata": {},
     "output_type": "execute_result"
    }
   ],
   "source": [
    "#self check 6.3, use the given string and split it into tokens, then place those tokens into a set! Display set in sorted order!\n",
    "\n",
    "string = 'to be or not to be that is the question'\n",
    "split_string = string.split()\n",
    "set_string = set(split_string)\n",
    "sorted(set_string)"
   ]
  },
  {
   "cell_type": "code",
   "execution_count": 101,
   "id": "64b85c07-bf41-4faa-82c6-c33828c43754",
   "metadata": {},
   "outputs": [
    {
     "data": {
      "text/plain": [
       "True"
      ]
     },
     "execution_count": 101,
     "metadata": {},
     "output_type": "execute_result"
    }
   ],
   "source": [
    "#comparing sets!\n",
    "\n",
    "{1, 3, 5} == {3, 5, 1}"
   ]
  },
  {
   "cell_type": "code",
   "execution_count": 102,
   "id": "ef7d349e-3e88-4c4f-925c-699ff2fc1da4",
   "metadata": {},
   "outputs": [
    {
     "data": {
      "text/plain": [
       "False"
      ]
     },
     "execution_count": 102,
     "metadata": {},
     "output_type": "execute_result"
    }
   ],
   "source": [
    "{1, 3, 5} != {3, 5, 1}"
   ]
  },
  {
   "cell_type": "code",
   "execution_count": 103,
   "id": "0f60b021-aae1-417c-a9fd-010fb67f03d7",
   "metadata": {},
   "outputs": [
    {
     "data": {
      "text/plain": [
       "False"
      ]
     },
     "execution_count": 103,
     "metadata": {},
     "output_type": "execute_result"
    }
   ],
   "source": [
    "#checking for proper subset, set on left contains values in set of right but not all\n",
    "\n",
    "{1, 3, 5} < {3, 5, 1}"
   ]
  },
  {
   "cell_type": "code",
   "execution_count": 105,
   "id": "a6182d5f-87d4-4884-a2b8-774316ad9c70",
   "metadata": {},
   "outputs": [
    {
     "data": {
      "text/plain": [
       "True"
      ]
     },
     "execution_count": 105,
     "metadata": {},
     "output_type": "execute_result"
    }
   ],
   "source": [
    "{1, 3, 5} < {7, 3, 5, 1}\n",
    "#this is a proper subset!"
   ]
  },
  {
   "cell_type": "code",
   "execution_count": 106,
   "id": "99ea5c62-32a6-4677-a0d0-0c61a671f2d8",
   "metadata": {},
   "outputs": [
    {
     "data": {
      "text/plain": [
       "True"
      ]
     },
     "execution_count": 106,
     "metadata": {},
     "output_type": "execute_result"
    }
   ],
   "source": [
    "{1, 3, 5} <= {3, 5, 1}"
   ]
  },
  {
   "cell_type": "code",
   "execution_count": 107,
   "id": "c1e8ba51-0136-4c7b-9ebf-d4488660b84f",
   "metadata": {},
   "outputs": [
    {
     "data": {
      "text/plain": [
       "True"
      ]
     },
     "execution_count": 107,
     "metadata": {},
     "output_type": "execute_result"
    }
   ],
   "source": [
    "{3, 5} <= {3, 5, 1}"
   ]
  },
  {
   "cell_type": "code",
   "execution_count": 110,
   "id": "fd5bb58b-1727-4b0e-a3aa-7884e237034f",
   "metadata": {},
   "outputs": [
    {
     "data": {
      "text/plain": [
       "True"
      ]
     },
     "execution_count": 110,
     "metadata": {},
     "output_type": "execute_result"
    }
   ],
   "source": [
    "#invoking methods on a literal object!\n",
    "\n",
    "{1,3,5}.issubset({3,5,1})               #checks for improper subsets"
   ]
  },
  {
   "cell_type": "markdown",
   "id": "87d991db-7f1d-40c7-b327-b1ba9c209544",
   "metadata": {},
   "source": [
    "- improper subset: set that equals or has same elements as another set it is compared to\n",
    "- proper subset: set that had elements in the other set but not all\n",
    "\n",
    "- proper superset: the set on the right is a proper set of the one on the left\n",
    "- improper superset: the set on the right is a improper set of the one on the left"
   ]
  },
  {
   "cell_type": "code",
   "execution_count": 113,
   "id": "5f67f3b9-c73c-45e8-bf4f-1fb09c185db6",
   "metadata": {},
   "outputs": [
    {
     "data": {
      "text/plain": [
       "False"
      ]
     },
     "execution_count": 113,
     "metadata": {},
     "output_type": "execute_result"
    }
   ],
   "source": [
    "#superset check:\n",
    "{1, 3, 5} > {3, 5, 1}\n",
    "#improper superset"
   ]
  },
  {
   "cell_type": "code",
   "execution_count": 114,
   "id": "1a7baf64-467e-48d0-ae59-29a46937e7da",
   "metadata": {},
   "outputs": [
    {
     "data": {
      "text/plain": [
       "True"
      ]
     },
     "execution_count": 114,
     "metadata": {},
     "output_type": "execute_result"
    }
   ],
   "source": [
    "{1, 3, 5, 7} > {3, 5, 1}\n",
    "#proper superset"
   ]
  },
  {
   "cell_type": "code",
   "execution_count": 115,
   "id": "ad401530-683e-4a83-b865-891c474c0c1e",
   "metadata": {},
   "outputs": [
    {
     "data": {
      "text/plain": [
       "True"
      ]
     },
     "execution_count": 115,
     "metadata": {},
     "output_type": "execute_result"
    }
   ],
   "source": [
    "{1,3,5}.issuperset({3,5,1})"
   ]
  },
  {
   "cell_type": "code",
   "execution_count": 117,
   "id": "3ce82535-cf1c-4489-9331-1fb3e416f580",
   "metadata": {},
   "outputs": [
    {
     "data": {
      "text/plain": [
       "False"
      ]
     },
     "execution_count": 117,
     "metadata": {},
     "output_type": "execute_result"
    }
   ],
   "source": [
    "{1,3,5}.issuperset({3,5,1,7})"
   ]
  },
  {
   "cell_type": "code",
   "execution_count": 120,
   "id": "48c3b8ea-3fb4-43ba-abd9-e42ecc30efdc",
   "metadata": {},
   "outputs": [
    {
     "data": {
      "text/plain": [
       "True"
      ]
     },
     "execution_count": 120,
     "metadata": {},
     "output_type": "execute_result"
    }
   ],
   "source": [
    "#self check 6.3.1, check if given string1 is a superset of string2\n",
    "\n",
    "string1 = 'abc def hgi jkl mno'\n",
    "string2 = 'hi mom'\n",
    "\n",
    "set(string1).issuperset(string2)\n",
    "\n",
    "#the set() methods can take any sequence and make it a set automatically!"
   ]
  },
  {
   "cell_type": "code",
   "execution_count": 121,
   "id": "ccba6b8b-49e2-4c1e-96a6-240113955a03",
   "metadata": {},
   "outputs": [
    {
     "data": {
      "text/plain": [
       "{1, 2, 3, 4, 5}"
      ]
     },
     "execution_count": 121,
     "metadata": {},
     "output_type": "execute_result"
    }
   ],
   "source": [
    "#methods and operations for sets!\n",
    "\n",
    "#set union operation:\n",
    "{1,3,5} | {2,3,4}"
   ]
  },
  {
   "cell_type": "code",
   "execution_count": 123,
   "id": "a436b65d-bbf1-4ceb-a58c-ac70e61ca065",
   "metadata": {},
   "outputs": [
    {
     "data": {
      "text/plain": [
       "{1, 3, 5, 20, 40}"
      ]
     },
     "execution_count": 123,
     "metadata": {},
     "output_type": "execute_result"
    }
   ],
   "source": [
    "#set union method call:\n",
    "{1,3,5}.union([20,20,3,40,40])"
   ]
  },
  {
   "cell_type": "code",
   "execution_count": 125,
   "id": "24455765-df20-4242-b6f1-969b47664379",
   "metadata": {},
   "outputs": [
    {
     "data": {
      "text/plain": [
       "{3}"
      ]
     },
     "execution_count": 125,
     "metadata": {},
     "output_type": "execute_result"
    }
   ],
   "source": [
    "#works with other mathematical set operations!\n",
    "\n",
    "#set intersection operator:\n",
    "{1,3,5} & {2,3,4}"
   ]
  },
  {
   "cell_type": "code",
   "execution_count": 126,
   "id": "38c0887a-6774-4e1d-a853-94bdbc2e69af",
   "metadata": {},
   "outputs": [
    {
     "data": {
      "text/plain": [
       "{1, 2}"
      ]
     },
     "execution_count": 126,
     "metadata": {},
     "output_type": "execute_result"
    }
   ],
   "source": [
    "#set intersection method:\n",
    "{1,2,5}.intersection([1,2,2,3,3,4,4])"
   ]
  },
  {
   "cell_type": "code",
   "execution_count": 127,
   "id": "cefa3134-60c9-41bc-bd1b-e8b0dde80c65",
   "metadata": {},
   "outputs": [
    {
     "data": {
      "text/plain": [
       "{1, 5}"
      ]
     },
     "execution_count": 127,
     "metadata": {},
     "output_type": "execute_result"
    }
   ],
   "source": [
    "#difference between two sets, those in left not in right:\n",
    "{1,3,5} - {2,3,4}"
   ]
  },
  {
   "cell_type": "code",
   "execution_count": 129,
   "id": "b163d6ac-2c9e-440b-978e-8d505454e153",
   "metadata": {},
   "outputs": [
    {
     "data": {
      "text/plain": [
       "{1, 5, 7}"
      ]
     },
     "execution_count": 129,
     "metadata": {},
     "output_type": "execute_result"
    }
   ],
   "source": [
    "#difference method:\n",
    "{1,3,5,7}.difference([2,2,3,3,4,4])"
   ]
  },
  {
   "cell_type": "code",
   "execution_count": 130,
   "id": "b813f259-b65f-4b8c-8518-c4aedf9236aa",
   "metadata": {},
   "outputs": [
    {
     "data": {
      "text/plain": [
       "{1, 2, 4, 5}"
      ]
     },
     "execution_count": 130,
     "metadata": {},
     "output_type": "execute_result"
    }
   ],
   "source": [
    "#symmetric difference, all values not in common\n",
    "{1,3,5} ^ {2,3,4}"
   ]
  },
  {
   "cell_type": "code",
   "execution_count": 131,
   "id": "a983caf5-88ed-4e5a-bf37-532876895fe1",
   "metadata": {},
   "outputs": [
    {
     "data": {
      "text/plain": [
       "{1, 2, 4, 5, 7}"
      ]
     },
     "execution_count": 131,
     "metadata": {},
     "output_type": "execute_result"
    }
   ],
   "source": [
    "#symmetric difference method:\n",
    "{1,3,5,7}.symmetric_difference([2,2,3,3,4,4])"
   ]
  },
  {
   "cell_type": "code",
   "execution_count": 132,
   "id": "f95ce559-1fa7-4e79-8fa3-93ac5be0c2f0",
   "metadata": {},
   "outputs": [
    {
     "data": {
      "text/plain": [
       "True"
      ]
     },
     "execution_count": 132,
     "metadata": {},
     "output_type": "execute_result"
    }
   ],
   "source": [
    "#is disjoint method, are two sets disjoint? Do they have common items?\n",
    "{1,3,5}.isdisjoint({2,4,6})"
   ]
  },
  {
   "cell_type": "code",
   "execution_count": 133,
   "id": "4fdefc8b-ef59-486b-a9d3-757ece85ac55",
   "metadata": {},
   "outputs": [
    {
     "name": "stdout",
     "output_type": "stream",
     "text": [
      "{30}\n",
      "{5, 30, 15}\n",
      "{20, 5, 10, 30, 15}\n",
      "{10, 20}\n"
     ]
    }
   ],
   "source": [
    "#self check 6.3.2, use mathematical set operators ro combine both given sets and compute results\n",
    "\n",
    "set1 = {10, 20 ,30}\n",
    "set2 = {5, 10, 15, 20}\n",
    "\n",
    "difference = set1.difference(set2)\n",
    "print(difference)\n",
    "\n",
    "symmetric_difference = set1.symmetric_difference(set2)\n",
    "print(symmetric_difference)\n",
    "\n",
    "union = set1.union(set2)\n",
    "print(union)\n",
    "\n",
    "intersection = set1.intersection(set2)\n",
    "print(intersection)"
   ]
  },
  {
   "cell_type": "markdown",
   "id": "8f9f29fa-4c5b-4d5c-91d3-e4aac1461177",
   "metadata": {},
   "source": [
    "### Mutable Set Operators\n",
    "\n",
    "- |=  update\n",
    "- &=  intersection_update\n",
    "- -=  difference_update\n",
    "- ^= symmetric_difference_update\n",
    "\n",
    "- some mutable operations to change sets using other sets!\n",
    "- variables that refer to existing sets (can be applied to existing sequences!)\n"
   ]
  },
  {
   "cell_type": "code",
   "execution_count": 134,
   "id": "63fcaf92-767b-4f26-8139-53e518d81d54",
   "metadata": {},
   "outputs": [
    {
     "data": {
      "text/plain": [
       "{1, 2, 3, 4, 5}"
      ]
     },
     "execution_count": 134,
     "metadata": {},
     "output_type": "execute_result"
    }
   ],
   "source": [
    "numbers = {1, 3, 5}\n",
    "numbers |= {2,3,4}\n",
    "numbers"
   ]
  },
  {
   "cell_type": "code",
   "execution_count": 135,
   "id": "be17305c-aa33-45bd-b64c-3a556eae8a8b",
   "metadata": {},
   "outputs": [
    {
     "data": {
      "text/plain": [
       "{0, 1, 2, 3, 4, 5, 6, 7, 8, 9}"
      ]
     },
     "execution_count": 135,
     "metadata": {},
     "output_type": "execute_result"
    }
   ],
   "source": [
    "numbers.update(range(10))\n",
    "numbers"
   ]
  },
  {
   "cell_type": "code",
   "execution_count": 136,
   "id": "5a7ff578-e977-40ee-bdf6-5f4751c5a7f9",
   "metadata": {},
   "outputs": [
    {
     "data": {
      "text/plain": [
       "{0, 1, 2, 3, 4, 5, 6, 7, 8, 9, 17}"
      ]
     },
     "execution_count": 136,
     "metadata": {},
     "output_type": "execute_result"
    }
   ],
   "source": [
    "numbers.add(17)\n",
    "numbers"
   ]
  },
  {
   "cell_type": "code",
   "execution_count": 140,
   "id": "630144bc-354b-4574-8aed-49704714a65e",
   "metadata": {},
   "outputs": [
    {
     "data": {
      "text/plain": [
       "{0, 1, 2, 3, 4, 5, 6, 7, 8, 9, 17}"
      ]
     },
     "execution_count": 140,
     "metadata": {},
     "output_type": "execute_result"
    }
   ],
   "source": [
    "numbers.add(3)\n",
    "numbers"
   ]
  },
  {
   "cell_type": "code",
   "execution_count": 141,
   "id": "967d25a0-9315-455d-b3b8-305b50abc52c",
   "metadata": {},
   "outputs": [
    {
     "data": {
      "text/plain": [
       "{0, 1, 2, 4, 5, 6, 7, 8, 9, 17}"
      ]
     },
     "execution_count": 141,
     "metadata": {},
     "output_type": "execute_result"
    }
   ],
   "source": [
    "numbers.remove(3)\n",
    "numbers\n",
    "\n",
    "# will get key error if 3 isnt in set to be removed!"
   ]
  },
  {
   "cell_type": "code",
   "execution_count": 143,
   "id": "aed3a3ff-bdfe-4dd4-b38d-ce59a2c24157",
   "metadata": {},
   "outputs": [
    {
     "data": {
      "text/plain": [
       "{0, 1, 2, 4, 5, 6, 7, 8, 9, 17}"
      ]
     },
     "execution_count": 143,
     "metadata": {},
     "output_type": "execute_result"
    }
   ],
   "source": [
    "numbers.discard(3)\n",
    "numbers\n",
    "\n",
    "# discard is the same as remove but doesnt throw an exception if u already removed number!"
   ]
  },
  {
   "cell_type": "code",
   "execution_count": 144,
   "id": "25255864-c696-4aac-8ae0-4bc28120d07b",
   "metadata": {},
   "outputs": [
    {
     "data": {
      "text/plain": [
       "{1, 2, 4, 5, 6, 7, 8, 9, 17}"
      ]
     },
     "execution_count": 144,
     "metadata": {},
     "output_type": "execute_result"
    }
   ],
   "source": [
    "numbers.pop()\n",
    "numbers"
   ]
  },
  {
   "cell_type": "code",
   "execution_count": 145,
   "id": "eeac33f5-9466-4dc9-bdc8-91b135180deb",
   "metadata": {},
   "outputs": [
    {
     "data": {
      "text/plain": [
       "set()"
      ]
     },
     "execution_count": 145,
     "metadata": {},
     "output_type": "execute_result"
    }
   ],
   "source": [
    "numbers.clear()\n",
    "numbers"
   ]
  },
  {
   "cell_type": "code",
   "execution_count": 146,
   "id": "64ed9f2d-564f-4d6e-b646-574c6f16ba0c",
   "metadata": {},
   "outputs": [
    {
     "data": {
      "text/plain": [
       "{2, 4, 6, 8, 10}"
      ]
     },
     "execution_count": 146,
     "metadata": {},
     "output_type": "execute_result"
    }
   ],
   "source": [
    "#simple set comprehension!\n",
    "\n",
    "numbers = [1,2,2,3,4,5,6,6,7,8,9,10,10]\n",
    "evens = {item for item in numbers if item % 2 == 0}\n",
    "evens"
   ]
  },
  {
   "cell_type": "markdown",
   "id": "f54ab7f1-2dcf-4a3d-9daf-206fc1ee481d",
   "metadata": {},
   "source": [
    "### Dynamic Visualization\n",
    "\n",
    "- static visualization showed simulation completion, only the output\n",
    "- dynamic visualization updates live!\n",
    "- Matplotlib FuncAnimation updates visuals dynamically\n",
    "- FuncAnimation animates by fram, frame-by-frame animation\n",
    "- more frames per second result in more smooth animation\n",
    "- example with dice uses 33ms between frames (approx 30 FPS)"
   ]
  },
  {
   "cell_type": "code",
   "execution_count": 149,
   "id": "6a0a3131-9e11-4c77-b07c-a97d03327d20",
   "metadata": {},
   "outputs": [
    {
     "data": {
      "text/plain": [
       "<Figure size 432x288 with 0 Axes>"
      ]
     },
     "metadata": {},
     "output_type": "display_data"
    }
   ],
   "source": [
    "#Dynamic dice-rolling script!\n",
    "\"\"\"Dynamically graphing frequencies if die rolls\"\"\"\n",
    "\n",
    "from matplotlib import animation\n",
    "import matplotlib.pyplot as plt\n",
    "import random\n",
    "import seaborn as sns\n",
    "import sys\n",
    "\n",
    "def update(frame_number, rolls, faces, frequencies):\n",
    "    \"\"\"Configures bar plot contents for each animation frame.\"\"\"\n",
    "    # roll die and update frequencies \n",
    "    for i in range(rolls):\n",
    "        frequencies[random.randrange(1,7) - 1] += 1\n",
    "        \n",
    "    #reconfigure plot for updated die frequencies\n",
    "    plt.cla()  #clear old contents of current figure\n",
    "    axes = sns.barplot(faces, frequencies, palette = 'bright')  #new bars\n",
    "    axes.set_title(f'Die Frequencies for {sum(frequencies):,} Rolls')\n",
    "    axes.set(xlabel='Die Value', ylabel='Frequency')\n",
    "    axes.set_ylim(top=max(frequencies) * 1.10)   #scale y-axis by 10%\n",
    "    \n",
    "    #display frequency & percentage above each patch (bar)\n",
    "    for bar, frequency in zip(axes.patches, frequencies):\n",
    "        text_x = bar.get_x() + bar.get_width() / 2.0\n",
    "        text_y = bar.get_height()\n",
    "        text = f'{frequency:,}\\n{frequency / sum(frequencies):.3%}'\n",
    "        axes.text(text_x, text_y, text, ha='center', va='bottom')\n",
    "        \n",
    "# read command-line arguments for number of frames and rolls per frame\n",
    "number_of_frames = int(33)\n",
    "rolls_per_frame = int(6)\n",
    "\n",
    "sns.set_style('whitegrid')   #white grid background with gray grid lines\n",
    "figure = plt.figure('Rolling a Six-Sided Die')   # Figure for animation\n",
    "values = list(range(1, 7))     #die faces for display on x-axis\n",
    "frequencies = [0] * 6          #six-element list of die frequencies\n",
    "\n",
    "# configure and start animation that calls function update\n",
    "die_animation = animation.FuncAnimation(\n",
    "    figure, update, repeat=False, frames=number_of_frames, interval=33,\n",
    "    fargs=(rolls_per_frame, values, frequencies))\n",
    "\n",
    "plt.show() # display window"
   ]
  },
  {
   "cell_type": "code",
   "execution_count": null,
   "id": "c6eb26c0-5def-427a-98c4-002da9abaac9",
   "metadata": {},
   "outputs": [],
   "source": []
  }
 ],
 "metadata": {
  "kernelspec": {
   "display_name": "Python 3 (ipykernel)",
   "language": "python",
   "name": "python3"
  },
  "language_info": {
   "codemirror_mode": {
    "name": "ipython",
    "version": 3
   },
   "file_extension": ".py",
   "mimetype": "text/x-python",
   "name": "python",
   "nbconvert_exporter": "python",
   "pygments_lexer": "ipython3",
   "version": "3.8.11"
  }
 },
 "nbformat": 4,
 "nbformat_minor": 5
}
